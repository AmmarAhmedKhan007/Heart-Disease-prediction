{
 "cells": [
  {
   "cell_type": "markdown",
   "id": "f7ef12cc",
   "metadata": {
    "papermill": {
     "duration": 0.027834,
     "end_time": "2024-01-15T10:54:16.353474",
     "exception": false,
     "start_time": "2024-01-15T10:54:16.325640",
     "status": "completed"
    },
    "tags": []
   },
   "source": [
    "# `Heart Prediction Disease UCI dataset`"
   ]
  },
  {
   "cell_type": "markdown",
   "id": "c290f0ab",
   "metadata": {
    "papermill": {
     "duration": 0.027489,
     "end_time": "2024-01-15T10:54:16.408359",
     "exception": false,
     "start_time": "2024-01-15T10:54:16.380870",
     "status": "completed"
    },
    "tags": []
   },
   "source": [
    "Author: Ammar Ahmed\n",
    "\n",
    "Email: ammar07ahmed08@gmail.com\n",
    "\n",
    "Contact: [LinkedIn](https://www.linkedin.com/in/ammar-ahmed-1a719628a/)"
   ]
  },
  {
   "cell_type": "markdown",
   "id": "e7ff4696",
   "metadata": {
    "papermill": {
     "duration": 0.027207,
     "end_time": "2024-01-15T10:54:16.463872",
     "exception": false,
     "start_time": "2024-01-15T10:54:16.436665",
     "status": "completed"
    },
    "tags": []
   },
   "source": [
    "# `Goal of the Analysis`"
   ]
  },
  {
   "cell_type": "markdown",
   "id": "fbd139f1",
   "metadata": {
    "papermill": {
     "duration": 0.027414,
     "end_time": "2024-01-15T10:54:16.518580",
     "exception": false,
     "start_time": "2024-01-15T10:54:16.491166",
     "status": "completed"
    },
    "tags": []
   },
   "source": [
    "1. `Data Preparation:`\n",
    "\n",
    "    `Cleaning and Preprocessing:` \n",
    "    Ensure the dataset is free of inconsistencies, missing values, and outliers to improve model accuracy.\n",
    "\n",
    "    `Feature Engineering:`\n",
    "    Transform or create features to enhance model performance.\n",
    "\n",
    "    `Data Splitting:` \n",
    "    Divide the dataset into training and testing sets for model validation.\n",
    "\n",
    "2. `Exploratory Data Analysis (EDA):`\n",
    "    Gain insights into the data, understanding relationships and distributions that might influence model selection and performance.\n",
    "\n",
    "3. `Model Training:`\n",
    "    Selection of Models: Choose a diverse set of models to compare. This might include decision trees, random forest and XGboost\n",
    "\n",
    "\n",
    "4. `Model Evaluation and Comparison:`\n",
    "\n",
    "    `Evaluation Metrics:` \n",
    "    Utilize metrics such as accuracy, precision, recall, F1-score,to assess each model's performance.\n",
    "\n",
    "5. `Predictive Performance:`\n",
    "    Determine which model performs best on the test data based on the chosen evaluation metrics.\n",
    "\n",
    "6.  `Insights and Conclusion:`\n",
    "    Draw conclusions from the model comparisons and provide insights into which models are most effective for predicting heart disease in this specific dataset.\n"
   ]
  },
  {
   "cell_type": "markdown",
   "id": "c70c518c",
   "metadata": {
    "papermill": {
     "duration": 0.027003,
     "end_time": "2024-01-15T10:54:16.572924",
     "exception": false,
     "start_time": "2024-01-15T10:54:16.545921",
     "status": "completed"
    },
    "tags": []
   },
   "source": [
    "# Models to be trained\n",
    "\n",
    "I will be training the following models on the dataset:\n",
    "\n",
    "1. Decision Tree\n",
    "2. Random Forest\n",
    "3. XGBoost\n"
   ]
  },
  {
   "cell_type": "markdown",
   "id": "dc51103e",
   "metadata": {
    "papermill": {
     "duration": 0.027173,
     "end_time": "2024-01-15T10:54:16.687639",
     "exception": false,
     "start_time": "2024-01-15T10:54:16.660466",
     "status": "completed"
    },
    "tags": []
   },
   "source": [
    "# Evaluation Metrics:\n",
    "\n",
    "The performance of these models will be assessed using the following metrics, which are crucial for determining their effectiveness in a clinical setting:\n",
    "\n",
    "1. Accuracy Score\n",
    "2. Precision Score\n",
    "3. Recall Score\n",
    "4. F1 Score\n"
   ]
  },
  {
   "cell_type": "markdown",
   "id": "d8c5a143",
   "metadata": {
    "papermill": {
     "duration": 0.027022,
     "end_time": "2024-01-15T10:54:16.742373",
     "exception": false,
     "start_time": "2024-01-15T10:54:16.715351",
     "status": "completed"
    },
    "tags": []
   },
   "source": [
    "# `About the Dataset`"
   ]
  },
  {
   "cell_type": "markdown",
   "id": "fbac6ea7",
   "metadata": {
    "papermill": {
     "duration": 0.027115,
     "end_time": "2024-01-15T10:54:16.797092",
     "exception": false,
     "start_time": "2024-01-15T10:54:16.769977",
     "status": "completed"
    },
    "tags": []
   },
   "source": [
    "The UCI Heart Disease dataset comprises a series of attributes designed to forecast the likelihood of heart disease in individuals. Each record in this dataset corresponds to a distinct patient, with the columns detailing diverse health-related characteristics and the presence or absence of heart disease."
   ]
  },
  {
   "cell_type": "markdown",
   "id": "1651e31c",
   "metadata": {
    "papermill": {
     "duration": 0.027263,
     "end_time": "2024-01-15T10:54:16.852538",
     "exception": false,
     "start_time": "2024-01-15T10:54:16.825275",
     "status": "completed"
    },
    "tags": []
   },
   "source": [
    "### `Attribute Information:`"
   ]
  },
  {
   "cell_type": "markdown",
   "id": "bd3471b8",
   "metadata": {
    "papermill": {
     "duration": 0.027436,
     "end_time": "2024-01-15T10:54:16.907487",
     "exception": false,
     "start_time": "2024-01-15T10:54:16.880051",
     "status": "completed"
    },
    "tags": []
   },
   "source": [
    "1. id: (Unique id for each patient)\n",
    "\n",
    "2. age: (Age of the patient in years)\n",
    "   \n",
    "3. origin: (place of study)\n",
    "   \n",
    "4. sex: (Male/Female)\n",
    "   \n",
    "5. cp: chest pain type includes:\n",
    "      - typical angina\n",
    "      -  atypical angina\n",
    "      -  non-anginal\n",
    "      -  asymptomatic\n",
    "\n",
    "6. trestbps: resting blood pressure (in mm Hg on admission to the hospital)\n",
    "\n",
    "7. chol: Serum Cholesterol in mg/dl\n",
    "   \n",
    "8.  fbs: if fasting blood sugar > 120 mg/dl\n",
    "   \n",
    "9.  restecg: resting electrocardiographic results -- Values include:\n",
    "       - normal\n",
    "       - stt abnormality\n",
    "       - lv hypertrophy\n",
    "    \n",
    "10. thalach: maximum heart rate achieved\n",
    "    \n",
    "11. exang: exercise-induced angina (True/ False)\n",
    "    \n",
    "12. oldpeak: ST depression induced by exercise relative to rest\n",
    "    \n",
    "13. slope: the slope of the peak exercise ST segment\n",
    "    \n",
    "14. ca: number of major vessels (0-3) colored by fluoroscopy\n",
    "    \n",
    "15. thal: Thalassemia Categories includes\n",
    "       - normal\n",
    "       - fixed defect \n",
    "       - reversible defect\n",
    "    \n",
    "16. num: the predicted attribute diagnosis of heart disease "
   ]
  },
  {
   "cell_type": "markdown",
   "id": "d8d1e20f",
   "metadata": {
    "papermill": {
     "duration": 0.027983,
     "end_time": "2024-01-15T10:54:17.019937",
     "exception": false,
     "start_time": "2024-01-15T10:54:16.991954",
     "status": "completed"
    },
    "tags": []
   },
   "source": [
    "# `Importing Libraries`\n"
   ]
  },
  {
   "cell_type": "code",
   "execution_count": 1,
   "id": "064550d1",
   "metadata": {
    "execution": {
     "iopub.execute_input": "2024-01-15T10:54:17.078493Z",
     "iopub.status.busy": "2024-01-15T10:54:17.077548Z",
     "iopub.status.idle": "2024-01-15T10:54:21.251569Z",
     "shell.execute_reply": "2024-01-15T10:54:21.250177Z"
    },
    "papermill": {
     "duration": 4.206796,
     "end_time": "2024-01-15T10:54:21.254702",
     "exception": false,
     "start_time": "2024-01-15T10:54:17.047906",
     "status": "completed"
    },
    "tags": []
   },
   "outputs": [],
   "source": [
    "# import libraries\n",
    "import pandas as pd\n",
    "import numpy as np\n",
    "import matplotlib.pyplot as plt\n",
    "import seaborn as sns\n",
    "import plotly.express as px\n",
    "\n",
    "# import ML libraries\n",
    "from sklearn.model_selection import train_test_split\n",
    "from sklearn.svm import SVC\n",
    "from sklearn.neighbors import KNeighborsClassifier \n",
    "from sklearn.tree import DecisionTreeClassifier\n",
    "from sklearn.ensemble import RandomForestClassifier, RandomForestRegressor\n",
    "from xgboost import XGBClassifier\n",
    "\n",
    "# import metrics\n",
    "from sklearn.metrics import accuracy_score, precision_score, recall_score, f1_score, confusion_matrix,mean_absolute_error, mean_squared_error, r2_score\n",
    "\n",
    "\n",
    "# To preprocess the data\n",
    "from sklearn.preprocessing import StandardScaler, MinMaxScaler, LabelEncoder\n",
    "\n",
    "from sklearn.impute import SimpleImputer, KNNImputer\n",
    "# import iterative imputer\n",
    "from sklearn.experimental import enable_iterative_imputer\n",
    "from sklearn.impute import IterativeImputer\n",
    "\n",
    "# import warnings\n",
    "import warnings\n",
    "warnings.filterwarnings('ignore')\n"
   ]
  },
  {
   "cell_type": "markdown",
   "id": "5a2136ae",
   "metadata": {
    "papermill": {
     "duration": 0.027812,
     "end_time": "2024-01-15T10:54:21.310518",
     "exception": false,
     "start_time": "2024-01-15T10:54:21.282706",
     "status": "completed"
    },
    "tags": []
   },
   "source": [
    "# `Read the Data `"
   ]
  },
  {
   "cell_type": "code",
   "execution_count": 2,
   "id": "1a91d179",
   "metadata": {
    "execution": {
     "iopub.execute_input": "2024-01-15T10:54:21.368992Z",
     "iopub.status.busy": "2024-01-15T10:54:21.367814Z",
     "iopub.status.idle": "2024-01-15T10:54:21.406720Z",
     "shell.execute_reply": "2024-01-15T10:54:21.405545Z"
    },
    "papermill": {
     "duration": 0.070903,
     "end_time": "2024-01-15T10:54:21.409365",
     "exception": false,
     "start_time": "2024-01-15T10:54:21.338462",
     "status": "completed"
    },
    "tags": []
   },
   "outputs": [],
   "source": [
    "df = pd.read_csv('/kaggle/input/heart-disease-data/heart_disease_uci.csv')"
   ]
  },
  {
   "cell_type": "markdown",
   "id": "571c047b",
   "metadata": {
    "papermill": {
     "duration": 0.032155,
     "end_time": "2024-01-15T10:54:21.472015",
     "exception": false,
     "start_time": "2024-01-15T10:54:21.439860",
     "status": "completed"
    },
    "tags": []
   },
   "source": [
    "## `Data Overview`"
   ]
  },
  {
   "cell_type": "markdown",
   "id": "105a8527",
   "metadata": {
    "papermill": {
     "duration": 0.037963,
     "end_time": "2024-01-15T10:54:21.545115",
     "exception": false,
     "start_time": "2024-01-15T10:54:21.507152",
     "status": "completed"
    },
    "tags": []
   },
   "source": [
    "- Inspecting the dimensions of the dataset"
   ]
  },
  {
   "cell_type": "code",
   "execution_count": 3,
   "id": "955aa000",
   "metadata": {
    "execution": {
     "iopub.execute_input": "2024-01-15T10:54:21.604248Z",
     "iopub.status.busy": "2024-01-15T10:54:21.602765Z",
     "iopub.status.idle": "2024-01-15T10:54:21.639287Z",
     "shell.execute_reply": "2024-01-15T10:54:21.637802Z"
    },
    "papermill": {
     "duration": 0.068654,
     "end_time": "2024-01-15T10:54:21.641966",
     "exception": false,
     "start_time": "2024-01-15T10:54:21.573312",
     "status": "completed"
    },
    "tags": []
   },
   "outputs": [
    {
     "data": {
      "text/html": [
       "<div>\n",
       "<style scoped>\n",
       "    .dataframe tbody tr th:only-of-type {\n",
       "        vertical-align: middle;\n",
       "    }\n",
       "\n",
       "    .dataframe tbody tr th {\n",
       "        vertical-align: top;\n",
       "    }\n",
       "\n",
       "    .dataframe thead th {\n",
       "        text-align: right;\n",
       "    }\n",
       "</style>\n",
       "<table border=\"1\" class=\"dataframe\">\n",
       "  <thead>\n",
       "    <tr style=\"text-align: right;\">\n",
       "      <th></th>\n",
       "      <th>id</th>\n",
       "      <th>age</th>\n",
       "      <th>sex</th>\n",
       "      <th>dataset</th>\n",
       "      <th>cp</th>\n",
       "      <th>trestbps</th>\n",
       "      <th>chol</th>\n",
       "      <th>fbs</th>\n",
       "      <th>restecg</th>\n",
       "      <th>thalch</th>\n",
       "      <th>exang</th>\n",
       "      <th>oldpeak</th>\n",
       "      <th>slope</th>\n",
       "      <th>ca</th>\n",
       "      <th>thal</th>\n",
       "      <th>num</th>\n",
       "    </tr>\n",
       "  </thead>\n",
       "  <tbody>\n",
       "    <tr>\n",
       "      <th>0</th>\n",
       "      <td>1</td>\n",
       "      <td>63</td>\n",
       "      <td>Male</td>\n",
       "      <td>Cleveland</td>\n",
       "      <td>typical angina</td>\n",
       "      <td>145.0</td>\n",
       "      <td>233.0</td>\n",
       "      <td>True</td>\n",
       "      <td>lv hypertrophy</td>\n",
       "      <td>150.0</td>\n",
       "      <td>False</td>\n",
       "      <td>2.3</td>\n",
       "      <td>downsloping</td>\n",
       "      <td>0.0</td>\n",
       "      <td>fixed defect</td>\n",
       "      <td>0</td>\n",
       "    </tr>\n",
       "    <tr>\n",
       "      <th>1</th>\n",
       "      <td>2</td>\n",
       "      <td>67</td>\n",
       "      <td>Male</td>\n",
       "      <td>Cleveland</td>\n",
       "      <td>asymptomatic</td>\n",
       "      <td>160.0</td>\n",
       "      <td>286.0</td>\n",
       "      <td>False</td>\n",
       "      <td>lv hypertrophy</td>\n",
       "      <td>108.0</td>\n",
       "      <td>True</td>\n",
       "      <td>1.5</td>\n",
       "      <td>flat</td>\n",
       "      <td>3.0</td>\n",
       "      <td>normal</td>\n",
       "      <td>2</td>\n",
       "    </tr>\n",
       "    <tr>\n",
       "      <th>2</th>\n",
       "      <td>3</td>\n",
       "      <td>67</td>\n",
       "      <td>Male</td>\n",
       "      <td>Cleveland</td>\n",
       "      <td>asymptomatic</td>\n",
       "      <td>120.0</td>\n",
       "      <td>229.0</td>\n",
       "      <td>False</td>\n",
       "      <td>lv hypertrophy</td>\n",
       "      <td>129.0</td>\n",
       "      <td>True</td>\n",
       "      <td>2.6</td>\n",
       "      <td>flat</td>\n",
       "      <td>2.0</td>\n",
       "      <td>reversable defect</td>\n",
       "      <td>1</td>\n",
       "    </tr>\n",
       "    <tr>\n",
       "      <th>3</th>\n",
       "      <td>4</td>\n",
       "      <td>37</td>\n",
       "      <td>Male</td>\n",
       "      <td>Cleveland</td>\n",
       "      <td>non-anginal</td>\n",
       "      <td>130.0</td>\n",
       "      <td>250.0</td>\n",
       "      <td>False</td>\n",
       "      <td>normal</td>\n",
       "      <td>187.0</td>\n",
       "      <td>False</td>\n",
       "      <td>3.5</td>\n",
       "      <td>downsloping</td>\n",
       "      <td>0.0</td>\n",
       "      <td>normal</td>\n",
       "      <td>0</td>\n",
       "    </tr>\n",
       "    <tr>\n",
       "      <th>4</th>\n",
       "      <td>5</td>\n",
       "      <td>41</td>\n",
       "      <td>Female</td>\n",
       "      <td>Cleveland</td>\n",
       "      <td>atypical angina</td>\n",
       "      <td>130.0</td>\n",
       "      <td>204.0</td>\n",
       "      <td>False</td>\n",
       "      <td>lv hypertrophy</td>\n",
       "      <td>172.0</td>\n",
       "      <td>False</td>\n",
       "      <td>1.4</td>\n",
       "      <td>upsloping</td>\n",
       "      <td>0.0</td>\n",
       "      <td>normal</td>\n",
       "      <td>0</td>\n",
       "    </tr>\n",
       "  </tbody>\n",
       "</table>\n",
       "</div>"
      ],
      "text/plain": [
       "   id  age     sex    dataset               cp  trestbps   chol    fbs  \\\n",
       "0   1   63    Male  Cleveland   typical angina     145.0  233.0   True   \n",
       "1   2   67    Male  Cleveland     asymptomatic     160.0  286.0  False   \n",
       "2   3   67    Male  Cleveland     asymptomatic     120.0  229.0  False   \n",
       "3   4   37    Male  Cleveland      non-anginal     130.0  250.0  False   \n",
       "4   5   41  Female  Cleveland  atypical angina     130.0  204.0  False   \n",
       "\n",
       "          restecg  thalch  exang  oldpeak        slope   ca  \\\n",
       "0  lv hypertrophy   150.0  False      2.3  downsloping  0.0   \n",
       "1  lv hypertrophy   108.0   True      1.5         flat  3.0   \n",
       "2  lv hypertrophy   129.0   True      2.6         flat  2.0   \n",
       "3          normal   187.0  False      3.5  downsloping  0.0   \n",
       "4  lv hypertrophy   172.0  False      1.4    upsloping  0.0   \n",
       "\n",
       "                thal  num  \n",
       "0       fixed defect    0  \n",
       "1             normal    2  \n",
       "2  reversable defect    1  \n",
       "3             normal    0  \n",
       "4             normal    0  "
      ]
     },
     "execution_count": 3,
     "metadata": {},
     "output_type": "execute_result"
    }
   ],
   "source": [
    "df.head()"
   ]
  },
  {
   "cell_type": "code",
   "execution_count": 4,
   "id": "d589119b",
   "metadata": {
    "execution": {
     "iopub.execute_input": "2024-01-15T10:54:21.701198Z",
     "iopub.status.busy": "2024-01-15T10:54:21.700205Z",
     "iopub.status.idle": "2024-01-15T10:54:21.707730Z",
     "shell.execute_reply": "2024-01-15T10:54:21.706034Z"
    },
    "papermill": {
     "duration": 0.040182,
     "end_time": "2024-01-15T10:54:21.710326",
     "exception": false,
     "start_time": "2024-01-15T10:54:21.670144",
     "status": "completed"
    },
    "tags": []
   },
   "outputs": [
    {
     "name": "stdout",
     "output_type": "stream",
     "text": [
      "There are 920 patients and 16 features in the dataset.\n"
     ]
    }
   ],
   "source": [
    "df.shape\n",
    "print(f\"There are {df.shape[0]} patients and {df.shape[1]} features in the dataset.\")"
   ]
  },
  {
   "cell_type": "code",
   "execution_count": 5,
   "id": "d902e41e",
   "metadata": {
    "execution": {
     "iopub.execute_input": "2024-01-15T10:54:21.769515Z",
     "iopub.status.busy": "2024-01-15T10:54:21.769040Z",
     "iopub.status.idle": "2024-01-15T10:54:21.777536Z",
     "shell.execute_reply": "2024-01-15T10:54:21.776019Z"
    },
    "papermill": {
     "duration": 0.041221,
     "end_time": "2024-01-15T10:54:21.780057",
     "exception": false,
     "start_time": "2024-01-15T10:54:21.738836",
     "status": "completed"
    },
    "tags": []
   },
   "outputs": [
    {
     "data": {
      "text/plain": [
       "Index(['id', 'age', 'sex', 'dataset', 'cp', 'trestbps', 'chol', 'fbs',\n",
       "       'restecg', 'thalch', 'exang', 'oldpeak', 'slope', 'ca', 'thal', 'num'],\n",
       "      dtype='object')"
      ]
     },
     "execution_count": 5,
     "metadata": {},
     "output_type": "execute_result"
    }
   ],
   "source": [
    "df.columns"
   ]
  },
  {
   "cell_type": "code",
   "execution_count": 6,
   "id": "b3398e2f",
   "metadata": {
    "execution": {
     "iopub.execute_input": "2024-01-15T10:54:21.839304Z",
     "iopub.status.busy": "2024-01-15T10:54:21.838835Z",
     "iopub.status.idle": "2024-01-15T10:54:21.869940Z",
     "shell.execute_reply": "2024-01-15T10:54:21.868383Z"
    },
    "papermill": {
     "duration": 0.06393,
     "end_time": "2024-01-15T10:54:21.872650",
     "exception": false,
     "start_time": "2024-01-15T10:54:21.808720",
     "status": "completed"
    },
    "tags": []
   },
   "outputs": [
    {
     "name": "stdout",
     "output_type": "stream",
     "text": [
      "<class 'pandas.core.frame.DataFrame'>\n",
      "RangeIndex: 920 entries, 0 to 919\n",
      "Data columns (total 16 columns):\n",
      " #   Column    Non-Null Count  Dtype  \n",
      "---  ------    --------------  -----  \n",
      " 0   id        920 non-null    int64  \n",
      " 1   age       920 non-null    int64  \n",
      " 2   sex       920 non-null    object \n",
      " 3   dataset   920 non-null    object \n",
      " 4   cp        920 non-null    object \n",
      " 5   trestbps  861 non-null    float64\n",
      " 6   chol      890 non-null    float64\n",
      " 7   fbs       830 non-null    object \n",
      " 8   restecg   918 non-null    object \n",
      " 9   thalch    865 non-null    float64\n",
      " 10  exang     865 non-null    object \n",
      " 11  oldpeak   858 non-null    float64\n",
      " 12  slope     611 non-null    object \n",
      " 13  ca        309 non-null    float64\n",
      " 14  thal      434 non-null    object \n",
      " 15  num       920 non-null    int64  \n",
      "dtypes: float64(5), int64(3), object(8)\n",
      "memory usage: 115.1+ KB\n"
     ]
    }
   ],
   "source": [
    "df.info()"
   ]
  },
  {
   "cell_type": "markdown",
   "id": "df69f8a8",
   "metadata": {
    "papermill": {
     "duration": 0.02894,
     "end_time": "2024-01-15T10:54:21.930044",
     "exception": false,
     "start_time": "2024-01-15T10:54:21.901104",
     "status": "completed"
    },
    "tags": []
   },
   "source": [
    "#### Statistical Summary of the Dataset"
   ]
  },
  {
   "cell_type": "code",
   "execution_count": 7,
   "id": "94af51f8",
   "metadata": {
    "execution": {
     "iopub.execute_input": "2024-01-15T10:54:21.998581Z",
     "iopub.status.busy": "2024-01-15T10:54:21.997753Z",
     "iopub.status.idle": "2024-01-15T10:54:22.038206Z",
     "shell.execute_reply": "2024-01-15T10:54:22.037114Z"
    },
    "papermill": {
     "duration": 0.077465,
     "end_time": "2024-01-15T10:54:22.040938",
     "exception": false,
     "start_time": "2024-01-15T10:54:21.963473",
     "status": "completed"
    },
    "tags": []
   },
   "outputs": [
    {
     "data": {
      "text/html": [
       "<div>\n",
       "<style scoped>\n",
       "    .dataframe tbody tr th:only-of-type {\n",
       "        vertical-align: middle;\n",
       "    }\n",
       "\n",
       "    .dataframe tbody tr th {\n",
       "        vertical-align: top;\n",
       "    }\n",
       "\n",
       "    .dataframe thead th {\n",
       "        text-align: right;\n",
       "    }\n",
       "</style>\n",
       "<table border=\"1\" class=\"dataframe\">\n",
       "  <thead>\n",
       "    <tr style=\"text-align: right;\">\n",
       "      <th></th>\n",
       "      <th>id</th>\n",
       "      <th>age</th>\n",
       "      <th>trestbps</th>\n",
       "      <th>chol</th>\n",
       "      <th>thalch</th>\n",
       "      <th>oldpeak</th>\n",
       "      <th>ca</th>\n",
       "      <th>num</th>\n",
       "    </tr>\n",
       "  </thead>\n",
       "  <tbody>\n",
       "    <tr>\n",
       "      <th>count</th>\n",
       "      <td>920.000000</td>\n",
       "      <td>920.000000</td>\n",
       "      <td>861.000000</td>\n",
       "      <td>890.000000</td>\n",
       "      <td>865.000000</td>\n",
       "      <td>858.000000</td>\n",
       "      <td>309.000000</td>\n",
       "      <td>920.000000</td>\n",
       "    </tr>\n",
       "    <tr>\n",
       "      <th>mean</th>\n",
       "      <td>460.500000</td>\n",
       "      <td>53.510870</td>\n",
       "      <td>132.132404</td>\n",
       "      <td>199.130337</td>\n",
       "      <td>137.545665</td>\n",
       "      <td>0.878788</td>\n",
       "      <td>0.676375</td>\n",
       "      <td>0.995652</td>\n",
       "    </tr>\n",
       "    <tr>\n",
       "      <th>std</th>\n",
       "      <td>265.725422</td>\n",
       "      <td>9.424685</td>\n",
       "      <td>19.066070</td>\n",
       "      <td>110.780810</td>\n",
       "      <td>25.926276</td>\n",
       "      <td>1.091226</td>\n",
       "      <td>0.935653</td>\n",
       "      <td>1.142693</td>\n",
       "    </tr>\n",
       "    <tr>\n",
       "      <th>min</th>\n",
       "      <td>1.000000</td>\n",
       "      <td>28.000000</td>\n",
       "      <td>0.000000</td>\n",
       "      <td>0.000000</td>\n",
       "      <td>60.000000</td>\n",
       "      <td>-2.600000</td>\n",
       "      <td>0.000000</td>\n",
       "      <td>0.000000</td>\n",
       "    </tr>\n",
       "    <tr>\n",
       "      <th>25%</th>\n",
       "      <td>230.750000</td>\n",
       "      <td>47.000000</td>\n",
       "      <td>120.000000</td>\n",
       "      <td>175.000000</td>\n",
       "      <td>120.000000</td>\n",
       "      <td>0.000000</td>\n",
       "      <td>0.000000</td>\n",
       "      <td>0.000000</td>\n",
       "    </tr>\n",
       "    <tr>\n",
       "      <th>50%</th>\n",
       "      <td>460.500000</td>\n",
       "      <td>54.000000</td>\n",
       "      <td>130.000000</td>\n",
       "      <td>223.000000</td>\n",
       "      <td>140.000000</td>\n",
       "      <td>0.500000</td>\n",
       "      <td>0.000000</td>\n",
       "      <td>1.000000</td>\n",
       "    </tr>\n",
       "    <tr>\n",
       "      <th>75%</th>\n",
       "      <td>690.250000</td>\n",
       "      <td>60.000000</td>\n",
       "      <td>140.000000</td>\n",
       "      <td>268.000000</td>\n",
       "      <td>157.000000</td>\n",
       "      <td>1.500000</td>\n",
       "      <td>1.000000</td>\n",
       "      <td>2.000000</td>\n",
       "    </tr>\n",
       "    <tr>\n",
       "      <th>max</th>\n",
       "      <td>920.000000</td>\n",
       "      <td>77.000000</td>\n",
       "      <td>200.000000</td>\n",
       "      <td>603.000000</td>\n",
       "      <td>202.000000</td>\n",
       "      <td>6.200000</td>\n",
       "      <td>3.000000</td>\n",
       "      <td>4.000000</td>\n",
       "    </tr>\n",
       "  </tbody>\n",
       "</table>\n",
       "</div>"
      ],
      "text/plain": [
       "               id         age    trestbps        chol      thalch     oldpeak  \\\n",
       "count  920.000000  920.000000  861.000000  890.000000  865.000000  858.000000   \n",
       "mean   460.500000   53.510870  132.132404  199.130337  137.545665    0.878788   \n",
       "std    265.725422    9.424685   19.066070  110.780810   25.926276    1.091226   \n",
       "min      1.000000   28.000000    0.000000    0.000000   60.000000   -2.600000   \n",
       "25%    230.750000   47.000000  120.000000  175.000000  120.000000    0.000000   \n",
       "50%    460.500000   54.000000  130.000000  223.000000  140.000000    0.500000   \n",
       "75%    690.250000   60.000000  140.000000  268.000000  157.000000    1.500000   \n",
       "max    920.000000   77.000000  200.000000  603.000000  202.000000    6.200000   \n",
       "\n",
       "               ca         num  \n",
       "count  309.000000  920.000000  \n",
       "mean     0.676375    0.995652  \n",
       "std      0.935653    1.142693  \n",
       "min      0.000000    0.000000  \n",
       "25%      0.000000    0.000000  \n",
       "50%      0.000000    1.000000  \n",
       "75%      1.000000    2.000000  \n",
       "max      3.000000    4.000000  "
      ]
     },
     "execution_count": 7,
     "metadata": {},
     "output_type": "execute_result"
    }
   ],
   "source": [
    "# Generating a statistical summary of the dataset\n",
    "statistical_summary = df.describe()\n",
    "statistical_summary"
   ]
  },
  {
   "cell_type": "markdown",
   "id": "003cdf16",
   "metadata": {
    "papermill": {
     "duration": 0.029079,
     "end_time": "2024-01-15T10:54:22.099089",
     "exception": false,
     "start_time": "2024-01-15T10:54:22.070010",
     "status": "completed"
    },
    "tags": []
   },
   "source": [
    "---\n",
    "\n",
    "    Observations:\n",
    "\n",
    "- The dataset consists of 920 entries, indicating there are 920 patient's records.\n",
    "- There are 16 columns in total.\n",
    "- These columns are a mix of numerical (int64 and float64) and categorical (object) data types.\n",
    "- There are missing values in the dataset, as indicated by the non-null values in each column which we will deal later after exploring different columns just to get a better understanding of the dataset.\n",
    "\n",
    "--- "
   ]
  },
  {
   "cell_type": "markdown",
   "id": "3ea0e789",
   "metadata": {
    "papermill": {
     "duration": 0.02846,
     "end_time": "2024-01-15T10:54:22.157738",
     "exception": false,
     "start_time": "2024-01-15T10:54:22.129278",
     "status": "completed"
    },
    "tags": []
   },
   "source": [
    "# 1. `Exploring Different Columns:` "
   ]
  },
  {
   "cell_type": "markdown",
   "id": "029a8bba",
   "metadata": {
    "papermill": {
     "duration": 0.028509,
     "end_time": "2024-01-15T10:54:22.215186",
     "exception": false,
     "start_time": "2024-01-15T10:54:22.186677",
     "status": "completed"
    },
    "tags": []
   },
   "source": [
    "# - Target Column"
   ]
  },
  {
   "cell_type": "markdown",
   "id": "209685fa",
   "metadata": {
    "papermill": {
     "duration": 0.028472,
     "end_time": "2024-01-15T10:54:22.272733",
     "exception": false,
     "start_time": "2024-01-15T10:54:22.244261",
     "status": "completed"
    },
    "tags": []
   },
   "source": [
    "First, let's explore our target variable, num, which indicates whether or not a patient has heart disease."
   ]
  },
  {
   "cell_type": "code",
   "execution_count": 8,
   "id": "54d0d9aa",
   "metadata": {
    "execution": {
     "iopub.execute_input": "2024-01-15T10:54:22.333616Z",
     "iopub.status.busy": "2024-01-15T10:54:22.333224Z",
     "iopub.status.idle": "2024-01-15T10:54:22.340182Z",
     "shell.execute_reply": "2024-01-15T10:54:22.338876Z"
    },
    "papermill": {
     "duration": 0.041407,
     "end_time": "2024-01-15T10:54:22.343032",
     "exception": false,
     "start_time": "2024-01-15T10:54:22.301625",
     "status": "completed"
    },
    "tags": []
   },
   "outputs": [
    {
     "name": "stdout",
     "output_type": "stream",
     "text": [
      "num\n",
      "0    411\n",
      "1    265\n",
      "2    109\n",
      "3    107\n",
      "4     28\n",
      "Name: count, dtype: int64\n"
     ]
    }
   ],
   "source": [
    "num = df['num'].value_counts()\n",
    "print(num)"
   ]
  },
  {
   "cell_type": "code",
   "execution_count": 9,
   "id": "334f1959",
   "metadata": {
    "execution": {
     "iopub.execute_input": "2024-01-15T10:54:22.403910Z",
     "iopub.status.busy": "2024-01-15T10:54:22.403346Z",
     "iopub.status.idle": "2024-01-15T10:54:22.783676Z",
     "shell.execute_reply": "2024-01-15T10:54:22.782313Z"
    },
    "papermill": {
     "duration": 0.414683,
     "end_time": "2024-01-15T10:54:22.787021",
     "exception": false,
     "start_time": "2024-01-15T10:54:22.372338",
     "status": "completed"
    },
    "tags": []
   },
   "outputs": [
    {
     "data": {
      "text/plain": [
       "Text(0.5, 1.0, 'Heart Disease Frequency')"
      ]
     },
     "execution_count": 9,
     "metadata": {},
     "output_type": "execute_result"
    },
    {
     "data": {
      "image/png": "[encoded data removed]",
      "text/plain": [
       "<Figure size 1000x600 with 1 Axes>"
      ]
     },
     "metadata": {},
     "output_type": "display_data"
    }
   ],
   "source": [
    "# plot\n",
    "plt.figure(figsize=(10,6))\n",
    "sns.countplot(x='num',data=df, palette='Set2')\n",
    "plt.title('Heart Disease Frequency')"
   ]
  },
  {
   "cell_type": "markdown",
   "id": "bcf57e90",
   "metadata": {
    "papermill": {
     "duration": 0.030516,
     "end_time": "2024-01-15T10:54:22.848244",
     "exception": false,
     "start_time": "2024-01-15T10:54:22.817728",
     "status": "completed"
    },
    "tags": []
   },
   "source": [
    "---\n",
    "Observations :\n",
    "\n",
    "The target variable in this dataset is `num`, which represents the diagnosis of heart disease. The values in this variable and their counts are as follows:\n",
    "\n",
    "- 0: 411 instances - Likely representing no presence of heart disease.\n",
    "- 1: 265 instances - Indicating a certain level or type of heart disease.\n",
    "- 2: 109 instances - Representing a different level or type of heart disease.\n",
    "- 3: 107 instances - Another level or type of heart disease.\n",
    "- 4: 28 instances - Yet another level or type of heart disease.\n",
    "\n",
    "\n",
    "It appears that `num` is not just a binary indicator (presence or absence of heart disease) but rather seems to categorize the disease into different levels or types, with '0' possibly indicating the absence of disease. This understanding is important for modeling, as it suggests that the task could be a multi-class classification problem.\n",
    "\n",
    "\n",
    "---\n"
   ]
  },
  {
   "cell_type": "markdown",
   "id": "19bd3c51",
   "metadata": {
    "papermill": {
     "duration": 0.030499,
     "end_time": "2024-01-15T10:54:22.909652",
     "exception": false,
     "start_time": "2024-01-15T10:54:22.879153",
     "status": "completed"
    },
    "tags": []
   },
   "source": [
    "# - Age Column"
   ]
  },
  {
   "cell_type": "code",
   "execution_count": 10,
   "id": "c5fa5cb6",
   "metadata": {
    "execution": {
     "iopub.execute_input": "2024-01-15T10:54:22.977367Z",
     "iopub.status.busy": "2024-01-15T10:54:22.976043Z",
     "iopub.status.idle": "2024-01-15T10:54:22.984399Z",
     "shell.execute_reply": "2024-01-15T10:54:22.983567Z"
    },
    "papermill": {
     "duration": 0.047179,
     "end_time": "2024-01-15T10:54:22.987475",
     "exception": false,
     "start_time": "2024-01-15T10:54:22.940296",
     "status": "completed"
    },
    "tags": []
   },
   "outputs": [
    {
     "name": "stdout",
     "output_type": "stream",
     "text": [
      "OBSERVATION: \n",
      "---\n",
      "Max age of the patient: 77\n",
      "Min age of the patient: 28\n",
      "So, the age of the patient is between 28 and 77\n"
     ]
    }
   ],
   "source": [
    "max_age= df['age'].max()\n",
    "min_age= df['age'].min()\n",
    "print(\"Observation: \".upper())\n",
    "print(\"---\")\n",
    "print(f\"Max age of the patient: {max_age}\")\n",
    "print(f'Min age of the patient: {min_age}')\n",
    "print(f\"So, the age of the patient is between {min_age} and {max_age}\")"
   ]
  },
  {
   "cell_type": "code",
   "execution_count": 11,
   "id": "6138983f",
   "metadata": {
    "execution": {
     "iopub.execute_input": "2024-01-15T10:54:23.054203Z",
     "iopub.status.busy": "2024-01-15T10:54:23.053764Z",
     "iopub.status.idle": "2024-01-15T10:54:23.636317Z",
     "shell.execute_reply": "2024-01-15T10:54:23.635012Z"
    },
    "papermill": {
     "duration": 0.618612,
     "end_time": "2024-01-15T10:54:23.639237",
     "exception": false,
     "start_time": "2024-01-15T10:54:23.020625",
     "status": "completed"
    },
    "tags": []
   },
   "outputs": [
    {
     "data": {
      "text/plain": [
       "Text(0.5, 1.0, 'Distribution of Age')"
      ]
     },
     "execution_count": 11,
     "metadata": {},
     "output_type": "execute_result"
    },
    {
     "data": {
      "image/png": "[encoded data removed]",
      "text/plain": [
       "<Figure size 1000x600 with 1 Axes>"
      ]
     },
     "metadata": {},
     "output_type": "display_data"
    }
   ],
   "source": [
    "# plot\n",
    "plt.figure(figsize=(10,6))\n",
    "sns.histplot(df['age'], color='#0cc4a9', bins=50)\n",
    "plt.title('Distribution of Age')"
   ]
  },
  {
   "cell_type": "markdown",
   "id": "5da86e30",
   "metadata": {
    "papermill": {
     "duration": 0.029996,
     "end_time": "2024-01-15T10:54:23.700114",
     "exception": false,
     "start_time": "2024-01-15T10:54:23.670118",
     "status": "completed"
    },
    "tags": []
   },
   "source": [
    "# - CP (chest pain) Column:"
   ]
  },
  {
   "cell_type": "code",
   "execution_count": 12,
   "id": "96efc9f3",
   "metadata": {
    "execution": {
     "iopub.execute_input": "2024-01-15T10:54:23.763057Z",
     "iopub.status.busy": "2024-01-15T10:54:23.762654Z",
     "iopub.status.idle": "2024-01-15T10:54:23.771702Z",
     "shell.execute_reply": "2024-01-15T10:54:23.770667Z"
    },
    "papermill": {
     "duration": 0.043911,
     "end_time": "2024-01-15T10:54:23.774660",
     "exception": false,
     "start_time": "2024-01-15T10:54:23.730749",
     "status": "completed"
    },
    "tags": []
   },
   "outputs": [
    {
     "data": {
      "text/plain": [
       "cp\n",
       "asymptomatic       496\n",
       "non-anginal        204\n",
       "atypical angina    174\n",
       "typical angina      46\n",
       "Name: count, dtype: int64"
      ]
     },
     "execution_count": 12,
     "metadata": {},
     "output_type": "execute_result"
    }
   ],
   "source": [
    "df['cp'].value_counts()"
   ]
  },
  {
   "cell_type": "code",
   "execution_count": 13,
   "id": "584353a7",
   "metadata": {
    "execution": {
     "iopub.execute_input": "2024-01-15T10:54:23.842322Z",
     "iopub.status.busy": "2024-01-15T10:54:23.841561Z",
     "iopub.status.idle": "2024-01-15T10:54:24.168932Z",
     "shell.execute_reply": "2024-01-15T10:54:24.167507Z"
    },
    "papermill": {
     "duration": 0.364293,
     "end_time": "2024-01-15T10:54:24.171856",
     "exception": false,
     "start_time": "2024-01-15T10:54:23.807563",
     "status": "completed"
    },
    "tags": []
   },
   "outputs": [
    {
     "data": {
      "text/plain": [
       "Text(0.5, 1.0, 'Chest Pain Type')"
      ]
     },
     "execution_count": 13,
     "metadata": {},
     "output_type": "execute_result"
    },
    {
     "data": {
      "image/png": "[encoded data removed]",
      "text/plain": [
       "<Figure size 1000x600 with 1 Axes>"
      ]
     },
     "metadata": {},
     "output_type": "display_data"
    }
   ],
   "source": [
    "# plot\n",
    "plt.figure(figsize=(10,6))\n",
    "sns.countplot(x='cp',data=df, palette='Set2')\n",
    "plt.title('Chest Pain Type')"
   ]
  },
  {
   "cell_type": "markdown",
   "id": "c8c63289",
   "metadata": {
    "papermill": {
     "duration": 0.032709,
     "end_time": "2024-01-15T10:54:24.237177",
     "exception": false,
     "start_time": "2024-01-15T10:54:24.204468",
     "status": "completed"
    },
    "tags": []
   },
   "source": [
    "---\n",
    "\n",
    "#### Clinical Relevance:\n",
    "\n",
    "`Asymptomatic:`\n",
    "\n",
    "This indicates the absence of chest pain or discomfort, even in the presence of heart disease. Some individuals with heart disease do not experience the typical chest pain symptoms.\n",
    "\n",
    "`Non-Anginal Pain:`\n",
    "\n",
    "This refers to chest pain that is not related to heart disease. It might be caused by other factors such as muscular issues, gastrointestinal problems, or other non-cardiac conditions.\n",
    "\n",
    "`Atypical Angina:`\n",
    "\n",
    "This type of chest pain is similar to typical angina but differs in its characteristics, such as duration, intensity, or triggers. It may not always follow the classic pattern of typical angina.\n",
    "\n",
    "\n",
    "`Typical Angina:`\n",
    "\n",
    "The most common type of chest pain associated with heart disease, typically triggered by physical activity or stress and relieved by rest or medication like nitroglycerin. It's often described as a feeling of pressure or squeezing in the chest.\n",
    "\n",
    "\n",
    "\n",
    "\n",
    "Each type of chest pain provides valuable information regarding the likelihood and nature of heart disease in a patient."
   ]
  },
  {
   "cell_type": "markdown",
   "id": "a52a56ab",
   "metadata": {
    "papermill": {
     "duration": 0.032533,
     "end_time": "2024-01-15T10:54:24.303064",
     "exception": false,
     "start_time": "2024-01-15T10:54:24.270531",
     "status": "completed"
    },
    "tags": []
   },
   "source": [
    "# - Trestbps (resting blood pressure) Column:"
   ]
  },
  {
   "cell_type": "code",
   "execution_count": 14,
   "id": "142864e9",
   "metadata": {
    "execution": {
     "iopub.execute_input": "2024-01-15T10:54:24.374587Z",
     "iopub.status.busy": "2024-01-15T10:54:24.374061Z",
     "iopub.status.idle": "2024-01-15T10:54:24.384188Z",
     "shell.execute_reply": "2024-01-15T10:54:24.382478Z"
    },
    "papermill": {
     "duration": 0.048359,
     "end_time": "2024-01-15T10:54:24.386672",
     "exception": false,
     "start_time": "2024-01-15T10:54:24.338313",
     "status": "completed"
    },
    "tags": []
   },
   "outputs": [
    {
     "name": "stdout",
     "output_type": "stream",
     "text": [
      "OBSERVATION: \n",
      "---\n",
      "Max trestbps of the patient: 200.0\n",
      "Min trestbps of the patient: 0.0\n"
     ]
    }
   ],
   "source": [
    "max_trestbps = df['trestbps'].max()\n",
    "min_trestbps= df['trestbps'].min()\n",
    "print(\"Observation: \".upper())\n",
    "print(\"---\")\n",
    "print(f\"Max trestbps of the patient: {max_trestbps}\")\n",
    "print(f'Min trestbps of the patient: {min_trestbps}')"
   ]
  },
  {
   "cell_type": "code",
   "execution_count": 15,
   "id": "7b4ca4d4",
   "metadata": {
    "execution": {
     "iopub.execute_input": "2024-01-15T10:54:24.455904Z",
     "iopub.status.busy": "2024-01-15T10:54:24.455450Z",
     "iopub.status.idle": "2024-01-15T10:54:24.944490Z",
     "shell.execute_reply": "2024-01-15T10:54:24.943272Z"
    },
    "papermill": {
     "duration": 0.528102,
     "end_time": "2024-01-15T10:54:24.947855",
     "exception": false,
     "start_time": "2024-01-15T10:54:24.419753",
     "status": "completed"
    },
    "tags": []
   },
   "outputs": [
    {
     "data": {
      "text/plain": [
       "Text(0.5, 1.0, 'Resting Blood Pressure')"
      ]
     },
     "execution_count": 15,
     "metadata": {},
     "output_type": "execute_result"
    },
    {
     "data": {
      "image/png": "[encoded data removed]",
      "text/plain": [
       "<Figure size 1000x600 with 1 Axes>"
      ]
     },
     "metadata": {},
     "output_type": "display_data"
    }
   ],
   "source": [
    "# plot\n",
    "plt.figure(figsize=(10,6))\n",
    "sns.histplot(df['trestbps'], color='lightcoral') \n",
    "plt.title('Resting Blood Pressure')"
   ]
  },
  {
   "cell_type": "markdown",
   "id": "d334ac36",
   "metadata": {
    "papermill": {
     "duration": 0.034273,
     "end_time": "2024-01-15T10:54:25.016550",
     "exception": false,
     "start_time": "2024-01-15T10:54:24.982277",
     "status": "completed"
    },
    "tags": []
   },
   "source": [
    "--- \n",
    "#### Clinical Relevance:\n",
    "\n",
    "Normal resting blood pressure is typically around 120/80 mmHg. \n",
    "Values significantly higher or lower can indicate health issues.\n",
    "High resting blood pressure (hypertension) is a risk factor for heart disease and other cardiovascular conditions.\n",
    "Low resting blood pressure (hypotension) can also be concerning, though it's less commonly associated with heart disease.\n",
    "\n",
    "---"
   ]
  },
  {
   "cell_type": "markdown",
   "id": "7a560fff",
   "metadata": {
    "papermill": {
     "duration": 0.033008,
     "end_time": "2024-01-15T10:54:25.083466",
     "exception": false,
     "start_time": "2024-01-15T10:54:25.050458",
     "status": "completed"
    },
    "tags": []
   },
   "source": [
    "# - Chol (serum cholesterol) Column:"
   ]
  },
  {
   "cell_type": "code",
   "execution_count": 16,
   "id": "318375be",
   "metadata": {
    "execution": {
     "iopub.execute_input": "2024-01-15T10:54:25.154770Z",
     "iopub.status.busy": "2024-01-15T10:54:25.154296Z",
     "iopub.status.idle": "2024-01-15T10:54:25.162311Z",
     "shell.execute_reply": "2024-01-15T10:54:25.161491Z"
    },
    "papermill": {
     "duration": 0.0469,
     "end_time": "2024-01-15T10:54:25.165304",
     "exception": false,
     "start_time": "2024-01-15T10:54:25.118404",
     "status": "completed"
    },
    "tags": []
   },
   "outputs": [
    {
     "name": "stdout",
     "output_type": "stream",
     "text": [
      "OBSERVATION: \n",
      "---\n",
      "Max Cholestrol of the patient: 603.0\n",
      "Min Cholestrol of the patient: 0.0\n"
     ]
    }
   ],
   "source": [
    "max_chol = df['chol'].max()\n",
    "min_chol= df['chol'].min()\n",
    "print(\"Observation: \".upper())\n",
    "print(\"---\")\n",
    "print(f\"Max Cholestrol of the patient: {max_chol}\")\n",
    "print(f'Min Cholestrol of the patient: {min_chol}')"
   ]
  },
  {
   "cell_type": "code",
   "execution_count": 17,
   "id": "60ce49f7",
   "metadata": {
    "execution": {
     "iopub.execute_input": "2024-01-15T10:54:25.233267Z",
     "iopub.status.busy": "2024-01-15T10:54:25.232805Z",
     "iopub.status.idle": "2024-01-15T10:54:25.661442Z",
     "shell.execute_reply": "2024-01-15T10:54:25.660029Z"
    },
    "papermill": {
     "duration": 0.46604,
     "end_time": "2024-01-15T10:54:25.664354",
     "exception": false,
     "start_time": "2024-01-15T10:54:25.198314",
     "status": "completed"
    },
    "tags": []
   },
   "outputs": [
    {
     "data": {
      "text/plain": [
       "Text(0.5, 1.0, 'Cholestrol')"
      ]
     },
     "execution_count": 17,
     "metadata": {},
     "output_type": "execute_result"
    },
    {
     "data": {
      "image/png": "[encoded data removed]",
      "text/plain": [
       "<Figure size 1000x600 with 1 Axes>"
      ]
     },
     "metadata": {},
     "output_type": "display_data"
    }
   ],
   "source": [
    "#plot\n",
    "plt.figure(figsize=(10,6))\n",
    "sns.histplot(df['chol'], color='#24403c')\n",
    "plt.title('Cholestrol')"
   ]
  },
  {
   "cell_type": "markdown",
   "id": "4461ee79",
   "metadata": {
    "papermill": {
     "duration": 0.033335,
     "end_time": "2024-01-15T10:54:25.731308",
     "exception": false,
     "start_time": "2024-01-15T10:54:25.697973",
     "status": "completed"
    },
    "tags": []
   },
   "source": [
    "--- \n",
    "\n",
    "#### Clinical Interpretation:\n",
    "\n",
    "`Normal Levels`: Typically, cholesterol levels below 200 mg/dL are considered desirable. Levels between 200 and 239 mg/dL are borderline high, and levels 240 mg/dL and above are considered high.\n",
    "\n",
    "`High Cholesterol`: Elevated cholesterol levels are a risk factor for heart disease, as they can lead to the buildup of plaques in artery walls (atherosclerosis), restricting blood flow.\n",
    "\n",
    "`Low Cholesterol`: While less common, very low cholesterol levels may also be a health concern, potentially linked to other medical conditions.\n",
    "\n",
    "---"
   ]
  },
  {
   "cell_type": "markdown",
   "id": "7b6b6876",
   "metadata": {
    "papermill": {
     "duration": 0.032984,
     "end_time": "2024-01-15T10:54:25.798067",
     "exception": false,
     "start_time": "2024-01-15T10:54:25.765083",
     "status": "completed"
    },
    "tags": []
   },
   "source": [
    "# - Fbs (fasting blood sugar) Column:"
   ]
  },
  {
   "cell_type": "code",
   "execution_count": 18,
   "id": "86e44495",
   "metadata": {
    "execution": {
     "iopub.execute_input": "2024-01-15T10:54:25.867849Z",
     "iopub.status.busy": "2024-01-15T10:54:25.867325Z",
     "iopub.status.idle": "2024-01-15T10:54:25.876757Z",
     "shell.execute_reply": "2024-01-15T10:54:25.875838Z"
    },
    "papermill": {
     "duration": 0.047434,
     "end_time": "2024-01-15T10:54:25.879106",
     "exception": false,
     "start_time": "2024-01-15T10:54:25.831672",
     "status": "completed"
    },
    "tags": []
   },
   "outputs": [
    {
     "data": {
      "text/plain": [
       "fbs\n",
       "False    692\n",
       "True     138\n",
       "Name: count, dtype: int64"
      ]
     },
     "execution_count": 18,
     "metadata": {},
     "output_type": "execute_result"
    }
   ],
   "source": [
    "df['fbs'].value_counts()"
   ]
  },
  {
   "cell_type": "code",
   "execution_count": 19,
   "id": "6e32915d",
   "metadata": {
    "execution": {
     "iopub.execute_input": "2024-01-15T10:54:25.949380Z",
     "iopub.status.busy": "2024-01-15T10:54:25.948681Z",
     "iopub.status.idle": "2024-01-15T10:54:26.260252Z",
     "shell.execute_reply": "2024-01-15T10:54:26.258940Z"
    },
    "papermill": {
     "duration": 0.350349,
     "end_time": "2024-01-15T10:54:26.263255",
     "exception": false,
     "start_time": "2024-01-15T10:54:25.912906",
     "status": "completed"
    },
    "tags": []
   },
   "outputs": [
    {
     "data": {
      "text/plain": [
       "Text(0.5, 1.0, 'Fasting Blood Sugar')"
      ]
     },
     "execution_count": 19,
     "metadata": {},
     "output_type": "execute_result"
    },
    {
     "data": {
      "image/png": "[encoded data removed]",
      "text/plain": [
       "<Figure size 1000x600 with 1 Axes>"
      ]
     },
     "metadata": {},
     "output_type": "display_data"
    }
   ],
   "source": [
    "# plot\n",
    "plt.figure(figsize=(10,6))\n",
    "sns.countplot(x='fbs',data=df, palette='Set1')\n",
    "plt.title('Fasting Blood Sugar')"
   ]
  },
  {
   "cell_type": "markdown",
   "id": "69d35e31",
   "metadata": {
    "papermill": {
     "duration": 0.035402,
     "end_time": "2024-01-15T10:54:26.333846",
     "exception": false,
     "start_time": "2024-01-15T10:54:26.298444",
     "status": "completed"
    },
    "tags": []
   },
   "source": [
    "--- \n",
    "\n",
    "#### Clinical Interpretation:\n",
    "\n",
    "The fbs column, representing fasting blood sugar, is clinically important because a level above 120 mg/dL is often indicative of diabetes, which is a significant risk factor for heart disease. Elevated fasting blood sugar can damage blood vessels and increase the risk of cardiovascular conditions. In the context of heart disease prediction, this variable helps assess the impact of blood sugar levels on heart health.\n",
    "\n",
    "- 0: Fasting blood sugar is below 120 mg/dL.\n",
    "- 1: Fasting blood sugar is above 120 mg/dL.\n",
    "\n",
    "---"
   ]
  },
  {
   "cell_type": "markdown",
   "id": "8ebee9df",
   "metadata": {
    "papermill": {
     "duration": 0.039697,
     "end_time": "2024-01-15T10:54:26.409576",
     "exception": false,
     "start_time": "2024-01-15T10:54:26.369879",
     "status": "completed"
    },
    "tags": []
   },
   "source": [
    "# - Restecg (resting electrocardiographic results) Column:"
   ]
  },
  {
   "cell_type": "code",
   "execution_count": 20,
   "id": "58e4aa5e",
   "metadata": {
    "execution": {
     "iopub.execute_input": "2024-01-15T10:54:26.502670Z",
     "iopub.status.busy": "2024-01-15T10:54:26.501066Z",
     "iopub.status.idle": "2024-01-15T10:54:26.511521Z",
     "shell.execute_reply": "2024-01-15T10:54:26.510478Z"
    },
    "papermill": {
     "duration": 0.064914,
     "end_time": "2024-01-15T10:54:26.513856",
     "exception": false,
     "start_time": "2024-01-15T10:54:26.448942",
     "status": "completed"
    },
    "tags": []
   },
   "outputs": [
    {
     "data": {
      "text/plain": [
       "restecg\n",
       "normal              551\n",
       "lv hypertrophy      188\n",
       "st-t abnormality    179\n",
       "Name: count, dtype: int64"
      ]
     },
     "execution_count": 20,
     "metadata": {},
     "output_type": "execute_result"
    }
   ],
   "source": [
    "df['restecg'].value_counts()"
   ]
  },
  {
   "cell_type": "code",
   "execution_count": 21,
   "id": "917ace77",
   "metadata": {
    "execution": {
     "iopub.execute_input": "2024-01-15T10:54:26.583543Z",
     "iopub.status.busy": "2024-01-15T10:54:26.582486Z",
     "iopub.status.idle": "2024-01-15T10:54:26.885863Z",
     "shell.execute_reply": "2024-01-15T10:54:26.884740Z"
    },
    "papermill": {
     "duration": 0.340741,
     "end_time": "2024-01-15T10:54:26.888453",
     "exception": false,
     "start_time": "2024-01-15T10:54:26.547712",
     "status": "completed"
    },
    "tags": []
   },
   "outputs": [
    {
     "data": {
      "text/plain": [
       "Text(0.5, 1.0, 'Resting Electrocardiographic Results')"
      ]
     },
     "execution_count": 21,
     "metadata": {},
     "output_type": "execute_result"
    },
    {
     "data": {
      "image/png": "[encoded data removed]",
      "text/plain": [
       "<Figure size 1000x600 with 1 Axes>"
      ]
     },
     "metadata": {},
     "output_type": "display_data"
    }
   ],
   "source": [
    "# plot\n",
    "plt.figure(figsize=(10,6))\n",
    "sns.countplot(x='restecg',data=df, palette='Set1')\n",
    "plt.title('Resting Electrocardiographic Results')"
   ]
  },
  {
   "cell_type": "markdown",
   "id": "c0d7e871",
   "metadata": {
    "papermill": {
     "duration": 0.034108,
     "end_time": "2024-01-15T10:54:26.956577",
     "exception": false,
     "start_time": "2024-01-15T10:54:26.922469",
     "status": "completed"
    },
    "tags": []
   },
   "source": [
    "---\n",
    "\n",
    "#### `Clinical Interpretation:`\n",
    "\n",
    "The `restecg` column usually includes a few distinct categories, each representing different electrocardiographic results. These typically include:\n",
    "\n",
    "- Normal: Indicating no significant abnormalities in the ECG.\n",
    "- ST-T Wave Abnormality: Suggesting potential issues with the heart's electrical activity.\n",
    "- Left Ventricular Hypertrophy: Indicating enlargement of the heart's left ventricle.\n",
    "\n",
    "---"
   ]
  },
  {
   "cell_type": "markdown",
   "id": "a1f03671",
   "metadata": {
    "papermill": {
     "duration": 0.037844,
     "end_time": "2024-01-15T10:54:27.037321",
     "exception": false,
     "start_time": "2024-01-15T10:54:26.999477",
     "status": "completed"
    },
    "tags": []
   },
   "source": [
    "# - Thalach (maximum heart rate achieved) Column:"
   ]
  },
  {
   "cell_type": "code",
   "execution_count": 22,
   "id": "2dca268b",
   "metadata": {
    "execution": {
     "iopub.execute_input": "2024-01-15T10:54:27.109769Z",
     "iopub.status.busy": "2024-01-15T10:54:27.108771Z",
     "iopub.status.idle": "2024-01-15T10:54:27.117558Z",
     "shell.execute_reply": "2024-01-15T10:54:27.116123Z"
    },
    "papermill": {
     "duration": 0.04715,
     "end_time": "2024-01-15T10:54:27.119804",
     "exception": false,
     "start_time": "2024-01-15T10:54:27.072654",
     "status": "completed"
    },
    "tags": []
   },
   "outputs": [
    {
     "name": "stdout",
     "output_type": "stream",
     "text": [
      "OBSERVATION: \n",
      "---\n",
      "Max heart rate of the patient: 202.0\n",
      "Min heart rate of the patient: 60.0\n"
     ]
    }
   ],
   "source": [
    "max_thalch = df['thalch'].max()\n",
    "min_thalch= df['thalch'].min()\n",
    "print(\"Observation: \".upper())\n",
    "print(\"---\")\n",
    "print(f\"Max heart rate of the patient: {max_thalch}\")\n",
    "print(f'Min heart rate of the patient: {min_thalch}')"
   ]
  },
  {
   "cell_type": "code",
   "execution_count": 23,
   "id": "2e869128",
   "metadata": {
    "execution": {
     "iopub.execute_input": "2024-01-15T10:54:27.191629Z",
     "iopub.status.busy": "2024-01-15T10:54:27.190767Z",
     "iopub.status.idle": "2024-01-15T10:54:27.597498Z",
     "shell.execute_reply": "2024-01-15T10:54:27.595820Z"
    },
    "papermill": {
     "duration": 0.445833,
     "end_time": "2024-01-15T10:54:27.600087",
     "exception": false,
     "start_time": "2024-01-15T10:54:27.154254",
     "status": "completed"
    },
    "tags": []
   },
   "outputs": [
    {
     "data": {
      "text/plain": [
       "Text(0.5, 1.0, 'Maximum Heart Rate Achieved')"
      ]
     },
     "execution_count": 23,
     "metadata": {},
     "output_type": "execute_result"
    },
    {
     "data": {
      "image/png": "[encoded data removed]",
      "text/plain": [
       "<Figure size 1000x600 with 1 Axes>"
      ]
     },
     "metadata": {},
     "output_type": "display_data"
    }
   ],
   "source": [
    "# plot\n",
    "plt.figure(figsize=(10,6))\n",
    "sns.histplot(df['thalch'], color='#084299')\n",
    "plt.title('Maximum Heart Rate Achieved')"
   ]
  },
  {
   "cell_type": "markdown",
   "id": "290cf65e",
   "metadata": {
    "papermill": {
     "duration": 0.034416,
     "end_time": "2024-01-15T10:54:27.669132",
     "exception": false,
     "start_time": "2024-01-15T10:54:27.634716",
     "status": "completed"
    },
    "tags": []
   },
   "source": [
    "#### Observations:\n",
    "\n",
    "`Max Heart Rate (202 bpm)`: This is a high value, typically reached during intense physical exertion. In a stress test context, it might indicate good exercise tolerance, but if experienced during minimal exertion, it could signal underlying cardiac issues or an abnormal heart response.\n",
    "\n",
    "`Min Heart Rate (60 bpm)`: This is within the normal resting heart rate range for adults (60-100 bpm). A resting rate of 60 bpm generally suggests a healthy heart function, especially if the individual is physically fit."
   ]
  },
  {
   "cell_type": "markdown",
   "id": "e56c0a32",
   "metadata": {
    "papermill": {
     "duration": 0.034252,
     "end_time": "2024-01-15T10:54:27.737930",
     "exception": false,
     "start_time": "2024-01-15T10:54:27.703678",
     "status": "completed"
    },
    "tags": []
   },
   "source": [
    "---\n",
    "\n",
    "#### `Clinical Interpretation:`\n",
    "\n",
    "- The maximum heart rate achieved during a stress test can provide insights into the heart's health and functioning. A lower-than-expected maximum heart rate can indicate compromised heart function.\n",
    "\n",
    "- A lower maximum heart rate can be associated with a higher risk of cardiac events.\n",
    "\n",
    "- Maximum heart rate typically decreases with age, so the thalach values are often considered in the context of the patient's age.\n",
    "\n",
    "---"
   ]
  },
  {
   "cell_type": "markdown",
   "id": "86ba0094",
   "metadata": {
    "papermill": {
     "duration": 0.034374,
     "end_time": "2024-01-15T10:54:27.809439",
     "exception": false,
     "start_time": "2024-01-15T10:54:27.775065",
     "status": "completed"
    },
    "tags": []
   },
   "source": [
    "# - Exang (exercise-induced angina) Column:"
   ]
  },
  {
   "cell_type": "code",
   "execution_count": 24,
   "id": "3d4eea77",
   "metadata": {
    "execution": {
     "iopub.execute_input": "2024-01-15T10:54:27.880593Z",
     "iopub.status.busy": "2024-01-15T10:54:27.879646Z",
     "iopub.status.idle": "2024-01-15T10:54:27.889879Z",
     "shell.execute_reply": "2024-01-15T10:54:27.888724Z"
    },
    "papermill": {
     "duration": 0.048578,
     "end_time": "2024-01-15T10:54:27.892231",
     "exception": false,
     "start_time": "2024-01-15T10:54:27.843653",
     "status": "completed"
    },
    "tags": []
   },
   "outputs": [
    {
     "data": {
      "text/plain": [
       "exang\n",
       "False    528\n",
       "True     337\n",
       "Name: count, dtype: int64"
      ]
     },
     "execution_count": 24,
     "metadata": {},
     "output_type": "execute_result"
    }
   ],
   "source": [
    "df['exang'].value_counts()"
   ]
  },
  {
   "cell_type": "code",
   "execution_count": 25,
   "id": "3f727eb7",
   "metadata": {
    "execution": {
     "iopub.execute_input": "2024-01-15T10:54:27.966582Z",
     "iopub.status.busy": "2024-01-15T10:54:27.965933Z",
     "iopub.status.idle": "2024-01-15T10:54:28.255343Z",
     "shell.execute_reply": "2024-01-15T10:54:28.254159Z"
    },
    "papermill": {
     "duration": 0.330917,
     "end_time": "2024-01-15T10:54:28.259187",
     "exception": false,
     "start_time": "2024-01-15T10:54:27.928270",
     "status": "completed"
    },
    "tags": []
   },
   "outputs": [
    {
     "data": {
      "text/plain": [
       "Text(0.5, 1.0, 'Exercise Induced Angina')"
      ]
     },
     "execution_count": 25,
     "metadata": {},
     "output_type": "execute_result"
    },
    {
     "data": {
      "image/png": "[encoded data removed]",
      "text/plain": [
       "<Figure size 1000x600 with 1 Axes>"
      ]
     },
     "metadata": {},
     "output_type": "display_data"
    }
   ],
   "source": [
    "# plot\n",
    "plt.figure(figsize=(10,6))\n",
    "sns.countplot(x='exang',data=df, palette='Set1')\n",
    "plt.title('Exercise Induced Angina')"
   ]
  },
  {
   "cell_type": "markdown",
   "id": "e7935757",
   "metadata": {
    "papermill": {
     "duration": 0.036435,
     "end_time": "2024-01-15T10:54:28.333708",
     "exception": false,
     "start_time": "2024-01-15T10:54:28.297273",
     "status": "completed"
    },
    "tags": []
   },
   "source": [
    "---\n",
    "#### `Clinical Interpretation:`\n",
    "\n",
    "Exang represents whether a patient experiences exercise-induced angina (chest pain).\n",
    "\n",
    "`Positive (exang = 1)`: Indicates chest pain during exercise, often a sign of coronary artery disease.\n",
    "\n",
    "`Negative (exang = 0)`: No chest pain with exercise, typically suggesting better heart health.\n",
    "\n",
    "---"
   ]
  },
  {
   "cell_type": "markdown",
   "id": "9f2af51c",
   "metadata": {
    "papermill": {
     "duration": 0.037316,
     "end_time": "2024-01-15T10:54:28.409546",
     "exception": false,
     "start_time": "2024-01-15T10:54:28.372230",
     "status": "completed"
    },
    "tags": []
   },
   "source": [
    "# - Oldpeak (ST depression induced by exercise relative to rest) Column:"
   ]
  },
  {
   "cell_type": "code",
   "execution_count": 26,
   "id": "62ffdf01",
   "metadata": {
    "execution": {
     "iopub.execute_input": "2024-01-15T10:54:28.486785Z",
     "iopub.status.busy": "2024-01-15T10:54:28.485725Z",
     "iopub.status.idle": "2024-01-15T10:54:28.494043Z",
     "shell.execute_reply": "2024-01-15T10:54:28.493138Z"
    },
    "papermill": {
     "duration": 0.049532,
     "end_time": "2024-01-15T10:54:28.496341",
     "exception": false,
     "start_time": "2024-01-15T10:54:28.446809",
     "status": "completed"
    },
    "tags": []
   },
   "outputs": [
    {
     "name": "stdout",
     "output_type": "stream",
     "text": [
      "OBSERVATION: \n",
      "---\n",
      "Max oldpeak of the patient: 6.2\n",
      "Min oldpeak of the patient: -2.6\n"
     ]
    }
   ],
   "source": [
    "max_oldpeak= df['oldpeak'].max()\n",
    "min_oldpeak= df['oldpeak'].min()\n",
    "print(\"Observation: \".upper())\n",
    "print(\"---\")\n",
    "print(f\"Max oldpeak of the patient: {max_oldpeak}\")\n",
    "print(f'Min oldpeak of the patient: {min_oldpeak}')"
   ]
  },
  {
   "cell_type": "code",
   "execution_count": 27,
   "id": "bd3f6328",
   "metadata": {
    "execution": {
     "iopub.execute_input": "2024-01-15T10:54:28.572779Z",
     "iopub.status.busy": "2024-01-15T10:54:28.571943Z",
     "iopub.status.idle": "2024-01-15T10:54:29.017788Z",
     "shell.execute_reply": "2024-01-15T10:54:29.016256Z"
    },
    "papermill": {
     "duration": 0.487552,
     "end_time": "2024-01-15T10:54:29.020884",
     "exception": false,
     "start_time": "2024-01-15T10:54:28.533332",
     "status": "completed"
    },
    "tags": []
   },
   "outputs": [
    {
     "data": {
      "text/plain": [
       "Text(0.5, 1.0, 'ST Depression Induced by Exercise Relative to Rest')"
      ]
     },
     "execution_count": 27,
     "metadata": {},
     "output_type": "execute_result"
    },
    {
     "data": {
      "image/png": "[encoded data removed]",
      "text/plain": [
       "<Figure size 1000x600 with 1 Axes>"
      ]
     },
     "metadata": {},
     "output_type": "display_data"
    }
   ],
   "source": [
    "# plot\n",
    "plt.figure(figsize=(10,6))\n",
    "sns.histplot(df['oldpeak'], color='#f2a154')\n",
    "plt.title('ST Depression Induced by Exercise Relative to Rest')"
   ]
  },
  {
   "cell_type": "markdown",
   "id": "014ae51d",
   "metadata": {
    "papermill": {
     "duration": 0.037718,
     "end_time": "2024-01-15T10:54:29.097898",
     "exception": false,
     "start_time": "2024-01-15T10:54:29.060180",
     "status": "completed"
    },
    "tags": []
   },
   "source": [
    "--- \n",
    "\n",
    "#### `Clinical Interpretation and Insight:`\n",
    "\n",
    "Oldpeak refers to the ST depression induced by exercise relative to rest. It's a significant indicator in stress test results.\n",
    "\n",
    "- `Max Oldpeak (6.2)`: This is a very high value for ST depression. Clinically, such a significant ST depression during exercise suggests severe myocardial ischemia, indicating a high likelihood of substantial coronary artery disease. It's an important marker for high cardiovascular risk.\n",
    "\n",
    "- `Min Oldpeak (-2.6)`: Negative values for ST depression are unusual and atypical. A value of -2.6 might be indicative of measurement error, data entry error, or an unusual ECG pattern. Negative ST depression is not typically associated with exercise-induced cardiac stress, and its clinical significance might require further investigation.\n",
    "\n",
    "\n",
    "\n",
    "---"
   ]
  },
  {
   "cell_type": "markdown",
   "id": "083f661d",
   "metadata": {
    "papermill": {
     "duration": 0.037582,
     "end_time": "2024-01-15T10:54:29.175259",
     "exception": false,
     "start_time": "2024-01-15T10:54:29.137677",
     "status": "completed"
    },
    "tags": []
   },
   "source": [
    "# - Slope Column:"
   ]
  },
  {
   "cell_type": "code",
   "execution_count": 28,
   "id": "1c0f5066",
   "metadata": {
    "execution": {
     "iopub.execute_input": "2024-01-15T10:54:29.252979Z",
     "iopub.status.busy": "2024-01-15T10:54:29.252562Z",
     "iopub.status.idle": "2024-01-15T10:54:29.262015Z",
     "shell.execute_reply": "2024-01-15T10:54:29.260657Z"
    },
    "papermill": {
     "duration": 0.051991,
     "end_time": "2024-01-15T10:54:29.264778",
     "exception": false,
     "start_time": "2024-01-15T10:54:29.212787",
     "status": "completed"
    },
    "tags": []
   },
   "outputs": [
    {
     "data": {
      "text/plain": [
       "slope\n",
       "flat           345\n",
       "upsloping      203\n",
       "downsloping     63\n",
       "Name: count, dtype: int64"
      ]
     },
     "execution_count": 28,
     "metadata": {},
     "output_type": "execute_result"
    }
   ],
   "source": [
    "df['slope'].value_counts()"
   ]
  },
  {
   "cell_type": "markdown",
   "id": "f9be2705",
   "metadata": {
    "papermill": {
     "duration": 0.036344,
     "end_time": "2024-01-15T10:54:29.339349",
     "exception": false,
     "start_time": "2024-01-15T10:54:29.303005",
     "status": "completed"
    },
    "tags": []
   },
   "source": [
    "---\n",
    "\n",
    "#### `Clinical Interpretation and Insight:`\n",
    "\n",
    "The slope attribute in the UCI Heart Disease dataset refers to the slope of the peak exercise ST segment, an important indicator in an electrocardiogram (ECG) stress test. The ST segment is analyzed in an ECG to assess how the heart responds to stress or exercise. The three categories you've mentioned—flat, upsloping, and downsloping—have distinct clinical interpretations:\n",
    "\n",
    "1. `Flat (345 cases)`:  May indicate potential heart issues, often requires further investigation.\n",
    "2. `Upsloping (203 cases)`:  Generally considered normal, usually not indicative of significant heart disease.\n",
    "3. `Downsloping (63 cases)`:  Most concerning, often associated with significant coronary artery disease."
   ]
  },
  {
   "cell_type": "markdown",
   "id": "2961b1c6",
   "metadata": {
    "papermill": {
     "duration": 0.0361,
     "end_time": "2024-01-15T10:54:29.413000",
     "exception": false,
     "start_time": "2024-01-15T10:54:29.376900",
     "status": "completed"
    },
    "tags": []
   },
   "source": [
    "# - Ca (number of major vessels) Column:"
   ]
  },
  {
   "cell_type": "code",
   "execution_count": 29,
   "id": "b5681330",
   "metadata": {
    "execution": {
     "iopub.execute_input": "2024-01-15T10:54:29.488995Z",
     "iopub.status.busy": "2024-01-15T10:54:29.487489Z",
     "iopub.status.idle": "2024-01-15T10:54:29.497832Z",
     "shell.execute_reply": "2024-01-15T10:54:29.496688Z"
    },
    "papermill": {
     "duration": 0.05062,
     "end_time": "2024-01-15T10:54:29.500091",
     "exception": false,
     "start_time": "2024-01-15T10:54:29.449471",
     "status": "completed"
    },
    "tags": []
   },
   "outputs": [
    {
     "data": {
      "text/plain": [
       "ca\n",
       "0.0    181\n",
       "1.0     67\n",
       "2.0     41\n",
       "3.0     20\n",
       "Name: count, dtype: int64"
      ]
     },
     "execution_count": 29,
     "metadata": {},
     "output_type": "execute_result"
    }
   ],
   "source": [
    "df['ca'].value_counts()"
   ]
  },
  {
   "cell_type": "code",
   "execution_count": 30,
   "id": "ce38c2b8",
   "metadata": {
    "execution": {
     "iopub.execute_input": "2024-01-15T10:54:29.575579Z",
     "iopub.status.busy": "2024-01-15T10:54:29.574885Z",
     "iopub.status.idle": "2024-01-15T10:54:29.893010Z",
     "shell.execute_reply": "2024-01-15T10:54:29.891500Z"
    },
    "papermill": {
     "duration": 0.359195,
     "end_time": "2024-01-15T10:54:29.895792",
     "exception": false,
     "start_time": "2024-01-15T10:54:29.536597",
     "status": "completed"
    },
    "tags": []
   },
   "outputs": [
    {
     "data": {
      "text/plain": [
       "Text(0.5, 1.0, 'Number of Major Vessels')"
      ]
     },
     "execution_count": 30,
     "metadata": {},
     "output_type": "execute_result"
    },
    {
     "data": {
      "image/png": "[encoded data removed]",
      "text/plain": [
       "<Figure size 1000x600 with 1 Axes>"
      ]
     },
     "metadata": {},
     "output_type": "display_data"
    }
   ],
   "source": [
    "# plot\n",
    "plt.figure(figsize=(10,6))\n",
    "sns.countplot(x='ca',data=df, palette='Set2')\n",
    "plt.title('Number of Major Vessels')"
   ]
  },
  {
   "cell_type": "markdown",
   "id": "207b84cf",
   "metadata": {
    "papermill": {
     "duration": 0.036824,
     "end_time": "2024-01-15T10:54:29.970378",
     "exception": false,
     "start_time": "2024-01-15T10:54:29.933554",
     "status": "completed"
    },
    "tags": []
   },
   "source": [
    "---\n",
    "\n",
    "#### `Clinical Interpretation and Insight:`\n",
    "\n",
    "The ca attribute in the UCI Heart Disease dataset refers to the number of major blood vessels (0 to 4) detected by fluoroscopy to be blocked or narrowed.\n",
    "\n",
    "`0 Blocked Vessels (181 cases):`\n",
    "\n",
    "This is the most common finding, suggesting that a significant portion of patients do not have major blockages in their coronary arteries. This group is likely at a lower risk for severe coronary artery disease.\n",
    "\n",
    "`1 Blocked Vessel (67 cases):`\n",
    "\n",
    " A notable number of patients have one major blood vessel affected. This indicates the presence of coronary artery   disease, but the risk of heart-related events varies depending on other factors like the specific vessel affected and overall heart health.\n",
    "\n",
    "`2 Blocked Vessels (41 cases):`\n",
    "\n",
    " Patients with two affected vessels represent a more serious condition, implying a higher degree of coronary artery disease. This group is at an increased risk for heart complications compared to those with fewer affected vessels.\n",
    "\n",
    "`3 Blocked Vessels (20 cases):`\n",
    "\n",
    "The presence of blockages in three vessels is a serious concern and often indicates advanced coronary artery disease. Patients in this category are at a high risk for significant cardiac events.\n",
    "\n",
    "---"
   ]
  },
  {
   "cell_type": "markdown",
   "id": "03d19a4d",
   "metadata": {
    "papermill": {
     "duration": 0.03813,
     "end_time": "2024-01-15T10:54:30.049511",
     "exception": false,
     "start_time": "2024-01-15T10:54:30.011381",
     "status": "completed"
    },
    "tags": []
   },
   "source": [
    "# - Thal (Thalassemia) Column:"
   ]
  },
  {
   "cell_type": "code",
   "execution_count": 31,
   "id": "954ac43e",
   "metadata": {
    "execution": {
     "iopub.execute_input": "2024-01-15T10:54:30.126261Z",
     "iopub.status.busy": "2024-01-15T10:54:30.125865Z",
     "iopub.status.idle": "2024-01-15T10:54:30.135165Z",
     "shell.execute_reply": "2024-01-15T10:54:30.133916Z"
    },
    "papermill": {
     "duration": 0.05064,
     "end_time": "2024-01-15T10:54:30.137446",
     "exception": false,
     "start_time": "2024-01-15T10:54:30.086806",
     "status": "completed"
    },
    "tags": []
   },
   "outputs": [
    {
     "data": {
      "text/plain": [
       "thal\n",
       "normal               196\n",
       "reversable defect    192\n",
       "fixed defect          46\n",
       "Name: count, dtype: int64"
      ]
     },
     "execution_count": 31,
     "metadata": {},
     "output_type": "execute_result"
    }
   ],
   "source": [
    "df['thal'].value_counts()"
   ]
  },
  {
   "cell_type": "code",
   "execution_count": 32,
   "id": "a7c9c8f2",
   "metadata": {
    "execution": {
     "iopub.execute_input": "2024-01-15T10:54:30.215035Z",
     "iopub.status.busy": "2024-01-15T10:54:30.214505Z",
     "iopub.status.idle": "2024-01-15T10:54:30.560486Z",
     "shell.execute_reply": "2024-01-15T10:54:30.558957Z"
    },
    "papermill": {
     "duration": 0.388855,
     "end_time": "2024-01-15T10:54:30.563247",
     "exception": false,
     "start_time": "2024-01-15T10:54:30.174392",
     "status": "completed"
    },
    "tags": []
   },
   "outputs": [
    {
     "data": {
      "text/plain": [
       "Text(0.5, 1.0, 'Thal')"
      ]
     },
     "execution_count": 32,
     "metadata": {},
     "output_type": "execute_result"
    },
    {
     "data": {
      "image/png": "[encoded data removed]",
      "text/plain": [
       "<Figure size 1000x600 with 1 Axes>"
      ]
     },
     "metadata": {},
     "output_type": "display_data"
    }
   ],
   "source": [
    "# plot\n",
    "plt.figure(figsize=(10,6))\n",
    "sns.countplot(x='thal',data=df, palette='Set2')\n",
    "plt.title('Thal')"
   ]
  },
  {
   "cell_type": "markdown",
   "id": "6fdcd05b",
   "metadata": {
    "papermill": {
     "duration": 0.037626,
     "end_time": "2024-01-15T10:54:30.639545",
     "exception": false,
     "start_time": "2024-01-15T10:54:30.601919",
     "status": "completed"
    },
    "tags": []
   },
   "source": [
    "---\n",
    "\n",
    "#### `Clinical Interpretation and Insight:`\n",
    "\n",
    "The thal column in the UCI Heart Disease dataset refers to thallium stress test results, which are used to diagnose coronary artery disease and the severity of any heart muscle damage. The three categories in this column are:\n",
    "\n",
    "`Normal:`\n",
    "\n",
    "Indicates a normal blood flow to the heart muscle during exercise and rest, suggesting no significant coronary artery blockages.\n",
    "\n",
    "`Fixed Defect: `\n",
    "\n",
    "This often points to scar tissue from a past heart attack or longstanding blockage, indicating some degree of permanent damage to the heart muscle.\n",
    "\n",
    "`Reversible Defect:`\n",
    "\n",
    "It's often associated with partially blocked coronary arteries, which could lead to serious heart problems if not managed.\n",
    "\n",
    "---"
   ]
  },
  {
   "cell_type": "markdown",
   "id": "54c71e8a",
   "metadata": {
    "papermill": {
     "duration": 0.037339,
     "end_time": "2024-01-15T10:54:30.714601",
     "exception": false,
     "start_time": "2024-01-15T10:54:30.677262",
     "status": "completed"
    },
    "tags": []
   },
   "source": [
    "## Summary of Exploring different columns:\n",
    "\n",
    "`You will ask why I explore different columns before data cleaning and preprocessing?`\n",
    "\n",
    "The reason is that I want to get a better understanding of the dataset and the columns before cleaning and preprocessing the data.I have looked at different parts of the heart disease data to understand what each one means and why it's important, especially for heart health.\n",
    "\n",
    "`This makes it easier for everyone, even those who aren't experts, to understand what the data is saying`. \n",
    "Now that we know more about the data, including where there are missing values, we are ready to clean and organize the data.This next step is important to make sure the data is ready and in good shape for finding patterns and making predictions about heart disease.\n",
    "\n",
    "---"
   ]
  },
  {
   "cell_type": "markdown",
   "id": "b54f3150",
   "metadata": {
    "papermill": {
     "duration": 0.037391,
     "end_time": "2024-01-15T10:54:30.789882",
     "exception": false,
     "start_time": "2024-01-15T10:54:30.752491",
     "status": "completed"
    },
    "tags": []
   },
   "source": [
    "# 2. `Data Cleaning and Preprocessing`"
   ]
  },
  {
   "cell_type": "markdown",
   "id": "e549ea9b",
   "metadata": {
    "papermill": {
     "duration": 0.037341,
     "end_time": "2024-01-15T10:54:30.865176",
     "exception": false,
     "start_time": "2024-01-15T10:54:30.827835",
     "status": "completed"
    },
    "tags": []
   },
   "source": [
    "- Dealing with missing values"
   ]
  },
  {
   "cell_type": "markdown",
   "id": "031b7023",
   "metadata": {
    "papermill": {
     "duration": 0.03936,
     "end_time": "2024-01-15T10:54:30.942662",
     "exception": false,
     "start_time": "2024-01-15T10:54:30.903302",
     "status": "completed"
    },
    "tags": []
   },
   "source": [
    "Let's start by checking for missing values in the dataset.\n",
    "Missing values can be problematic for machine learning models, so it's important to identify and address them before training the models."
   ]
  },
  {
   "cell_type": "code",
   "execution_count": 33,
   "id": "e3d79c27",
   "metadata": {
    "execution": {
     "iopub.execute_input": "2024-01-15T10:54:31.028147Z",
     "iopub.status.busy": "2024-01-15T10:54:31.026897Z",
     "iopub.status.idle": "2024-01-15T10:54:31.453614Z",
     "shell.execute_reply": "2024-01-15T10:54:31.452057Z"
    },
    "papermill": {
     "duration": 0.475742,
     "end_time": "2024-01-15T10:54:31.456295",
     "exception": false,
     "start_time": "2024-01-15T10:54:30.980553",
     "status": "completed"
    },
    "tags": []
   },
   "outputs": [
    {
     "data": {
      "text/plain": [
       "Text(0.5, 1.0, 'Missing Values')"
      ]
     },
     "execution_count": 33,
     "metadata": {},
     "output_type": "execute_result"
    },
    {
     "data": {
      "image/png": "[encoded data removed]",
      "text/plain": [
       "<Figure size 2000x1000 with 1 Axes>"
      ]
     },
     "metadata": {},
     "output_type": "display_data"
    }
   ],
   "source": [
    "# Let's make a plot to see the missing values\n",
    "plt.figure(figsize=(20,10))\n",
    "sns.heatmap(df.isnull(), yticklabels=False, cbar=False)\n",
    "plt.title('Missing Values')"
   ]
  },
  {
   "cell_type": "code",
   "execution_count": 34,
   "id": "b745ba70",
   "metadata": {
    "execution": {
     "iopub.execute_input": "2024-01-15T10:54:31.542129Z",
     "iopub.status.busy": "2024-01-15T10:54:31.541508Z",
     "iopub.status.idle": "2024-01-15T10:54:31.552515Z",
     "shell.execute_reply": "2024-01-15T10:54:31.551597Z"
    },
    "papermill": {
     "duration": 0.059866,
     "end_time": "2024-01-15T10:54:31.554794",
     "exception": false,
     "start_time": "2024-01-15T10:54:31.494928",
     "status": "completed"
    },
    "tags": []
   },
   "outputs": [
    {
     "data": {
      "text/plain": [
       "ca          66.41\n",
       "thal        52.83\n",
       "slope       33.59\n",
       "fbs          9.78\n",
       "oldpeak      6.74\n",
       "trestbps     6.41\n",
       "thalch       5.98\n",
       "exang        5.98\n",
       "chol         3.26\n",
       "restecg      0.22\n",
       "id           0.00\n",
       "age          0.00\n",
       "sex          0.00\n",
       "dataset      0.00\n",
       "cp           0.00\n",
       "num          0.00\n",
       "dtype: float64"
      ]
     },
     "execution_count": 34,
     "metadata": {},
     "output_type": "execute_result"
    }
   ],
   "source": [
    "round(((df.isnull().sum() / len(df)) * 100).sort_values(ascending=False),2)"
   ]
  },
  {
   "cell_type": "markdown",
   "id": "6235c573",
   "metadata": {
    "papermill": {
     "duration": 0.041093,
     "end_time": "2024-01-15T10:54:31.637754",
     "exception": false,
     "start_time": "2024-01-15T10:54:31.596661",
     "status": "completed"
    },
    "tags": []
   },
   "source": [
    "---\n",
    "\n",
    "Observations:\n",
    "\n",
    "* There are 10 columns with missing values in the dataset.\n",
    "* 7 of these columns have missing values less than 10%.\n",
    "* 3 of these columns 'ca', 'thal', and 'slope' have higher numbers of missing values.\n",
    "* 'ca' having the highest number of missing values (66%).\n",
    "* 'thal' having the second-highest number of missing values (53%).\n",
    "* 'slope' having the third-highest number of missing values (34%).\n",
    "\n",
    "Predictive analysis is likely to face challenges due to the substantial levels of incompleteness.So we gotta deal with these missing values."
   ]
  },
  {
   "cell_type": "markdown",
   "id": "a1d051c9",
   "metadata": {
    "papermill": {
     "duration": 0.041256,
     "end_time": "2024-01-15T10:54:31.719947",
     "exception": false,
     "start_time": "2024-01-15T10:54:31.678691",
     "status": "completed"
    },
    "tags": []
   },
   "source": [
    "First, Drop the Irrelevant Columns cz There are 13 columns that are relevant for medical parameters (excluding id and dataset), which will be used to predict the target feature num (the intensity of the heart disease)."
   ]
  },
  {
   "cell_type": "code",
   "execution_count": 35,
   "id": "f49e32c5",
   "metadata": {
    "execution": {
     "iopub.execute_input": "2024-01-15T10:54:31.801890Z",
     "iopub.status.busy": "2024-01-15T10:54:31.801255Z",
     "iopub.status.idle": "2024-01-15T10:54:31.816373Z",
     "shell.execute_reply": "2024-01-15T10:54:31.815247Z"
    },
    "papermill": {
     "duration": 0.059405,
     "end_time": "2024-01-15T10:54:31.819202",
     "exception": false,
     "start_time": "2024-01-15T10:54:31.759797",
     "status": "completed"
    },
    "tags": []
   },
   "outputs": [
    {
     "data": {
      "text/plain": [
       "['trestbps',\n",
       " 'chol',\n",
       " 'fbs',\n",
       " 'restecg',\n",
       " 'thalch',\n",
       " 'exang',\n",
       " 'oldpeak',\n",
       " 'slope',\n",
       " 'ca',\n",
       " 'thal']"
      ]
     },
     "execution_count": 35,
     "metadata": {},
     "output_type": "execute_result"
    }
   ],
   "source": [
    "df.isnull().sum()[df.isnull().sum() > 0].sort_values(ascending=False)\n",
    "missing_data_cols = df.isnull().sum()[df.isnull().sum() > 0].index.tolist()\n",
    "missing_data_cols"
   ]
  },
  {
   "cell_type": "code",
   "execution_count": 36,
   "id": "3c0b4416",
   "metadata": {
    "execution": {
     "iopub.execute_input": "2024-01-15T10:54:31.901695Z",
     "iopub.status.busy": "2024-01-15T10:54:31.901261Z",
     "iopub.status.idle": "2024-01-15T10:54:31.906740Z",
     "shell.execute_reply": "2024-01-15T10:54:31.905900Z"
    },
    "papermill": {
     "duration": 0.049562,
     "end_time": "2024-01-15T10:54:31.908818",
     "exception": false,
     "start_time": "2024-01-15T10:54:31.859256",
     "status": "completed"
    },
    "tags": []
   },
   "outputs": [],
   "source": [
    "categorical_cols = ['thal', 'ca', 'slope', 'exang', 'restecg','fbs', 'cp', 'sex', 'num']\n",
    "bool_cols = ['fbs', 'exang']\n",
    "numeric_cols = ['oldpeak', 'thalch', 'chol', 'trestbps', 'age']"
   ]
  },
  {
   "cell_type": "markdown",
   "id": "5e15c74d",
   "metadata": {
    "papermill": {
     "duration": 0.039881,
     "end_time": "2024-01-15T10:54:31.989635",
     "exception": false,
     "start_time": "2024-01-15T10:54:31.949754",
     "status": "completed"
    },
    "tags": []
   },
   "source": [
    "### Applying the Random Forest Machine learning method to impute missing values"
   ]
  },
  {
   "cell_type": "code",
   "execution_count": 37,
   "id": "b061a655",
   "metadata": {
    "execution": {
     "iopub.execute_input": "2024-01-15T10:54:32.077488Z",
     "iopub.status.busy": "2024-01-15T10:54:32.076798Z",
     "iopub.status.idle": "2024-01-15T10:54:32.104524Z",
     "shell.execute_reply": "2024-01-15T10:54:32.103668Z"
    },
    "papermill": {
     "duration": 0.075065,
     "end_time": "2024-01-15T10:54:32.107401",
     "exception": false,
     "start_time": "2024-01-15T10:54:32.032336",
     "status": "completed"
    },
    "tags": []
   },
   "outputs": [],
   "source": [
    "# define the function to impute the missing values in thal column\n",
    "\n",
    "def impute_categorical_missing_data(passed_col):\n",
    "    \n",
    "    df_null = df[df[passed_col].isnull()]\n",
    "    df_not_null = df[df[passed_col].notnull()]\n",
    "\n",
    "    X = df_not_null.drop(passed_col, axis=1)\n",
    "    y = df_not_null[passed_col]\n",
    "    \n",
    "    other_missing_cols = [col for col in missing_data_cols if col != passed_col]\n",
    "    \n",
    "    label_encoder = LabelEncoder()\n",
    "\n",
    "    for col in X.columns:\n",
    "        if X[col].dtype == 'object' or X[col].dtype == 'category':\n",
    "            X[col] = label_encoder.fit_transform(X[col])\n",
    "\n",
    "    if passed_col in bool_cols:\n",
    "        y = label_encoder.fit_transform(y)\n",
    "        \n",
    "    iterative_imputer = IterativeImputer(estimator=RandomForestRegressor(random_state=42), add_indicator=True)\n",
    "\n",
    "    for col in other_missing_cols:\n",
    "        if X[col].isnull().sum() > 0:\n",
    "            col_with_missing_values = X[col].values.reshape(-1, 1)\n",
    "            imputed_values = iterative_imputer.fit_transform(col_with_missing_values)\n",
    "            X[col] = imputed_values[:, 0]\n",
    "        else:\n",
    "            pass\n",
    "    \n",
    "    X_train, X_test, y_train, y_test = train_test_split(X, y, test_size=0.2, random_state=42)\n",
    "\n",
    "    rf_classifier = RandomForestClassifier()\n",
    "\n",
    "    rf_classifier.fit(X_train, y_train)\n",
    "\n",
    "    y_pred = rf_classifier.predict(X_test)\n",
    "\n",
    "    acc_score = accuracy_score(y_test, y_pred)\n",
    "\n",
    "    print(\"The feature '\"+ passed_col+ \"' has been imputed with\", round((acc_score * 100), 2), \"accuracy\\n\")\n",
    "\n",
    "    X = df_null.drop(passed_col, axis=1)\n",
    "\n",
    "    for col in X.columns:\n",
    "        if X[col].dtype == 'object' or X[col].dtype == 'category':\n",
    "            X[col] = label_encoder.fit_transform(X[col])\n",
    "\n",
    "    for col in other_missing_cols:\n",
    "        if X[col].isnull().sum() > 0:\n",
    "            col_with_missing_values = X[col].values.reshape(-1, 1)\n",
    "            imputed_values = iterative_imputer.fit_transform(col_with_missing_values)\n",
    "            X[col] = imputed_values[:, 0]\n",
    "        else:\n",
    "            pass\n",
    "                \n",
    "    if len(df_null) > 0: \n",
    "        df_null[passed_col] = rf_classifier.predict(X)\n",
    "        if passed_col in bool_cols:\n",
    "            df_null[passed_col] = df_null[passed_col].map({0: False, 1: True})\n",
    "        else:\n",
    "            pass\n",
    "    else:\n",
    "        pass\n",
    "\n",
    "    df_combined = pd.concat([df_not_null, df_null])\n",
    "    \n",
    "    return df_combined[passed_col]\n",
    "\n",
    "def impute_continuous_missing_data(passed_col):\n",
    "    \n",
    "    df_null = df[df[passed_col].isnull()]\n",
    "    df_not_null = df[df[passed_col].notnull()]\n",
    "\n",
    "    X = df_not_null.drop(passed_col, axis=1)\n",
    "    y = df_not_null[passed_col]\n",
    "    \n",
    "    other_missing_cols = [col for col in missing_data_cols if col != passed_col]\n",
    "    \n",
    "    label_encoder = LabelEncoder()\n",
    "\n",
    "    for col in X.columns:\n",
    "        if X[col].dtype == 'object' or X[col].dtype == 'category':\n",
    "            X[col] = label_encoder.fit_transform(X[col])\n",
    "    \n",
    "    iterative_imputer = IterativeImputer(estimator=RandomForestRegressor(random_state=42), add_indicator=True)\n",
    "\n",
    "    for col in other_missing_cols:\n",
    "        if X[col].isnull().sum() > 0:\n",
    "            col_with_missing_values = X[col].values.reshape(-1, 1)\n",
    "            imputed_values = iterative_imputer.fit_transform(col_with_missing_values)\n",
    "            X[col] = imputed_values[:, 0]\n",
    "        else:\n",
    "            pass\n",
    "    \n",
    "    X_train, X_test, y_train, y_test = train_test_split(X, y, test_size=0.2, random_state=42)\n",
    "\n",
    "    rf_regressor = RandomForestRegressor()\n",
    "\n",
    "    rf_regressor.fit(X_train, y_train)\n",
    "\n",
    "    y_pred = rf_regressor.predict(X_test)\n",
    "\n",
    "    print(\"MAE =\", mean_absolute_error(y_test, y_pred), \"\\n\")\n",
    "    print(\"RMSE =\", mean_squared_error(y_test, y_pred, squared=False), \"\\n\")\n",
    "    print(\"R2 =\", r2_score(y_test, y_pred), \"\\n\")\n",
    "\n",
    "    X = df_null.drop(passed_col, axis=1)\n",
    "\n",
    "    for col in X.columns:\n",
    "        if X[col].dtype == 'object' or X[col].dtype == 'category':\n",
    "            X[col] = label_encoder.fit_transform(X[col])\n",
    "\n",
    "    for col in other_missing_cols:\n",
    "        if X[col].isnull().sum() > 0:\n",
    "            col_with_missing_values = X[col].values.reshape(-1, 1)\n",
    "            imputed_values = iterative_imputer.fit_transform(col_with_missing_values)\n",
    "            X[col] = imputed_values[:, 0]\n",
    "        else:\n",
    "            pass\n",
    "                \n",
    "    if len(df_null) > 0: \n",
    "        df_null[passed_col] = rf_regressor.predict(X)\n",
    "    else:\n",
    "        pass\n",
    "\n",
    "    df_combined = pd.concat([df_not_null, df_null])\n",
    "    \n",
    "    return df_combined[passed_col]"
   ]
  },
  {
   "cell_type": "code",
   "execution_count": 38,
   "id": "34809e8f",
   "metadata": {
    "execution": {
     "iopub.execute_input": "2024-01-15T10:54:32.193621Z",
     "iopub.status.busy": "2024-01-15T10:54:32.192890Z",
     "iopub.status.idle": "2024-01-15T10:54:32.204807Z",
     "shell.execute_reply": "2024-01-15T10:54:32.203718Z"
    },
    "papermill": {
     "duration": 0.056984,
     "end_time": "2024-01-15T10:54:32.207662",
     "exception": false,
     "start_time": "2024-01-15T10:54:32.150678",
     "status": "completed"
    },
    "tags": []
   },
   "outputs": [
    {
     "data": {
      "text/plain": [
       "ca          611\n",
       "thal        486\n",
       "slope       309\n",
       "fbs          90\n",
       "oldpeak      62\n",
       "trestbps     59\n",
       "thalch       55\n",
       "exang        55\n",
       "chol         30\n",
       "restecg       2\n",
       "dtype: int64"
      ]
     },
     "execution_count": 38,
     "metadata": {},
     "output_type": "execute_result"
    }
   ],
   "source": [
    "df.isnull().sum()[df.isnull().sum() > 0].sort_values(ascending=False)"
   ]
  },
  {
   "cell_type": "code",
   "execution_count": 39,
   "id": "0a4e6ee3",
   "metadata": {
    "execution": {
     "iopub.execute_input": "2024-01-15T10:54:32.293533Z",
     "iopub.status.busy": "2024-01-15T10:54:32.292539Z",
     "iopub.status.idle": "2024-01-15T10:54:36.250684Z",
     "shell.execute_reply": "2024-01-15T10:54:36.248709Z"
    },
    "papermill": {
     "duration": 4.004514,
     "end_time": "2024-01-15T10:54:36.253408",
     "exception": false,
     "start_time": "2024-01-15T10:54:32.248894",
     "status": "completed"
    },
    "tags": []
   },
   "outputs": [
    {
     "name": "stdout",
     "output_type": "stream",
     "text": [
      "Missing Values trestbps : 6.41%\n",
      "MAE = 13.055606936416185 \n",
      "\n",
      "RMSE = 17.015411511383853 \n",
      "\n",
      "R2 = 0.09601190561736406 \n",
      "\n",
      "Missing Values chol : 3.26%\n",
      "MAE = 44.79657303370787 \n",
      "\n",
      "RMSE = 63.69614928036127 \n",
      "\n",
      "R2 = 0.6786006444278219 \n",
      "\n",
      "Missing Values fbs : 9.78%\n",
      "The feature 'fbs' has been imputed with 79.52 accuracy\n",
      "\n",
      "Missing Values restecg : 0.22%\n",
      "The feature 'restecg' has been imputed with 63.59 accuracy\n",
      "\n",
      "Missing Values thalch : 5.98%\n",
      "MAE = 16.754682080924855 \n",
      "\n",
      "RMSE = 21.82494105428744 \n",
      "\n",
      "R2 = 0.3073792913047573 \n",
      "\n",
      "Missing Values exang : 5.98%\n",
      "The feature 'exang' has been imputed with 77.46 accuracy\n",
      "\n",
      "Missing Values oldpeak : 6.74%\n",
      "MAE = 0.571110465116279 \n",
      "\n",
      "RMSE = 0.8027055883871165 \n",
      "\n",
      "R2 = 0.3861383267847823 \n",
      "\n",
      "Missing Values slope : 33.59%\n",
      "The feature 'slope' has been imputed with 67.48 accuracy\n",
      "\n",
      "Missing Values ca : 66.41%\n",
      "The feature 'ca' has been imputed with 62.9 accuracy\n",
      "\n",
      "Missing Values thal : 52.83%\n",
      "The feature 'thal' has been imputed with 70.11 accuracy\n",
      "\n"
     ]
    }
   ],
   "source": [
    "# remove warning\n",
    "import warnings\n",
    "warnings.filterwarnings('ignore')\n",
    "\n",
    "# impute missing values using our functions\n",
    "for col in missing_data_cols:\n",
    "    print(\"Missing Values\", col, \":\", str(round((df[col].isnull().sum() / len(df)) * 100, 2))+\"%\")\n",
    "    if col in categorical_cols:\n",
    "        df[col] = impute_categorical_missing_data(col)\n",
    "    elif col in numeric_cols:\n",
    "        df[col] = impute_continuous_missing_data(col)\n",
    "    else:\n",
    "        pass"
   ]
  },
  {
   "cell_type": "code",
   "execution_count": 40,
   "id": "51549aab",
   "metadata": {
    "execution": {
     "iopub.execute_input": "2024-01-15T10:54:36.339081Z",
     "iopub.status.busy": "2024-01-15T10:54:36.338116Z",
     "iopub.status.idle": "2024-01-15T10:54:36.354289Z",
     "shell.execute_reply": "2024-01-15T10:54:36.352762Z"
    },
    "papermill": {
     "duration": 0.062504,
     "end_time": "2024-01-15T10:54:36.357165",
     "exception": false,
     "start_time": "2024-01-15T10:54:36.294661",
     "status": "completed"
    },
    "tags": []
   },
   "outputs": [
    {
     "data": {
      "text/plain": [
       "id          0.0\n",
       "age         0.0\n",
       "sex         0.0\n",
       "dataset     0.0\n",
       "cp          0.0\n",
       "trestbps    0.0\n",
       "chol        0.0\n",
       "fbs         0.0\n",
       "restecg     0.0\n",
       "thalch      0.0\n",
       "exang       0.0\n",
       "oldpeak     0.0\n",
       "slope       0.0\n",
       "ca          0.0\n",
       "thal        0.0\n",
       "num         0.0\n",
       "dtype: float64"
      ]
     },
     "execution_count": 40,
     "metadata": {},
     "output_type": "execute_result"
    }
   ],
   "source": [
    "round(((df.isnull().sum() / len(df)) * 100).sort_values(ascending=False),2)"
   ]
  },
  {
   "cell_type": "markdown",
   "id": "ed7dff75",
   "metadata": {
    "papermill": {
     "duration": 0.039695,
     "end_time": "2024-01-15T10:54:36.437061",
     "exception": false,
     "start_time": "2024-01-15T10:54:36.397366",
     "status": "completed"
    },
    "tags": []
   },
   "source": [
    "Why I choose this method?\n",
    "\n",
    "- It is a powerful method for imputing missing values.\n",
    "- It is a non-parametric method, which means it does not rely on any assumptions about the distribution of the data.\n",
    "- It is a robust method that can handle outliers and nonlinear relationships.\n",
    "- It is a fast method that can efficiently handle high-dimensional data.\n",
    "- It prevents bias by taking into account all the variables in the dataset."
   ]
  },
  {
   "cell_type": "markdown",
   "id": "a4b78768",
   "metadata": {
    "papermill": {
     "duration": 0.04024,
     "end_time": "2024-01-15T10:54:36.517363",
     "exception": false,
     "start_time": "2024-01-15T10:54:36.477123",
     "status": "completed"
    },
    "tags": []
   },
   "source": [
    "Since no missing values are present in the dataset, we can proceed with the next step of checking for outliers."
   ]
  },
  {
   "cell_type": "markdown",
   "id": "ce3428df",
   "metadata": {
    "papermill": {
     "duration": 0.039978,
     "end_time": "2024-01-15T10:54:36.597497",
     "exception": false,
     "start_time": "2024-01-15T10:54:36.557519",
     "status": "completed"
    },
    "tags": []
   },
   "source": [
    "# Dealing with outliers"
   ]
  },
  {
   "cell_type": "code",
   "execution_count": 41,
   "id": "6b59fb58",
   "metadata": {
    "execution": {
     "iopub.execute_input": "2024-01-15T10:54:36.679332Z",
     "iopub.status.busy": "2024-01-15T10:54:36.678952Z",
     "iopub.status.idle": "2024-01-15T10:54:37.678716Z",
     "shell.execute_reply": "2024-01-15T10:54:37.677510Z"
    },
    "papermill": {
     "duration": 1.043881,
     "end_time": "2024-01-15T10:54:37.681398",
     "exception": false,
     "start_time": "2024-01-15T10:54:36.637517",
     "status": "completed"
    },
    "tags": []
   },
   "outputs": [
    {
     "data": {
      "image/png": "[encoded data removed]",
      "text/plain": [
       "<Figure size 2000x2000 with 5 Axes>"
      ]
     },
     "metadata": {},
     "output_type": "display_data"
    }
   ],
   "source": [
    "# create box plots for all numeric columns using for loop and subplot\n",
    "plt.figure(figsize=(20, 20))\n",
    "\n",
    "colors = ['red', 'green', 'blue', 'orange', 'purple']\n",
    "\n",
    "for i, col in enumerate(numeric_cols):\n",
    "    plt.subplot(3, 2, i+1)\n",
    "    sns.boxplot(x=df[col], color=colors[i])\n",
    "    plt.title(col)\n",
    "plt.show()"
   ]
  },
  {
   "cell_type": "code",
   "execution_count": 42,
   "id": "ebacb77d",
   "metadata": {
    "execution": {
     "iopub.execute_input": "2024-01-15T10:54:37.772168Z",
     "iopub.status.busy": "2024-01-15T10:54:37.771738Z",
     "iopub.status.idle": "2024-01-15T10:54:40.077470Z",
     "shell.execute_reply": "2024-01-15T10:54:40.076146Z"
    },
    "papermill": {
     "duration": 2.355478,
     "end_time": "2024-01-15T10:54:40.080246",
     "exception": false,
     "start_time": "2024-01-15T10:54:37.724768",
     "status": "completed"
    },
    "tags": []
   },
   "outputs": [
    {
     "data": {
      "text/html": [
       "        <script type=\"text/javascript\">\n",
       "        window.PlotlyConfig = {MathJaxConfig: 'local'};\n",
       "        if (window.MathJax && window.MathJax.Hub && window.MathJax.Hub.Config) {window.MathJax.Hub.Config({SVG: {font: \"STIX-Web\"}});}\n",
       "        if (typeof require !== 'undefined') {\n",
       "        require.undef(\"plotly\");\n",
       "        requirejs.config({\n",
       "            paths: {\n",
       "                'plotly': ['https://cdn.plot.ly/plotly-2.25.2.min']\n",
       "            }\n",
       "        });\n",
       "        require(['plotly'], function(Plotly) {\n",
       "            window._Plotly = Plotly;\n",
       "        });\n",
       "        }\n",
       "        </script>\n",
       "        "
      ]
     },
     "metadata": {},
     "output_type": "display_data"
    },
    {
     "data": {
      "text/html": [
       "<div>                            <div id=\"0e5a43e1-4fa0-4cc9-a131-73fb9b1601f2\" class=\"plotly-graph-div\" style=\"height:525px; width:100%;\"></div>            <script type=\"text/javascript\">                require([\"plotly\"], function(Plotly) {                    window.PLOTLYENV=window.PLOTLYENV || {};                                    if (document.getElementById(\"0e5a43e1-4fa0-4cc9-a131-73fb9b1601f2\")) {                    Plotly.newPlot(                        \"0e5a43e1-4fa0-4cc9-a131-73fb9b1601f2\",                        [{\"alignmentgroup\":\"True\",\"hovertemplate\":\"age=%{y}\\u003cextra\\u003e\\u003c\\u002fextra\\u003e\",\"legendgroup\":\"\",\"marker\":{\"color\":\"#636efa\"},\"name\":\"\",\"notched\":false,\"offsetgroup\":\"\",\"orientation\":\"v\",\"showlegend\":false,\"x0\":\" \",\"xaxis\":\"x\",\"y\":[63,67,67,37,41,56,62,57,63,53,57,56,56,44,52,57,48,54,48,49,64,58,58,58,60,50,58,66,43,40,69,60,64,59,44,42,43,57,55,61,65,40,71,59,61,58,51,50,65,53,41,65,44,44,60,54,50,41,54,51,51,46,58,54,54,60,60,54,59,46,65,67,62,65,44,65,60,51,48,58,45,53,39,68,52,44,47,53,53,51,66,62,62,44,63,52,59,60,52,48,45,34,57,71,49,54,59,57,61,39,61,56,52,43,62,41,58,35,63,65,48,63,51,55,65,45,56,54,44,62,54,51,29,51,43,55,70,62,35,51,59,59,52,64,58,47,57,41,45,60,52,42,67,55,64,70,51,58,60,68,46,77,54,58,48,57,52,54,35,45,70,53,59,62,64,57,52,56,43,53,48,56,42,59,60,63,42,66,54,69,50,51,43,62,68,67,69,45,50,59,50,64,57,64,43,45,58,50,55,62,37,38,41,66,52,56,46,46,64,59,41,54,39,53,63,34,47,67,54,66,52,55,49,74,54,54,56,46,49,42,41,41,49,61,60,67,58,47,52,62,57,58,64,51,43,42,67,76,70,57,44,58,60,44,61,42,52,59,40,42,61,66,46,71,59,64,66,39,57,58,57,47,55,35,61,58,58,58,56,56,67,55,44,63,63,41,59,57,45,68,57,57,38,28,29,29,30,31,32,32,32,33,34,34,34,35,35,35,35,36,36,36,36,37,37,37,37,37,37,37,38,38,38,39,39,39,39,39,39,39,39,39,39,40,40,40,40,40,41,41,41,41,41,41,41,42,42,42,42,42,42,42,43,43,43,43,43,43,43,43,44,44,44,44,45,45,45,45,45,45,45,46,46,46,46,46,46,46,47,47,47,47,47,48,48,48,48,48,48,48,48,48,48,48,49,49,49,49,49,49,49,49,50,50,50,50,50,50,50,51,51,51,51,51,51,51,52,52,52,52,52,52,52,52,53,53,53,53,53,53,53,53,53,54,54,54,54,54,54,54,54,54,54,54,54,54,54,54,54,55,55,55,55,55,55,55,55,55,55,56,56,56,56,56,57,57,57,58,58,58,58,59,59,59,59,59,60,61,61,62,62,31,33,34,35,36,37,38,38,38,40,41,41,43,46,46,46,47,47,48,48,48,49,49,49,50,50,51,52,54,54,55,57,58,59,60,63,65,32,38,39,40,43,45,46,46,48,48,48,48,50,52,52,53,54,54,54,54,54,55,56,57,58,58,41,43,44,44,46,47,48,49,49,51,52,52,52,52,53,53,54,55,55,55,56,56,56,58,59,59,65,66,41,43,44,47,47,49,49,50,50,52,52,54,56,58,65,32,34,35,36,38,38,38,38,38,38,40,41,42,42,43,43,43,45,46,46,47,47,47,47,48,50,50,50,50,51,51,51,51,51,51,51,52,52,52,52,53,53,53,53,53,53,53,53,54,54,54,55,55,55,55,56,56,56,56,56,56,56,56,57,57,57,57,57,57,58,58,58,59,59,59,59,59,60,60,60,60,60,60,61,61,61,61,61,61,61,61,61,62,62,62,62,62,62,62,63,63,63,63,63,64,64,64,65,65,65,65,66,66,67,68,68,69,69,70,70,72,73,74,63,44,60,55,66,66,65,60,60,60,56,59,62,63,57,62,63,46,63,60,58,64,63,74,52,69,51,60,56,55,54,77,63,55,52,64,60,60,58,59,61,40,61,41,57,63,59,51,59,42,55,63,62,56,53,68,53,60,62,59,51,61,57,56,58,69,67,58,65,63,55,57,65,54,72,75,49,51,60,64,58,61,67,62,65,63,69,51,62,55,75,40,67,58,60,63,35,62,43,63,68,65,48,63,64,61,50,59,55,45,65,61,49,72,50,64,55,63,59,56,62,74,54,57,62,76,54,70,61,48,48,61,66,68,55,62,71,74,53,58,75,56,58,64,54,54,59,55,57,61,41,71,38,55,56,69,64,72,69,56,62,67,57,69,51,48,69,69,64,57,53,37,67,74,63,58,61,64,58,60,57,55,55,56,57,61,61,58,74,68,51,62,53,62,46,54,62,55,58,62],\"y0\":\" \",\"yaxis\":\"y\",\"type\":\"box\"}],                        {\"template\":{\"data\":{\"histogram2dcontour\":[{\"type\":\"histogram2dcontour\",\"colorbar\":{\"outlinewidth\":0,\"ticks\":\"\"},\"colorscale\":[[0.0,\"#0d0887\"],[0.1111111111111111,\"#46039f\"],[0.2222222222222222,\"#7201a8\"],[0.3333333333333333,\"#9c179e\"],[0.4444444444444444,\"#bd3786\"],[0.5555555555555556,\"#d8576b\"],[0.6666666666666666,\"#ed7953\"],[0.7777777777777778,\"#fb9f3a\"],[0.8888888888888888,\"#fdca26\"],[1.0,\"#f0f921\"]]}],\"choropleth\":[{\"type\":\"choropleth\",\"colorbar\":{\"outlinewidth\":0,\"ticks\":\"\"}}],\"histogram2d\":[{\"type\":\"histogram2d\",\"colorbar\":{\"outlinewidth\":0,\"ticks\":\"\"},\"colorscale\":[[0.0,\"#0d0887\"],[0.1111111111111111,\"#46039f\"],[0.2222222222222222,\"#7201a8\"],[0.3333333333333333,\"#9c179e\"],[0.4444444444444444,\"#bd3786\"],[0.5555555555555556,\"#d8576b\"],[0.6666666666666666,\"#ed7953\"],[0.7777777777777778,\"#fb9f3a\"],[0.8888888888888888,\"#fdca26\"],[1.0,\"#f0f921\"]]}],\"heatmap\":[{\"type\":\"heatmap\",\"colorbar\":{\"outlinewidth\":0,\"ticks\":\"\"},\"colorscale\":[[0.0,\"#0d0887\"],[0.1111111111111111,\"#46039f\"],[0.2222222222222222,\"#7201a8\"],[0.3333333333333333,\"#9c179e\"],[0.4444444444444444,\"#bd3786\"],[0.5555555555555556,\"#d8576b\"],[0.6666666666666666,\"#ed7953\"],[0.7777777777777778,\"#fb9f3a\"],[0.8888888888888888,\"#fdca26\"],[1.0,\"#f0f921\"]]}],\"heatmapgl\":[{\"type\":\"heatmapgl\",\"colorbar\":{\"outlinewidth\":0,\"ticks\":\"\"},\"colorscale\":[[0.0,\"#0d0887\"],[0.1111111111111111,\"#46039f\"],[0.2222222222222222,\"#7201a8\"],[0.3333333333333333,\"#9c179e\"],[0.4444444444444444,\"#bd3786\"],[0.5555555555555556,\"#d8576b\"],[0.6666666666666666,\"#ed7953\"],[0.7777777777777778,\"#fb9f3a\"],[0.8888888888888888,\"#fdca26\"],[1.0,\"#f0f921\"]]}],\"contourcarpet\":[{\"type\":\"contourcarpet\",\"colorbar\":{\"outlinewidth\":0,\"ticks\":\"\"}}],\"contour\":[{\"type\":\"contour\",\"colorbar\":{\"outlinewidth\":0,\"ticks\":\"\"},\"colorscale\":[[0.0,\"#0d0887\"],[0.1111111111111111,\"#46039f\"],[0.2222222222222222,\"#7201a8\"],[0.3333333333333333,\"#9c179e\"],[0.4444444444444444,\"#bd3786\"],[0.5555555555555556,\"#d8576b\"],[0.6666666666666666,\"#ed7953\"],[0.7777777777777778,\"#fb9f3a\"],[0.8888888888888888,\"#fdca26\"],[1.0,\"#f0f921\"]]}],\"surface\":[{\"type\":\"surface\",\"colorbar\":{\"outlinewidth\":0,\"ticks\":\"\"},\"colorscale\":[[0.0,\"#0d0887\"],[0.1111111111111111,\"#46039f\"],[0.2222222222222222,\"#7201a8\"],[0.3333333333333333,\"#9c179e\"],[0.4444444444444444,\"#bd3786\"],[0.5555555555555556,\"#d8576b\"],[0.6666666666666666,\"#ed7953\"],[0.7777777777777778,\"#fb9f3a\"],[0.8888888888888888,\"#fdca26\"],[1.0,\"#f0f921\"]]}],\"mesh3d\":[{\"type\":\"mesh3d\",\"colorbar\":{\"outlinewidth\":0,\"ticks\":\"\"}}],\"scatter\":[{\"fillpattern\":{\"fillmode\":\"overlay\",\"size\":10,\"solidity\":0.2},\"type\":\"scatter\"}],\"parcoords\":[{\"type\":\"parcoords\",\"line\":{\"colorbar\":{\"outlinewidth\":0,\"ticks\":\"\"}}}],\"scatterpolargl\":[{\"type\":\"scatterpolargl\",\"marker\":{\"colorbar\":{\"outlinewidth\":0,\"ticks\":\"\"}}}],\"bar\":[{\"error_x\":{\"color\":\"#2a3f5f\"},\"error_y\":{\"color\":\"#2a3f5f\"},\"marker\":{\"line\":{\"color\":\"#E5ECF6\",\"width\":0.5},\"pattern\":{\"fillmode\":\"overlay\",\"size\":10,\"solidity\":0.2}},\"type\":\"bar\"}],\"scattergeo\":[{\"type\":\"scattergeo\",\"marker\":{\"colorbar\":{\"outlinewidth\":0,\"ticks\":\"\"}}}],\"scatterpolar\":[{\"type\":\"scatterpolar\",\"marker\":{\"colorbar\":{\"outlinewidth\":0,\"ticks\":\"\"}}}],\"histogram\":[{\"marker\":{\"pattern\":{\"fillmode\":\"overlay\",\"size\":10,\"solidity\":0.2}},\"type\":\"histogram\"}],\"scattergl\":[{\"type\":\"scattergl\",\"marker\":{\"colorbar\":{\"outlinewidth\":0,\"ticks\":\"\"}}}],\"scatter3d\":[{\"type\":\"scatter3d\",\"line\":{\"colorbar\":{\"outlinewidth\":0,\"ticks\":\"\"}},\"marker\":{\"colorbar\":{\"outlinewidth\":0,\"ticks\":\"\"}}}],\"scattermapbox\":[{\"type\":\"scattermapbox\",\"marker\":{\"colorbar\":{\"outlinewidth\":0,\"ticks\":\"\"}}}],\"scatterternary\":[{\"type\":\"scatterternary\",\"marker\":{\"colorbar\":{\"outlinewidth\":0,\"ticks\":\"\"}}}],\"scattercarpet\":[{\"type\":\"scattercarpet\",\"marker\":{\"colorbar\":{\"outlinewidth\":0,\"ticks\":\"\"}}}],\"carpet\":[{\"aaxis\":{\"endlinecolor\":\"#2a3f5f\",\"gridcolor\":\"white\",\"linecolor\":\"white\",\"minorgridcolor\":\"white\",\"startlinecolor\":\"#2a3f5f\"},\"baxis\":{\"endlinecolor\":\"#2a3f5f\",\"gridcolor\":\"white\",\"linecolor\":\"white\",\"minorgridcolor\":\"white\",\"startlinecolor\":\"#2a3f5f\"},\"type\":\"carpet\"}],\"table\":[{\"cells\":{\"fill\":{\"color\":\"#EBF0F8\"},\"line\":{\"color\":\"white\"}},\"header\":{\"fill\":{\"color\":\"#C8D4E3\"},\"line\":{\"color\":\"white\"}},\"type\":\"table\"}],\"barpolar\":[{\"marker\":{\"line\":{\"color\":\"#E5ECF6\",\"width\":0.5},\"pattern\":{\"fillmode\":\"overlay\",\"size\":10,\"solidity\":0.2}},\"type\":\"barpolar\"}],\"pie\":[{\"automargin\":true,\"type\":\"pie\"}]},\"layout\":{\"autotypenumbers\":\"strict\",\"colorway\":[\"#636efa\",\"#EF553B\",\"#00cc96\",\"#ab63fa\",\"#FFA15A\",\"#19d3f3\",\"#FF6692\",\"#B6E880\",\"#FF97FF\",\"#FECB52\"],\"font\":{\"color\":\"#2a3f5f\"},\"hovermode\":\"closest\",\"hoverlabel\":{\"align\":\"left\"},\"paper_bgcolor\":\"white\",\"plot_bgcolor\":\"#E5ECF6\",\"polar\":{\"bgcolor\":\"#E5ECF6\",\"angularaxis\":{\"gridcolor\":\"white\",\"linecolor\":\"white\",\"ticks\":\"\"},\"radialaxis\":{\"gridcolor\":\"white\",\"linecolor\":\"white\",\"ticks\":\"\"}},\"ternary\":{\"bgcolor\":\"#E5ECF6\",\"aaxis\":{\"gridcolor\":\"white\",\"linecolor\":\"white\",\"ticks\":\"\"},\"baxis\":{\"gridcolor\":\"white\",\"linecolor\":\"white\",\"ticks\":\"\"},\"caxis\":{\"gridcolor\":\"white\",\"linecolor\":\"white\",\"ticks\":\"\"}},\"coloraxis\":{\"colorbar\":{\"outlinewidth\":0,\"ticks\":\"\"}},\"colorscale\":{\"sequential\":[[0.0,\"#0d0887\"],[0.1111111111111111,\"#46039f\"],[0.2222222222222222,\"#7201a8\"],[0.3333333333333333,\"#9c179e\"],[0.4444444444444444,\"#bd3786\"],[0.5555555555555556,\"#d8576b\"],[0.6666666666666666,\"#ed7953\"],[0.7777777777777778,\"#fb9f3a\"],[0.8888888888888888,\"#fdca26\"],[1.0,\"#f0f921\"]],\"sequentialminus\":[[0.0,\"#0d0887\"],[0.1111111111111111,\"#46039f\"],[0.2222222222222222,\"#7201a8\"],[0.3333333333333333,\"#9c179e\"],[0.4444444444444444,\"#bd3786\"],[0.5555555555555556,\"#d8576b\"],[0.6666666666666666,\"#ed7953\"],[0.7777777777777778,\"#fb9f3a\"],[0.8888888888888888,\"#fdca26\"],[1.0,\"#f0f921\"]],\"diverging\":[[0,\"#8e0152\"],[0.1,\"#c51b7d\"],[0.2,\"#de77ae\"],[0.3,\"#f1b6da\"],[0.4,\"#fde0ef\"],[0.5,\"#f7f7f7\"],[0.6,\"#e6f5d0\"],[0.7,\"#b8e186\"],[0.8,\"#7fbc41\"],[0.9,\"#4d9221\"],[1,\"#276419\"]]},\"xaxis\":{\"gridcolor\":\"white\",\"linecolor\":\"white\",\"ticks\":\"\",\"title\":{\"standoff\":15},\"zerolinecolor\":\"white\",\"automargin\":true,\"zerolinewidth\":2},\"yaxis\":{\"gridcolor\":\"white\",\"linecolor\":\"white\",\"ticks\":\"\",\"title\":{\"standoff\":15},\"zerolinecolor\":\"white\",\"automargin\":true,\"zerolinewidth\":2},\"scene\":{\"xaxis\":{\"backgroundcolor\":\"#E5ECF6\",\"gridcolor\":\"white\",\"linecolor\":\"white\",\"showbackground\":true,\"ticks\":\"\",\"zerolinecolor\":\"white\",\"gridwidth\":2},\"yaxis\":{\"backgroundcolor\":\"#E5ECF6\",\"gridcolor\":\"white\",\"linecolor\":\"white\",\"showbackground\":true,\"ticks\":\"\",\"zerolinecolor\":\"white\",\"gridwidth\":2},\"zaxis\":{\"backgroundcolor\":\"#E5ECF6\",\"gridcolor\":\"white\",\"linecolor\":\"white\",\"showbackground\":true,\"ticks\":\"\",\"zerolinecolor\":\"white\",\"gridwidth\":2}},\"shapedefaults\":{\"line\":{\"color\":\"#2a3f5f\"}},\"annotationdefaults\":{\"arrowcolor\":\"#2a3f5f\",\"arrowhead\":0,\"arrowwidth\":1},\"geo\":{\"bgcolor\":\"white\",\"landcolor\":\"#E5ECF6\",\"subunitcolor\":\"white\",\"showland\":true,\"showlakes\":true,\"lakecolor\":\"white\"},\"title\":{\"x\":0.05},\"mapbox\":{\"style\":\"light\"}}},\"xaxis\":{\"anchor\":\"y\",\"domain\":[0.0,1.0]},\"yaxis\":{\"anchor\":\"x\",\"domain\":[0.0,1.0],\"title\":{\"text\":\"age\"}},\"legend\":{\"tracegroupgap\":0},\"margin\":{\"t\":60},\"boxmode\":\"group\"},                        {\"responsive\": true}                    ).then(function(){\n",
       "                            \n",
       "var gd = document.getElementById('0e5a43e1-4fa0-4cc9-a131-73fb9b1601f2');\n",
       "var x = new MutationObserver(function (mutations, observer) {{\n",
       "        var display = window.getComputedStyle(gd).display;\n",
       "        if (!display || display === 'none') {{\n",
       "            console.log([gd, 'removed!']);\n",
       "            Plotly.purge(gd);\n",
       "            observer.disconnect();\n",
       "        }}\n",
       "}});\n",
       "\n",
       "// Listen for the removal of the full notebook cells\n",
       "var notebookContainer = gd.closest('#notebook-container');\n",
       "if (notebookContainer) {{\n",
       "    x.observe(notebookContainer, {childList: true});\n",
       "}}\n",
       "\n",
       "// Listen for the clearing of the current output cell\n",
       "var outputEl = gd.closest('.output');\n",
       "if (outputEl) {{\n",
       "    x.observe(outputEl, {childList: true});\n",
       "}}\n",
       "\n",
       "                        })                };                });            </script>        </div>"
      ]
     },
     "metadata": {},
     "output_type": "display_data"
    },
    {
     "data": {
      "text/html": [
       "<div>                            <div id=\"2b78a126-4e0b-47a7-8a5a-9fbeef7c41cd\" class=\"plotly-graph-div\" style=\"height:525px; width:100%;\"></div>            <script type=\"text/javascript\">                require([\"plotly\"], function(Plotly) {                    window.PLOTLYENV=window.PLOTLYENV || {};                                    if (document.getElementById(\"2b78a126-4e0b-47a7-8a5a-9fbeef7c41cd\")) {                    Plotly.newPlot(                        \"2b78a126-4e0b-47a7-8a5a-9fbeef7c41cd\",                        [{\"alignmentgroup\":\"True\",\"hovertemplate\":\"trestbps=%{y}\\u003cextra\\u003e\\u003c\\u002fextra\\u003e\",\"legendgroup\":\"\",\"marker\":{\"color\":\"#636efa\"},\"name\":\"\",\"notched\":false,\"offsetgroup\":\"\",\"orientation\":\"v\",\"showlegend\":false,\"x0\":\" \",\"xaxis\":\"x\",\"y\":[145.0,160.0,120.0,130.0,130.0,120.0,140.0,120.0,130.0,140.0,140.0,140.0,130.0,120.0,172.0,150.0,110.0,140.0,130.0,130.0,110.0,150.0,120.0,132.0,130.0,120.0,120.0,150.0,150.0,110.0,140.0,117.0,140.0,135.0,130.0,140.0,120.0,150.0,132.0,150.0,150.0,140.0,160.0,150.0,130.0,112.0,110.0,150.0,140.0,130.0,105.0,120.0,112.0,130.0,130.0,124.0,140.0,110.0,125.0,125.0,130.0,142.0,128.0,135.0,120.0,145.0,140.0,150.0,170.0,150.0,155.0,125.0,120.0,110.0,110.0,160.0,125.0,140.0,130.0,150.0,104.0,130.0,140.0,180.0,120.0,140.0,138.0,128.0,138.0,130.0,120.0,160.0,130.0,108.0,135.0,128.0,110.0,150.0,134.0,122.0,115.0,118.0,128.0,110.0,120.0,108.0,140.0,128.0,120.0,118.0,145.0,125.0,118.0,132.0,130.0,135.0,140.0,138.0,130.0,135.0,130.0,150.0,100.0,140.0,138.0,130.0,200.0,110.0,120.0,124.0,120.0,94.0,130.0,140.0,122.0,135.0,145.0,120.0,120.0,125.0,140.0,170.0,128.0,125.0,105.0,108.0,165.0,112.0,128.0,102.0,152.0,102.0,115.0,160.0,120.0,130.0,140.0,125.0,140.0,118.0,101.0,125.0,110.0,100.0,124.0,132.0,138.0,132.0,126.0,112.0,160.0,142.0,174.0,140.0,145.0,152.0,108.0,132.0,130.0,130.0,124.0,134.0,148.0,178.0,158.0,140.0,120.0,160.0,192.0,140.0,129.0,140.0,132.0,138.0,120.0,100.0,160.0,138.0,120.0,160.0,110.0,180.0,150.0,140.0,110.0,142.0,128.0,144.0,130.0,150.0,120.0,120.0,130.0,178.0,112.0,120.0,105.0,138.0,130.0,138.0,112.0,108.0,94.0,123.0,108.0,118.0,112.0,152.0,110.0,112.0,136.0,180.0,118.0,120.0,160.0,122.0,130.0,120.0,134.0,120.0,110.0,126.0,130.0,134.0,120.0,120.0,100.0,110.0,125.0,128.0,110.0,146.0,128.0,120.0,115.0,120.0,106.0,140.0,156.0,124.0,118.0,136.0,150.0,120.0,138.0,136.0,128.0,126.0,152.0,130.0,140.0,160.0,140.0,112.0,134.0,170.0,146.0,138.0,154.0,130.0,110.0,130.0,128.0,122.0,148.0,114.0,170.0,125.0,130.0,120.0,152.0,132.0,120.0,140.0,124.0,120.0,164.0,140.0,110.0,144.0,130.0,130.0,138.0,130.0,120.0,140.0,170.0,100.0,105.0,110.0,125.0,120.0,130.0,150.0,98.0,120.0,140.0,120.0,150.0,120.0,112.0,130.0,150.0,120.0,130.0,130.0,130.0,130.0,120.0,130.0,120.0,140.0,145.0,110.0,120.0,120.0,120.0,130.0,190.0,120.0,160.0,110.0,130.0,130.0,140.0,130.0,130.0,140.0,110.0,125.0,130.0,120.0,120.0,125.0,112.0,115.0,120.0,120.0,150.0,120.0,160.0,140.0,100.0,120.0,120.0,120.0,120.0,150.0,150.0,142.0,120.0,120.0,130.0,150.0,130.0,180.0,132.0,140.0,135.0,120.0,140.0,130.0,140.0,120.0,150.0,110.0,110.0,180.0,140.0,130.0,110.0,160.0,140.0,132.3,120.0,120.0,120.0,108.0,120.0,150.0,100.0,130.0,140.0,110.0,110.0,110.0,124.0,130.0,100.0,140.0,120.0,140.0,110.0,120.0,120.0,140.0,170.0,140.0,150.0,160.0,110.0,130.0,150.0,125.0,130.0,130.0,120.0,140.0,125.0,130.0,120.0,140.0,160.0,140.0,113.0,140.0,120.0,120.0,140.0,120.0,124.0,130.0,140.0,120.0,120.0,120.0,130.0,140.0,150.0,160.0,120.0,110.0,120.0,120.0,160.0,160.0,120.0,150.0,150.0,110.0,122.0,130.0,120.0,140.0,145.0,110.0,120.0,120.0,140.0,130.0,130.0,130.0,130.0,120.0,130.0,180.0,140.0,130.0,130.0,140.0,135.0,130.0,140.0,130.0,180.0,140.0,120.0,130.0,125.0,160.0,140.0,120.0,100.0,140.0,110.0,120.0,140.0,110.0,120.0,92.0,120.0,110.0,120.0,150.0,110.0,118.0,120.0,140.0,150.0,106.0,120.0,160.0,160.0,115.0,130.0,140.0,145.0,160.0,130.0,125.0,125.0,140.0,140.0,130.0,130.0,100.0,150.0,140.0,118.0,110.0,110.0,150.0,120.0,130.0,120.0,130.0,122.0,160.0,160.0,160.0,130.0,120.0,170.0,120.0,120.0,130.0,130.0,140.0,200.0,140.0,150.0,150.0,160.0,130.0,130.0,120.0,150.0,130.0,140.0,135.0,138.0,130.0,140.0,135.0,112.0,130.0,140.0,160.0,145.0,180.0,140.0,140.0,160.0,145.0,120.0,150.0,170.0,136.0,130.0,140.0,170.0,140.0,120.0,140.0,135.0,120.0,160.0,128.0,150.0,140.0,140.0,140.0,160.0,130.0,155.0,180.0,130.0,95.0,115.0,127.59,110.0,105.0,110.0,100.0,115.0,135.0,150.0,95.0,125.0,105.0,145.0,100.0,115.0,140.0,110.0,100.0,115.0,110.0,155.0,110.0,160.0,115.0,160.0,115.0,120.0,145.0,120.0,110.0,120.0,130.0,130.0,140.0,95.0,130.0,135.0,165.0,95.0,120.0,130.0,105.0,160.0,120.0,125.0,130.0,80.0,120.0,130.0,180.0,140.0,115.0,120.0,140.0,120.0,125.0,155.0,115.0,120.0,120.0,125.0,140.0,105.0,110.0,140.0,140.0,160.0,95.0,115.0,130.0,170.0,125.0,110.0,120.0,125.0,135.0,115.0,125.0,130.0,135.0,160.0,160.0,200.0,105.0,110.0,125.0,130.0,130.0,150.0,150.0,160.0,140.0,120.0,120.0,160.0,115.0,115.0,150.0,100.0,140.0,150.0,150.0,185.0,200.0,95.0,110.0,115.0,145.0,155.0,160.0,155.0,150.0,145.0,135.0,145.0,135.0,139.83,115.0,140.0,160.0,160.0,145.0,140.0,130.0,132.0,142.0,110.0,120.0,150.0,180.0,120.0,160.0,126.0,140.0,110.0,135.64,128.0,120.0,170.0,110.0,126.0,152.0,116.0,120.0,130.0,136.96,128.0,130.0,129.25,130.0,120.0,130.04,130.21,124.0,160.0,0.0,122.0,144.0,135.21,120.0,136.0,154.0,120.0,125.0,132.09,104.0,148.19,136.0,122.0,128.0,127.59,134.0,120.0,139.67,152.0,124.0,126.0,138.0,154.0,140.82,136.77,178.0,131.58,110.0,130.0,170.0,126.0,140.0,142.0,120.0,137.49,138.7,110.0,140.0,136.39,136.0,120.0,170.0,130.0,133.85,142.0,142.0,132.0,146.0,160.0,135.0,136.0,130.0,140.0,131.35,158.0,131.86,136.0,106.0,120.0,110.0,136.7,160.0,134.55,112.0,122.0,130.0,150.0,150.0,102.0,96.0,130.0,120.0,144.0,124.0,150.0,126.28,127.99,132.85,132.68,134.67,129.53,138.89,116.0,110.0,125.0,135.65,134.34,150.0,130.0,110.0,129.51,104.0,138.0,170.0,140.0,134.87,132.0,142.0,112.0,140.88,172.0,120.0,134.8,139.32,155.0,150.0,160.0,139.07,131.1,134.0,132.55,136.47,140.0,132.24,144.0,134.18,150.0,130.0,110.0,158.0,128.0,141.65,150.0,160.0,141.95,145.24,150.04,143.65,156.0,152.86,135.18,140.0,122.0,141.15,141.61,180.0,124.0,118.0,140.0,140.0,139.58,100.0,190.0,130.0,160.0,130.0,122.0,138.24,120.0,130.0,130.0,140.26,120.0,150.0,155.0,134.0,114.0,160.0,144.0,158.0,134.0,127.0,138.45,122.0,154.25,120.0],\"y0\":\" \",\"yaxis\":\"y\",\"type\":\"box\"}],                        {\"template\":{\"data\":{\"histogram2dcontour\":[{\"type\":\"histogram2dcontour\",\"colorbar\":{\"outlinewidth\":0,\"ticks\":\"\"},\"colorscale\":[[0.0,\"#0d0887\"],[0.1111111111111111,\"#46039f\"],[0.2222222222222222,\"#7201a8\"],[0.3333333333333333,\"#9c179e\"],[0.4444444444444444,\"#bd3786\"],[0.5555555555555556,\"#d8576b\"],[0.6666666666666666,\"#ed7953\"],[0.7777777777777778,\"#fb9f3a\"],[0.8888888888888888,\"#fdca26\"],[1.0,\"#f0f921\"]]}],\"choropleth\":[{\"type\":\"choropleth\",\"colorbar\":{\"outlinewidth\":0,\"ticks\":\"\"}}],\"histogram2d\":[{\"type\":\"histogram2d\",\"colorbar\":{\"outlinewidth\":0,\"ticks\":\"\"},\"colorscale\":[[0.0,\"#0d0887\"],[0.1111111111111111,\"#46039f\"],[0.2222222222222222,\"#7201a8\"],[0.3333333333333333,\"#9c179e\"],[0.4444444444444444,\"#bd3786\"],[0.5555555555555556,\"#d8576b\"],[0.6666666666666666,\"#ed7953\"],[0.7777777777777778,\"#fb9f3a\"],[0.8888888888888888,\"#fdca26\"],[1.0,\"#f0f921\"]]}],\"heatmap\":[{\"type\":\"heatmap\",\"colorbar\":{\"outlinewidth\":0,\"ticks\":\"\"},\"colorscale\":[[0.0,\"#0d0887\"],[0.1111111111111111,\"#46039f\"],[0.2222222222222222,\"#7201a8\"],[0.3333333333333333,\"#9c179e\"],[0.4444444444444444,\"#bd3786\"],[0.5555555555555556,\"#d8576b\"],[0.6666666666666666,\"#ed7953\"],[0.7777777777777778,\"#fb9f3a\"],[0.8888888888888888,\"#fdca26\"],[1.0,\"#f0f921\"]]}],\"heatmapgl\":[{\"type\":\"heatmapgl\",\"colorbar\":{\"outlinewidth\":0,\"ticks\":\"\"},\"colorscale\":[[0.0,\"#0d0887\"],[0.1111111111111111,\"#46039f\"],[0.2222222222222222,\"#7201a8\"],[0.3333333333333333,\"#9c179e\"],[0.4444444444444444,\"#bd3786\"],[0.5555555555555556,\"#d8576b\"],[0.6666666666666666,\"#ed7953\"],[0.7777777777777778,\"#fb9f3a\"],[0.8888888888888888,\"#fdca26\"],[1.0,\"#f0f921\"]]}],\"contourcarpet\":[{\"type\":\"contourcarpet\",\"colorbar\":{\"outlinewidth\":0,\"ticks\":\"\"}}],\"contour\":[{\"type\":\"contour\",\"colorbar\":{\"outlinewidth\":0,\"ticks\":\"\"},\"colorscale\":[[0.0,\"#0d0887\"],[0.1111111111111111,\"#46039f\"],[0.2222222222222222,\"#7201a8\"],[0.3333333333333333,\"#9c179e\"],[0.4444444444444444,\"#bd3786\"],[0.5555555555555556,\"#d8576b\"],[0.6666666666666666,\"#ed7953\"],[0.7777777777777778,\"#fb9f3a\"],[0.8888888888888888,\"#fdca26\"],[1.0,\"#f0f921\"]]}],\"surface\":[{\"type\":\"surface\",\"colorbar\":{\"outlinewidth\":0,\"ticks\":\"\"},\"colorscale\":[[0.0,\"#0d0887\"],[0.1111111111111111,\"#46039f\"],[0.2222222222222222,\"#7201a8\"],[0.3333333333333333,\"#9c179e\"],[0.4444444444444444,\"#bd3786\"],[0.5555555555555556,\"#d8576b\"],[0.6666666666666666,\"#ed7953\"],[0.7777777777777778,\"#fb9f3a\"],[0.8888888888888888,\"#fdca26\"],[1.0,\"#f0f921\"]]}],\"mesh3d\":[{\"type\":\"mesh3d\",\"colorbar\":{\"outlinewidth\":0,\"ticks\":\"\"}}],\"scatter\":[{\"fillpattern\":{\"fillmode\":\"overlay\",\"size\":10,\"solidity\":0.2},\"type\":\"scatter\"}],\"parcoords\":[{\"type\":\"parcoords\",\"line\":{\"colorbar\":{\"outlinewidth\":0,\"ticks\":\"\"}}}],\"scatterpolargl\":[{\"type\":\"scatterpolargl\",\"marker\":{\"colorbar\":{\"outlinewidth\":0,\"ticks\":\"\"}}}],\"bar\":[{\"error_x\":{\"color\":\"#2a3f5f\"},\"error_y\":{\"color\":\"#2a3f5f\"},\"marker\":{\"line\":{\"color\":\"#E5ECF6\",\"width\":0.5},\"pattern\":{\"fillmode\":\"overlay\",\"size\":10,\"solidity\":0.2}},\"type\":\"bar\"}],\"scattergeo\":[{\"type\":\"scattergeo\",\"marker\":{\"colorbar\":{\"outlinewidth\":0,\"ticks\":\"\"}}}],\"scatterpolar\":[{\"type\":\"scatterpolar\",\"marker\":{\"colorbar\":{\"outlinewidth\":0,\"ticks\":\"\"}}}],\"histogram\":[{\"marker\":{\"pattern\":{\"fillmode\":\"overlay\",\"size\":10,\"solidity\":0.2}},\"type\":\"histogram\"}],\"scattergl\":[{\"type\":\"scattergl\",\"marker\":{\"colorbar\":{\"outlinewidth\":0,\"ticks\":\"\"}}}],\"scatter3d\":[{\"type\":\"scatter3d\",\"line\":{\"colorbar\":{\"outlinewidth\":0,\"ticks\":\"\"}},\"marker\":{\"colorbar\":{\"outlinewidth\":0,\"ticks\":\"\"}}}],\"scattermapbox\":[{\"type\":\"scattermapbox\",\"marker\":{\"colorbar\":{\"outlinewidth\":0,\"ticks\":\"\"}}}],\"scatterternary\":[{\"type\":\"scatterternary\",\"marker\":{\"colorbar\":{\"outlinewidth\":0,\"ticks\":\"\"}}}],\"scattercarpet\":[{\"type\":\"scattercarpet\",\"marker\":{\"colorbar\":{\"outlinewidth\":0,\"ticks\":\"\"}}}],\"carpet\":[{\"aaxis\":{\"endlinecolor\":\"#2a3f5f\",\"gridcolor\":\"white\",\"linecolor\":\"white\",\"minorgridcolor\":\"white\",\"startlinecolor\":\"#2a3f5f\"},\"baxis\":{\"endlinecolor\":\"#2a3f5f\",\"gridcolor\":\"white\",\"linecolor\":\"white\",\"minorgridcolor\":\"white\",\"startlinecolor\":\"#2a3f5f\"},\"type\":\"carpet\"}],\"table\":[{\"cells\":{\"fill\":{\"color\":\"#EBF0F8\"},\"line\":{\"color\":\"white\"}},\"header\":{\"fill\":{\"color\":\"#C8D4E3\"},\"line\":{\"color\":\"white\"}},\"type\":\"table\"}],\"barpolar\":[{\"marker\":{\"line\":{\"color\":\"#E5ECF6\",\"width\":0.5},\"pattern\":{\"fillmode\":\"overlay\",\"size\":10,\"solidity\":0.2}},\"type\":\"barpolar\"}],\"pie\":[{\"automargin\":true,\"type\":\"pie\"}]},\"layout\":{\"autotypenumbers\":\"strict\",\"colorway\":[\"#636efa\",\"#EF553B\",\"#00cc96\",\"#ab63fa\",\"#FFA15A\",\"#19d3f3\",\"#FF6692\",\"#B6E880\",\"#FF97FF\",\"#FECB52\"],\"font\":{\"color\":\"#2a3f5f\"},\"hovermode\":\"closest\",\"hoverlabel\":{\"align\":\"left\"},\"paper_bgcolor\":\"white\",\"plot_bgcolor\":\"#E5ECF6\",\"polar\":{\"bgcolor\":\"#E5ECF6\",\"angularaxis\":{\"gridcolor\":\"white\",\"linecolor\":\"white\",\"ticks\":\"\"},\"radialaxis\":{\"gridcolor\":\"white\",\"linecolor\":\"white\",\"ticks\":\"\"}},\"ternary\":{\"bgcolor\":\"#E5ECF6\",\"aaxis\":{\"gridcolor\":\"white\",\"linecolor\":\"white\",\"ticks\":\"\"},\"baxis\":{\"gridcolor\":\"white\",\"linecolor\":\"white\",\"ticks\":\"\"},\"caxis\":{\"gridcolor\":\"white\",\"linecolor\":\"white\",\"ticks\":\"\"}},\"coloraxis\":{\"colorbar\":{\"outlinewidth\":0,\"ticks\":\"\"}},\"colorscale\":{\"sequential\":[[0.0,\"#0d0887\"],[0.1111111111111111,\"#46039f\"],[0.2222222222222222,\"#7201a8\"],[0.3333333333333333,\"#9c179e\"],[0.4444444444444444,\"#bd3786\"],[0.5555555555555556,\"#d8576b\"],[0.6666666666666666,\"#ed7953\"],[0.7777777777777778,\"#fb9f3a\"],[0.8888888888888888,\"#fdca26\"],[1.0,\"#f0f921\"]],\"sequentialminus\":[[0.0,\"#0d0887\"],[0.1111111111111111,\"#46039f\"],[0.2222222222222222,\"#7201a8\"],[0.3333333333333333,\"#9c179e\"],[0.4444444444444444,\"#bd3786\"],[0.5555555555555556,\"#d8576b\"],[0.6666666666666666,\"#ed7953\"],[0.7777777777777778,\"#fb9f3a\"],[0.8888888888888888,\"#fdca26\"],[1.0,\"#f0f921\"]],\"diverging\":[[0,\"#8e0152\"],[0.1,\"#c51b7d\"],[0.2,\"#de77ae\"],[0.3,\"#f1b6da\"],[0.4,\"#fde0ef\"],[0.5,\"#f7f7f7\"],[0.6,\"#e6f5d0\"],[0.7,\"#b8e186\"],[0.8,\"#7fbc41\"],[0.9,\"#4d9221\"],[1,\"#276419\"]]},\"xaxis\":{\"gridcolor\":\"white\",\"linecolor\":\"white\",\"ticks\":\"\",\"title\":{\"standoff\":15},\"zerolinecolor\":\"white\",\"automargin\":true,\"zerolinewidth\":2},\"yaxis\":{\"gridcolor\":\"white\",\"linecolor\":\"white\",\"ticks\":\"\",\"title\":{\"standoff\":15},\"zerolinecolor\":\"white\",\"automargin\":true,\"zerolinewidth\":2},\"scene\":{\"xaxis\":{\"backgroundcolor\":\"#E5ECF6\",\"gridcolor\":\"white\",\"linecolor\":\"white\",\"showbackground\":true,\"ticks\":\"\",\"zerolinecolor\":\"white\",\"gridwidth\":2},\"yaxis\":{\"backgroundcolor\":\"#E5ECF6\",\"gridcolor\":\"white\",\"linecolor\":\"white\",\"showbackground\":true,\"ticks\":\"\",\"zerolinecolor\":\"white\",\"gridwidth\":2},\"zaxis\":{\"backgroundcolor\":\"#E5ECF6\",\"gridcolor\":\"white\",\"linecolor\":\"white\",\"showbackground\":true,\"ticks\":\"\",\"zerolinecolor\":\"white\",\"gridwidth\":2}},\"shapedefaults\":{\"line\":{\"color\":\"#2a3f5f\"}},\"annotationdefaults\":{\"arrowcolor\":\"#2a3f5f\",\"arrowhead\":0,\"arrowwidth\":1},\"geo\":{\"bgcolor\":\"white\",\"landcolor\":\"#E5ECF6\",\"subunitcolor\":\"white\",\"showland\":true,\"showlakes\":true,\"lakecolor\":\"white\"},\"title\":{\"x\":0.05},\"mapbox\":{\"style\":\"light\"}}},\"xaxis\":{\"anchor\":\"y\",\"domain\":[0.0,1.0]},\"yaxis\":{\"anchor\":\"x\",\"domain\":[0.0,1.0],\"title\":{\"text\":\"trestbps\"}},\"legend\":{\"tracegroupgap\":0},\"margin\":{\"t\":60},\"boxmode\":\"group\"},                        {\"responsive\": true}                    ).then(function(){\n",
       "                            \n",
       "var gd = document.getElementById('2b78a126-4e0b-47a7-8a5a-9fbeef7c41cd');\n",
       "var x = new MutationObserver(function (mutations, observer) {{\n",
       "        var display = window.getComputedStyle(gd).display;\n",
       "        if (!display || display === 'none') {{\n",
       "            console.log([gd, 'removed!']);\n",
       "            Plotly.purge(gd);\n",
       "            observer.disconnect();\n",
       "        }}\n",
       "}});\n",
       "\n",
       "// Listen for the removal of the full notebook cells\n",
       "var notebookContainer = gd.closest('#notebook-container');\n",
       "if (notebookContainer) {{\n",
       "    x.observe(notebookContainer, {childList: true});\n",
       "}}\n",
       "\n",
       "// Listen for the clearing of the current output cell\n",
       "var outputEl = gd.closest('.output');\n",
       "if (outputEl) {{\n",
       "    x.observe(outputEl, {childList: true});\n",
       "}}\n",
       "\n",
       "                        })                };                });            </script>        </div>"
      ]
     },
     "metadata": {},
     "output_type": "display_data"
    },
    {
     "data": {
      "text/html": [
       "<div>                            <div id=\"512b0dd2-ae7a-46c4-989f-5d769b93b239\" class=\"plotly-graph-div\" style=\"height:525px; width:100%;\"></div>            <script type=\"text/javascript\">                require([\"plotly\"], function(Plotly) {                    window.PLOTLYENV=window.PLOTLYENV || {};                                    if (document.getElementById(\"512b0dd2-ae7a-46c4-989f-5d769b93b239\")) {                    Plotly.newPlot(                        \"512b0dd2-ae7a-46c4-989f-5d769b93b239\",                        [{\"alignmentgroup\":\"True\",\"hovertemplate\":\"chol=%{y}\\u003cextra\\u003e\\u003c\\u002fextra\\u003e\",\"legendgroup\":\"\",\"marker\":{\"color\":\"#636efa\"},\"name\":\"\",\"notched\":false,\"offsetgroup\":\"\",\"orientation\":\"v\",\"showlegend\":false,\"x0\":\" \",\"xaxis\":\"x\",\"y\":[233.0,286.0,229.0,250.0,204.0,236.0,268.0,354.0,254.0,203.0,192.0,294.0,256.0,263.0,199.0,168.0,229.0,239.0,275.0,266.0,211.0,283.0,284.0,224.0,206.0,219.0,340.0,226.0,247.0,167.0,239.0,230.0,335.0,234.0,233.0,226.0,177.0,276.0,353.0,243.0,225.0,199.0,302.0,212.0,330.0,230.0,175.0,243.0,417.0,197.0,198.0,177.0,290.0,219.0,253.0,266.0,233.0,172.0,273.0,213.0,305.0,177.0,216.0,304.0,188.0,282.0,185.0,232.0,326.0,231.0,269.0,254.0,267.0,248.0,197.0,360.0,258.0,308.0,245.0,270.0,208.0,264.0,321.0,274.0,325.0,235.0,257.0,216.0,234.0,256.0,302.0,164.0,231.0,141.0,252.0,255.0,239.0,258.0,201.0,222.0,260.0,182.0,303.0,265.0,188.0,309.0,177.0,229.0,260.0,219.0,307.0,249.0,186.0,341.0,263.0,203.0,211.0,183.0,330.0,254.0,256.0,407.0,222.0,217.0,282.0,234.0,288.0,239.0,220.0,209.0,258.0,227.0,204.0,261.0,213.0,250.0,174.0,281.0,198.0,245.0,221.0,288.0,205.0,309.0,240.0,243.0,289.0,250.0,308.0,318.0,298.0,265.0,564.0,289.0,246.0,322.0,299.0,300.0,293.0,277.0,197.0,304.0,214.0,248.0,255.0,207.0,223.0,288.0,282.0,160.0,269.0,226.0,249.0,394.0,212.0,274.0,233.0,184.0,315.0,246.0,274.0,409.0,244.0,270.0,305.0,195.0,240.0,246.0,283.0,254.0,196.0,298.0,247.0,294.0,211.0,299.0,234.0,236.0,244.0,273.0,254.0,325.0,126.0,313.0,211.0,309.0,259.0,200.0,262.0,244.0,215.0,231.0,214.0,228.0,230.0,193.0,204.0,243.0,303.0,271.0,268.0,267.0,199.0,282.0,269.0,210.0,204.0,277.0,206.0,212.0,196.0,327.0,149.0,269.0,201.0,286.0,283.0,249.0,271.0,295.0,235.0,306.0,269.0,234.0,178.0,237.0,234.0,275.0,212.0,208.0,201.0,218.0,263.0,295.0,303.0,209.0,223.0,197.0,245.0,261.0,242.0,319.0,240.0,226.0,166.0,315.0,204.0,218.0,223.0,180.0,207.0,228.0,311.0,149.0,204.0,227.0,278.0,220.0,232.0,197.0,335.0,253.0,205.0,192.0,203.0,318.0,225.0,220.0,221.0,240.0,212.0,342.0,169.0,187.0,197.0,157.0,176.0,241.0,264.0,193.0,131.0,236.0,175.0,132.0,243.0,255.59,237.0,219.0,198.0,225.0,254.0,298.0,161.0,214.0,220.0,160.0,167.0,308.0,264.0,166.0,340.0,209.0,160.0,260.0,211.0,173.0,283.0,194.0,223.0,315.0,275.0,297.0,292.0,182.0,241.01,200.0,204.0,254.94,241.0,339.0,147.0,273.0,307.0,275.0,289.0,215.0,281.0,225.15,250.0,184.0,245.0,291.0,295.0,269.0,250.0,211.0,196.0,198.0,268.0,228.0,147.0,358.0,223.0,201.0,215.0,249.0,266.0,186.0,208.53,207.0,218.0,184.0,215.0,412.0,237.0,227.34,297.0,224.0,204.85,225.0,224.0,238.0,275.0,230.0,163.0,238.0,240.0,280.0,257.0,230.64,249.0,263.0,276.0,308.0,233.03,284.0,195.0,163.0,254.0,227.0,221.31,245.0,238.0,211.0,211.27,210.5,201.0,207.0,253.0,187.0,297.0,221.23,202.0,328.0,168.0,216.0,209.0,129.0,215.0,194.0,190.0,220.0,200.0,188.0,224.0,179.0,210.0,214.36,272.0,180.0,284.0,100.0,196.0,259.0,468.0,216.0,274.0,222.56,320.0,195.0,260.0,182.0,243.0,221.0,230.0,273.0,253.0,309.0,230.0,312.0,171.0,208.0,238.0,246.0,195.0,305.0,217.0,214.35,365.0,344.0,320.0,394.0,256.0,196.0,326.0,277.0,220.0,270.0,229.0,219.0,184.0,228.2,276.0,85.0,308.0,347.0,260.0,230.0,251.0,179.0,222.0,188.0,287.0,318.0,213.0,228.3,246.0,294.0,292.0,193.0,271.0,270.0,246.0,156.0,257.0,267.0,207.0,196.0,282.0,117.0,466.0,289.0,237.0,247.0,202.0,186.0,277.0,193.0,226.0,263.0,260.0,268.0,180.0,265.0,206.0,288.0,264.0,303.0,225.0,216.0,224.0,201.0,265.0,213.0,338.0,248.0,223.0,306.0,529.0,272.54,280.0,392.0,291.0,219.0,231.0,222.0,275.0,193.0,329.0,355.0,233.0,182.0,269.87,246.0,237.0,242.0,603.0,290.8,198.0,268.0,213.0,255.0,211.0,263.0,172.0,175.0,288.0,290.0,272.0,248.0,214.0,341.0,234.0,160.0,342.0,298.0,404.0,246.0,518.0,285.0,216.0,295.0,292.0,248.0,279.0,230.0,388.0,164.0,324.95,264.0,263.0,261.03,336.0,288.0,491.0,205.0,291.0,212.0,222.0,231.0,341.0,266.0,331.0,294.0,342.0,393.0,275.0,0.0,0.0,0.0,0.0,0.0,0.0,0.0,0.0,0.0,0.0,0.0,0.0,0.0,0.0,0.0,0.0,0.0,0.0,0.0,0.0,0.0,0.0,0.0,0.0,0.0,0.0,0.0,0.0,0.0,0.0,0.0,0.0,0.0,0.0,0.0,0.0,0.0,0.0,0.0,0.0,0.0,0.0,0.0,0.0,0.0,0.0,0.0,0.0,0.0,0.0,0.0,0.0,0.0,0.0,0.0,0.0,0.0,0.0,0.0,0.0,0.0,0.0,0.0,0.0,0.0,0.0,0.0,0.0,0.0,0.0,0.0,0.0,0.0,0.0,0.0,0.0,0.0,0.0,0.0,0.0,0.0,0.0,0.0,0.0,0.0,0.0,0.0,0.0,0.0,0.0,0.0,0.0,0.0,0.0,0.0,0.0,0.0,0.0,0.0,0.0,0.0,0.0,0.0,0.0,0.0,0.0,0.0,0.0,0.0,0.0,0.0,0.0,0.0,0.0,0.0,0.0,0.0,0.0,0.0,0.0,0.0,0.0,0.0,260.0,209.0,218.0,228.0,213.0,0.0,236.0,0.0,0.0,267.0,166.0,0.0,0.0,0.0,0.0,220.0,177.0,236.0,0.0,0.0,0.0,0.0,0.0,0.0,0.0,0.0,0.0,186.0,100.0,228.0,0.0,171.0,230.0,0.0,0.0,0.0,281.0,0.0,203.0,0.0,0.0,0.0,0.0,0.0,277.0,0.0,233.0,0.0,0.0,240.0,0.0,0.0,153.0,224.0,0.0,0.0,0.0,316.0,0.0,0.0,218.0,0.0,311.0,0.0,0.0,0.0,270.0,0.0,0.0,217.0,214.0,214.0,252.0,220.0,214.0,203.0,0.0,339.0,216.0,276.0,458.0,241.0,384.0,297.0,248.0,308.0,208.0,227.0,210.0,245.0,225.0,240.0,0.0,198.0,195.0,267.0,161.0,258.0,0.0,0.0,195.0,235.0,0.0,305.0,223.0,282.0,349.0,263.45,160.0,236.0,312.0,283.0,142.0,211.0,218.0,306.0,186.0,252.0,222.0,0.0,0.0,258.0,202.0,197.0,204.0,254.08,274.0,192.0,298.0,272.0,220.0,200.0,261.0,181.0,260.0,220.0,221.0,216.0,175.0,219.0,310.0,208.0,232.0,273.0,203.0,182.0,274.0,204.0,270.0,292.0,171.0,221.0,289.0,217.0,223.0,283.12,193.0,286.07,210.0,282.0,170.0,369.0,173.0,289.0,269.38,241.32,216.0,271.0,244.0,285.0,243.0,240.0,219.0,237.0,165.0,213.0,287.0,258.0,256.0,186.0,264.0,249.13,226.0,203.0,207.0,284.0,337.0,219.0,310.0,254.0,258.0,254.0,300.0,170.0,310.0,333.0,139.0,223.0,385.0,254.0],\"y0\":\" \",\"yaxis\":\"y\",\"type\":\"box\"}],                        {\"template\":{\"data\":{\"histogram2dcontour\":[{\"type\":\"histogram2dcontour\",\"colorbar\":{\"outlinewidth\":0,\"ticks\":\"\"},\"colorscale\":[[0.0,\"#0d0887\"],[0.1111111111111111,\"#46039f\"],[0.2222222222222222,\"#7201a8\"],[0.3333333333333333,\"#9c179e\"],[0.4444444444444444,\"#bd3786\"],[0.5555555555555556,\"#d8576b\"],[0.6666666666666666,\"#ed7953\"],[0.7777777777777778,\"#fb9f3a\"],[0.8888888888888888,\"#fdca26\"],[1.0,\"#f0f921\"]]}],\"choropleth\":[{\"type\":\"choropleth\",\"colorbar\":{\"outlinewidth\":0,\"ticks\":\"\"}}],\"histogram2d\":[{\"type\":\"histogram2d\",\"colorbar\":{\"outlinewidth\":0,\"ticks\":\"\"},\"colorscale\":[[0.0,\"#0d0887\"],[0.1111111111111111,\"#46039f\"],[0.2222222222222222,\"#7201a8\"],[0.3333333333333333,\"#9c179e\"],[0.4444444444444444,\"#bd3786\"],[0.5555555555555556,\"#d8576b\"],[0.6666666666666666,\"#ed7953\"],[0.7777777777777778,\"#fb9f3a\"],[0.8888888888888888,\"#fdca26\"],[1.0,\"#f0f921\"]]}],\"heatmap\":[{\"type\":\"heatmap\",\"colorbar\":{\"outlinewidth\":0,\"ticks\":\"\"},\"colorscale\":[[0.0,\"#0d0887\"],[0.1111111111111111,\"#46039f\"],[0.2222222222222222,\"#7201a8\"],[0.3333333333333333,\"#9c179e\"],[0.4444444444444444,\"#bd3786\"],[0.5555555555555556,\"#d8576b\"],[0.6666666666666666,\"#ed7953\"],[0.7777777777777778,\"#fb9f3a\"],[0.8888888888888888,\"#fdca26\"],[1.0,\"#f0f921\"]]}],\"heatmapgl\":[{\"type\":\"heatmapgl\",\"colorbar\":{\"outlinewidth\":0,\"ticks\":\"\"},\"colorscale\":[[0.0,\"#0d0887\"],[0.1111111111111111,\"#46039f\"],[0.2222222222222222,\"#7201a8\"],[0.3333333333333333,\"#9c179e\"],[0.4444444444444444,\"#bd3786\"],[0.5555555555555556,\"#d8576b\"],[0.6666666666666666,\"#ed7953\"],[0.7777777777777778,\"#fb9f3a\"],[0.8888888888888888,\"#fdca26\"],[1.0,\"#f0f921\"]]}],\"contourcarpet\":[{\"type\":\"contourcarpet\",\"colorbar\":{\"outlinewidth\":0,\"ticks\":\"\"}}],\"contour\":[{\"type\":\"contour\",\"colorbar\":{\"outlinewidth\":0,\"ticks\":\"\"},\"colorscale\":[[0.0,\"#0d0887\"],[0.1111111111111111,\"#46039f\"],[0.2222222222222222,\"#7201a8\"],[0.3333333333333333,\"#9c179e\"],[0.4444444444444444,\"#bd3786\"],[0.5555555555555556,\"#d8576b\"],[0.6666666666666666,\"#ed7953\"],[0.7777777777777778,\"#fb9f3a\"],[0.8888888888888888,\"#fdca26\"],[1.0,\"#f0f921\"]]}],\"surface\":[{\"type\":\"surface\",\"colorbar\":{\"outlinewidth\":0,\"ticks\":\"\"},\"colorscale\":[[0.0,\"#0d0887\"],[0.1111111111111111,\"#46039f\"],[0.2222222222222222,\"#7201a8\"],[0.3333333333333333,\"#9c179e\"],[0.4444444444444444,\"#bd3786\"],[0.5555555555555556,\"#d8576b\"],[0.6666666666666666,\"#ed7953\"],[0.7777777777777778,\"#fb9f3a\"],[0.8888888888888888,\"#fdca26\"],[1.0,\"#f0f921\"]]}],\"mesh3d\":[{\"type\":\"mesh3d\",\"colorbar\":{\"outlinewidth\":0,\"ticks\":\"\"}}],\"scatter\":[{\"fillpattern\":{\"fillmode\":\"overlay\",\"size\":10,\"solidity\":0.2},\"type\":\"scatter\"}],\"parcoords\":[{\"type\":\"parcoords\",\"line\":{\"colorbar\":{\"outlinewidth\":0,\"ticks\":\"\"}}}],\"scatterpolargl\":[{\"type\":\"scatterpolargl\",\"marker\":{\"colorbar\":{\"outlinewidth\":0,\"ticks\":\"\"}}}],\"bar\":[{\"error_x\":{\"color\":\"#2a3f5f\"},\"error_y\":{\"color\":\"#2a3f5f\"},\"marker\":{\"line\":{\"color\":\"#E5ECF6\",\"width\":0.5},\"pattern\":{\"fillmode\":\"overlay\",\"size\":10,\"solidity\":0.2}},\"type\":\"bar\"}],\"scattergeo\":[{\"type\":\"scattergeo\",\"marker\":{\"colorbar\":{\"outlinewidth\":0,\"ticks\":\"\"}}}],\"scatterpolar\":[{\"type\":\"scatterpolar\",\"marker\":{\"colorbar\":{\"outlinewidth\":0,\"ticks\":\"\"}}}],\"histogram\":[{\"marker\":{\"pattern\":{\"fillmode\":\"overlay\",\"size\":10,\"solidity\":0.2}},\"type\":\"histogram\"}],\"scattergl\":[{\"type\":\"scattergl\",\"marker\":{\"colorbar\":{\"outlinewidth\":0,\"ticks\":\"\"}}}],\"scatter3d\":[{\"type\":\"scatter3d\",\"line\":{\"colorbar\":{\"outlinewidth\":0,\"ticks\":\"\"}},\"marker\":{\"colorbar\":{\"outlinewidth\":0,\"ticks\":\"\"}}}],\"scattermapbox\":[{\"type\":\"scattermapbox\",\"marker\":{\"colorbar\":{\"outlinewidth\":0,\"ticks\":\"\"}}}],\"scatterternary\":[{\"type\":\"scatterternary\",\"marker\":{\"colorbar\":{\"outlinewidth\":0,\"ticks\":\"\"}}}],\"scattercarpet\":[{\"type\":\"scattercarpet\",\"marker\":{\"colorbar\":{\"outlinewidth\":0,\"ticks\":\"\"}}}],\"carpet\":[{\"aaxis\":{\"endlinecolor\":\"#2a3f5f\",\"gridcolor\":\"white\",\"linecolor\":\"white\",\"minorgridcolor\":\"white\",\"startlinecolor\":\"#2a3f5f\"},\"baxis\":{\"endlinecolor\":\"#2a3f5f\",\"gridcolor\":\"white\",\"linecolor\":\"white\",\"minorgridcolor\":\"white\",\"startlinecolor\":\"#2a3f5f\"},\"type\":\"carpet\"}],\"table\":[{\"cells\":{\"fill\":{\"color\":\"#EBF0F8\"},\"line\":{\"color\":\"white\"}},\"header\":{\"fill\":{\"color\":\"#C8D4E3\"},\"line\":{\"color\":\"white\"}},\"type\":\"table\"}],\"barpolar\":[{\"marker\":{\"line\":{\"color\":\"#E5ECF6\",\"width\":0.5},\"pattern\":{\"fillmode\":\"overlay\",\"size\":10,\"solidity\":0.2}},\"type\":\"barpolar\"}],\"pie\":[{\"automargin\":true,\"type\":\"pie\"}]},\"layout\":{\"autotypenumbers\":\"strict\",\"colorway\":[\"#636efa\",\"#EF553B\",\"#00cc96\",\"#ab63fa\",\"#FFA15A\",\"#19d3f3\",\"#FF6692\",\"#B6E880\",\"#FF97FF\",\"#FECB52\"],\"font\":{\"color\":\"#2a3f5f\"},\"hovermode\":\"closest\",\"hoverlabel\":{\"align\":\"left\"},\"paper_bgcolor\":\"white\",\"plot_bgcolor\":\"#E5ECF6\",\"polar\":{\"bgcolor\":\"#E5ECF6\",\"angularaxis\":{\"gridcolor\":\"white\",\"linecolor\":\"white\",\"ticks\":\"\"},\"radialaxis\":{\"gridcolor\":\"white\",\"linecolor\":\"white\",\"ticks\":\"\"}},\"ternary\":{\"bgcolor\":\"#E5ECF6\",\"aaxis\":{\"gridcolor\":\"white\",\"linecolor\":\"white\",\"ticks\":\"\"},\"baxis\":{\"gridcolor\":\"white\",\"linecolor\":\"white\",\"ticks\":\"\"},\"caxis\":{\"gridcolor\":\"white\",\"linecolor\":\"white\",\"ticks\":\"\"}},\"coloraxis\":{\"colorbar\":{\"outlinewidth\":0,\"ticks\":\"\"}},\"colorscale\":{\"sequential\":[[0.0,\"#0d0887\"],[0.1111111111111111,\"#46039f\"],[0.2222222222222222,\"#7201a8\"],[0.3333333333333333,\"#9c179e\"],[0.4444444444444444,\"#bd3786\"],[0.5555555555555556,\"#d8576b\"],[0.6666666666666666,\"#ed7953\"],[0.7777777777777778,\"#fb9f3a\"],[0.8888888888888888,\"#fdca26\"],[1.0,\"#f0f921\"]],\"sequentialminus\":[[0.0,\"#0d0887\"],[0.1111111111111111,\"#46039f\"],[0.2222222222222222,\"#7201a8\"],[0.3333333333333333,\"#9c179e\"],[0.4444444444444444,\"#bd3786\"],[0.5555555555555556,\"#d8576b\"],[0.6666666666666666,\"#ed7953\"],[0.7777777777777778,\"#fb9f3a\"],[0.8888888888888888,\"#fdca26\"],[1.0,\"#f0f921\"]],\"diverging\":[[0,\"#8e0152\"],[0.1,\"#c51b7d\"],[0.2,\"#de77ae\"],[0.3,\"#f1b6da\"],[0.4,\"#fde0ef\"],[0.5,\"#f7f7f7\"],[0.6,\"#e6f5d0\"],[0.7,\"#b8e186\"],[0.8,\"#7fbc41\"],[0.9,\"#4d9221\"],[1,\"#276419\"]]},\"xaxis\":{\"gridcolor\":\"white\",\"linecolor\":\"white\",\"ticks\":\"\",\"title\":{\"standoff\":15},\"zerolinecolor\":\"white\",\"automargin\":true,\"zerolinewidth\":2},\"yaxis\":{\"gridcolor\":\"white\",\"linecolor\":\"white\",\"ticks\":\"\",\"title\":{\"standoff\":15},\"zerolinecolor\":\"white\",\"automargin\":true,\"zerolinewidth\":2},\"scene\":{\"xaxis\":{\"backgroundcolor\":\"#E5ECF6\",\"gridcolor\":\"white\",\"linecolor\":\"white\",\"showbackground\":true,\"ticks\":\"\",\"zerolinecolor\":\"white\",\"gridwidth\":2},\"yaxis\":{\"backgroundcolor\":\"#E5ECF6\",\"gridcolor\":\"white\",\"linecolor\":\"white\",\"showbackground\":true,\"ticks\":\"\",\"zerolinecolor\":\"white\",\"gridwidth\":2},\"zaxis\":{\"backgroundcolor\":\"#E5ECF6\",\"gridcolor\":\"white\",\"linecolor\":\"white\",\"showbackground\":true,\"ticks\":\"\",\"zerolinecolor\":\"white\",\"gridwidth\":2}},\"shapedefaults\":{\"line\":{\"color\":\"#2a3f5f\"}},\"annotationdefaults\":{\"arrowcolor\":\"#2a3f5f\",\"arrowhead\":0,\"arrowwidth\":1},\"geo\":{\"bgcolor\":\"white\",\"landcolor\":\"#E5ECF6\",\"subunitcolor\":\"white\",\"showland\":true,\"showlakes\":true,\"lakecolor\":\"white\"},\"title\":{\"x\":0.05},\"mapbox\":{\"style\":\"light\"}}},\"xaxis\":{\"anchor\":\"y\",\"domain\":[0.0,1.0]},\"yaxis\":{\"anchor\":\"x\",\"domain\":[0.0,1.0],\"title\":{\"text\":\"chol\"}},\"legend\":{\"tracegroupgap\":0},\"margin\":{\"t\":60},\"boxmode\":\"group\"},                        {\"responsive\": true}                    ).then(function(){\n",
       "                            \n",
       "var gd = document.getElementById('512b0dd2-ae7a-46c4-989f-5d769b93b239');\n",
       "var x = new MutationObserver(function (mutations, observer) {{\n",
       "        var display = window.getComputedStyle(gd).display;\n",
       "        if (!display || display === 'none') {{\n",
       "            console.log([gd, 'removed!']);\n",
       "            Plotly.purge(gd);\n",
       "            observer.disconnect();\n",
       "        }}\n",
       "}});\n",
       "\n",
       "// Listen for the removal of the full notebook cells\n",
       "var notebookContainer = gd.closest('#notebook-container');\n",
       "if (notebookContainer) {{\n",
       "    x.observe(notebookContainer, {childList: true});\n",
       "}}\n",
       "\n",
       "// Listen for the clearing of the current output cell\n",
       "var outputEl = gd.closest('.output');\n",
       "if (outputEl) {{\n",
       "    x.observe(outputEl, {childList: true});\n",
       "}}\n",
       "\n",
       "                        })                };                });            </script>        </div>"
      ]
     },
     "metadata": {},
     "output_type": "display_data"
    },
    {
     "data": {
      "text/html": [
       "<div>                            <div id=\"29b7a807-efe6-4034-8cb9-c0bab595104a\" class=\"plotly-graph-div\" style=\"height:525px; width:100%;\"></div>            <script type=\"text/javascript\">                require([\"plotly\"], function(Plotly) {                    window.PLOTLYENV=window.PLOTLYENV || {};                                    if (document.getElementById(\"29b7a807-efe6-4034-8cb9-c0bab595104a\")) {                    Plotly.newPlot(                        \"29b7a807-efe6-4034-8cb9-c0bab595104a\",                        [{\"alignmentgroup\":\"True\",\"hovertemplate\":\"thalch=%{y}\\u003cextra\\u003e\\u003c\\u002fextra\\u003e\",\"legendgroup\":\"\",\"marker\":{\"color\":\"#636efa\"},\"name\":\"\",\"notched\":false,\"offsetgroup\":\"\",\"orientation\":\"v\",\"showlegend\":false,\"x0\":\" \",\"xaxis\":\"x\",\"y\":[150.0,108.0,129.0,187.0,172.0,178.0,160.0,163.0,147.0,155.0,148.0,153.0,142.0,173.0,162.0,174.0,168.0,160.0,139.0,171.0,144.0,162.0,160.0,173.0,132.0,158.0,172.0,114.0,171.0,114.0,151.0,160.0,158.0,161.0,179.0,178.0,120.0,112.0,132.0,137.0,114.0,178.0,162.0,157.0,169.0,165.0,123.0,128.0,157.0,152.0,168.0,140.0,153.0,188.0,144.0,109.0,163.0,158.0,152.0,125.0,142.0,160.0,131.0,170.0,113.0,142.0,155.0,165.0,140.0,147.0,148.0,163.0,99.0,158.0,177.0,151.0,141.0,142.0,180.0,111.0,148.0,143.0,182.0,150.0,172.0,180.0,156.0,115.0,160.0,149.0,151.0,145.0,146.0,175.0,172.0,161.0,142.0,157.0,158.0,186.0,185.0,174.0,159.0,130.0,139.0,156.0,162.0,150.0,140.0,140.0,146.0,144.0,190.0,136.0,97.0,132.0,165.0,182.0,132.0,127.0,150.0,154.0,143.0,111.0,174.0,175.0,133.0,126.0,170.0,163.0,147.0,154.0,202.0,186.0,165.0,161.0,125.0,103.0,130.0,166.0,164.0,159.0,184.0,131.0,154.0,152.0,124.0,179.0,170.0,160.0,178.0,122.0,160.0,145.0,96.0,109.0,173.0,171.0,170.0,151.0,156.0,162.0,158.0,122.0,175.0,168.0,169.0,159.0,156.0,138.0,112.0,111.0,143.0,157.0,132.0,88.0,147.0,105.0,162.0,173.0,166.0,150.0,178.0,145.0,161.0,179.0,194.0,120.0,195.0,146.0,163.0,122.0,143.0,106.0,115.0,125.0,131.0,152.0,162.0,125.0,159.0,154.0,173.0,133.0,161.0,147.0,130.0,126.0,155.0,154.0,170.0,182.0,168.0,165.0,160.0,162.0,172.0,152.0,122.0,182.0,172.0,167.0,179.0,95.0,169.0,192.0,143.0,172.0,108.0,132.0,169.0,117.0,126.0,121.0,163.0,116.0,103.0,144.0,162.0,162.0,153.0,163.0,163.0,145.0,96.0,71.0,156.0,118.0,168.0,140.0,126.0,105.0,105.0,157.0,181.0,173.0,142.0,116.0,143.0,141.0,149.0,152.0,171.0,169.0,125.0,125.0,156.0,134.0,181.0,150.0,138.0,138.0,120.0,125.0,162.0,155.0,152.0,152.0,164.0,131.0,143.0,179.0,130.0,174.0,161.0,140.0,146.0,144.0,163.0,169.0,150.0,166.0,144.0,144.0,136.0,182.0,90.0,123.0,132.0,141.0,115.0,174.0,173.0,185.0,160.0,170.0,170.0,150.0,165.0,184.0,155.0,185.0,190.0,168.0,150.0,185.0,150.0,180.0,168.0,180.0,184.0,178.0,172.0,130.0,142.0,184.0,98.0,150.0,168.0,158.0,129.0,150.0,130.0,180.0,146.0,160.0,145.0,120.0,106.0,170.0,160.0,132.0,140.0,150.0,172.0,138.0,167.0,188.0,142.0,180.0,150.0,160.0,170.0,144.0,142.0,137.0,150.0,155.0,136.0,152.0,146.0,170.0,142.0,165.0,175.0,176.0,118.0,154.0,175.0,138.0,115.0,142.0,135.0,170.0,170.0,180.0,144.0,122.0,110.0,140.0,144.0,90.0,165.0,150.0,116.0,140.0,140.0,120.0,135.0,145.0,150.0,174.0,125.0,144.8,148.0,120.0,125.0,175.0,110.0,130.0,100.0,160.0,118.0,138.0,160.0,160.0,164.0,135.0,174.0,172.0,132.0,130.0,145.0,110.0,160.0,170.0,116.0,135.0,140.0,170.0,120.0,160.0,120.0,145.0,150.0,100.0,148.0,140.0,139.0,140.0,118.0,138.0,165.0,170.0,127.0,142.0,130.0,132.0,162.0,140.0,112.0,148.0,155.0,138.0,140.0,150.0,155.0,140.0,130.0,130.0,137.0,142.0,154.0,110.0,130.0,175.0,137.0,122.0,134.0,160.0,155.0,150.0,137.0,150.0,155.0,160.0,134.0,140.0,110.0,164.0,100.0,114.0,128.0,140.0,98.0,126.0,140.0,150.0,110.0,160.0,100.0,124.0,150.0,120.0,100.0,140.0,135.0,120.0,115.0,116.0,152.0,153.0,150.0,180.0,140.0,160.0,130.0,166.0,170.0,134.0,152.0,170.0,138.0,130.0,150.0,124.0,125.0,145.0,98.0,110.0,115.0,103.0,156.0,175.0,170.0,140.0,150.0,150.0,120.0,140.0,122.0,130.0,145.0,140.0,130.0,125.0,115.0,87.0,130.0,150.0,150.0,130.0,155.0,130.0,115.0,112.0,150.0,102.0,92.0,99.0,121.0,150.0,126.0,116.0,150.0,91.0,125.0,118.0,142.0,128.0,125.0,92.0,92.0,140.0,130.0,120.0,150.0,100.0,175.0,170.0,108.0,120.0,140.0,150.0,96.0,110.0,124.0,82.0,130.0,120.0,105.0,136.0,143.0,96.0,150.0,124.0,122.0,99.0,125.0,119.0,112.0,94.0,118.0,135.0,135.0,98.0,158.0,96.0,122.0,140.0,125.0,134.0,94.0,100.0,150.0,110.0,115.0,127.0,154.0,130.0,125.0,166.0,156.0,179.0,128.0,150.0,120.0,144.0,176.0,128.0,99.0,122.0,145.0,140.0,138.0,133.0,113.0,120.0,118.0,149.0,124.0,128.0,110.0,120.0,156.0,139.0,127.0,92.0,104.0,170.0,163.0,60.0,126.0,120.0,128.0,122.0,82.0,95.0,120.0,115.0,122.0,120.0,120.0,135.0,141.0,155.0,110.0,150.0,150.0,155.0,92.0,83.0,97.0,98.0,99.0,82.0,100.0,148.0,103.0,121.0,148.0,131.0,120.0,100.0,98.0,182.0,138.0,100.0,105.0,175.0,94.0,115.0,119.0,115.0,143.0,110.0,130.0,63.0,99.0,149.0,70.0,110.0,113.0,105.0,115.0,77.0,105.0,117.0,145.0,143.0,123.0,134.0,72.0,128.0,72.0,78.0,109.0,149.0,86.0,154.0,98.0,140.0,145.0,114.0,93.0,67.0,154.0,122.0,90.0,108.0,125.0,120.0,136.0,130.0,126.59,92.0,157.0,114.0,121.0,123.0,112.0,127.0,140.0,149.0,99.0,120.0,105.0,140.0,141.0,157.0,140.0,117.0,120.0,124.52,148.0,86.0,84.0,125.0,120.0,118.0,124.0,106.0,111.0,124.49,180.0,129.0,122.32,140.0,120.0,129.28,118.46,110.0,105.0,155.0,110.0,122.0,129.76,133.0,118.04,131.0,80.0,165.0,86.0,111.0,120.53,84.0,117.0,107.0,128.0,160.0,125.0,123.99,97.0,161.0,106.0,130.0,140.0,124.29,124.21,120.0,114.47,108.0,148.0,123.0,110.0,118.0,125.0,106.0,124.82,123.36,180.0,144.0,131.81,140.0,102.0,108.0,145.0,129.64,110.0,140.0,69.0,148.0,130.0,130.0,140.0,138.0,140.0,120.39,112.0,134.81,112.0,80.0,150.0,110.0,125.63,88.0,145.23,150.0,120.0,160.0,132.0,120.0,110.0,121.0,128.0,135.0,120.0,117.0,150.0,139.8,126.13,126.25,133.83,122.93,114.67,124.9,102.0,140.0,135.0,123.13,123.3,130.0,112.0,100.0,122.34,120.0,105.0,129.0,120.0,126.77,162.0,100.0,140.0,125.09,73.0,86.0,120.08,119.82,160.0,118.0,112.0,118.16,126.12,102.0,124.23,124.45,154.0,111.09,160.0,119.91,128.0,115.0,105.0,110.0,119.0,127.8,135.0,130.0,123.78,124.81,120.0,123.15,119.0,123.55,120.45,159.0,84.0,126.33,128.54,120.0,122.0,165.0,122.0,94.0,123.25,110.0,150.0,130.0,113.0,140.0,100.0,126.69,127.0,98.0,96.0,121.44,98.0,118.0,112.0,151.0,96.0,108.0,128.0,138.0,126.0,154.0,122.11,100.0,118.22,93.0],\"y0\":\" \",\"yaxis\":\"y\",\"type\":\"box\"}],                        {\"template\":{\"data\":{\"histogram2dcontour\":[{\"type\":\"histogram2dcontour\",\"colorbar\":{\"outlinewidth\":0,\"ticks\":\"\"},\"colorscale\":[[0.0,\"#0d0887\"],[0.1111111111111111,\"#46039f\"],[0.2222222222222222,\"#7201a8\"],[0.3333333333333333,\"#9c179e\"],[0.4444444444444444,\"#bd3786\"],[0.5555555555555556,\"#d8576b\"],[0.6666666666666666,\"#ed7953\"],[0.7777777777777778,\"#fb9f3a\"],[0.8888888888888888,\"#fdca26\"],[1.0,\"#f0f921\"]]}],\"choropleth\":[{\"type\":\"choropleth\",\"colorbar\":{\"outlinewidth\":0,\"ticks\":\"\"}}],\"histogram2d\":[{\"type\":\"histogram2d\",\"colorbar\":{\"outlinewidth\":0,\"ticks\":\"\"},\"colorscale\":[[0.0,\"#0d0887\"],[0.1111111111111111,\"#46039f\"],[0.2222222222222222,\"#7201a8\"],[0.3333333333333333,\"#9c179e\"],[0.4444444444444444,\"#bd3786\"],[0.5555555555555556,\"#d8576b\"],[0.6666666666666666,\"#ed7953\"],[0.7777777777777778,\"#fb9f3a\"],[0.8888888888888888,\"#fdca26\"],[1.0,\"#f0f921\"]]}],\"heatmap\":[{\"type\":\"heatmap\",\"colorbar\":{\"outlinewidth\":0,\"ticks\":\"\"},\"colorscale\":[[0.0,\"#0d0887\"],[0.1111111111111111,\"#46039f\"],[0.2222222222222222,\"#7201a8\"],[0.3333333333333333,\"#9c179e\"],[0.4444444444444444,\"#bd3786\"],[0.5555555555555556,\"#d8576b\"],[0.6666666666666666,\"#ed7953\"],[0.7777777777777778,\"#fb9f3a\"],[0.8888888888888888,\"#fdca26\"],[1.0,\"#f0f921\"]]}],\"heatmapgl\":[{\"type\":\"heatmapgl\",\"colorbar\":{\"outlinewidth\":0,\"ticks\":\"\"},\"colorscale\":[[0.0,\"#0d0887\"],[0.1111111111111111,\"#46039f\"],[0.2222222222222222,\"#7201a8\"],[0.3333333333333333,\"#9c179e\"],[0.4444444444444444,\"#bd3786\"],[0.5555555555555556,\"#d8576b\"],[0.6666666666666666,\"#ed7953\"],[0.7777777777777778,\"#fb9f3a\"],[0.8888888888888888,\"#fdca26\"],[1.0,\"#f0f921\"]]}],\"contourcarpet\":[{\"type\":\"contourcarpet\",\"colorbar\":{\"outlinewidth\":0,\"ticks\":\"\"}}],\"contour\":[{\"type\":\"contour\",\"colorbar\":{\"outlinewidth\":0,\"ticks\":\"\"},\"colorscale\":[[0.0,\"#0d0887\"],[0.1111111111111111,\"#46039f\"],[0.2222222222222222,\"#7201a8\"],[0.3333333333333333,\"#9c179e\"],[0.4444444444444444,\"#bd3786\"],[0.5555555555555556,\"#d8576b\"],[0.6666666666666666,\"#ed7953\"],[0.7777777777777778,\"#fb9f3a\"],[0.8888888888888888,\"#fdca26\"],[1.0,\"#f0f921\"]]}],\"surface\":[{\"type\":\"surface\",\"colorbar\":{\"outlinewidth\":0,\"ticks\":\"\"},\"colorscale\":[[0.0,\"#0d0887\"],[0.1111111111111111,\"#46039f\"],[0.2222222222222222,\"#7201a8\"],[0.3333333333333333,\"#9c179e\"],[0.4444444444444444,\"#bd3786\"],[0.5555555555555556,\"#d8576b\"],[0.6666666666666666,\"#ed7953\"],[0.7777777777777778,\"#fb9f3a\"],[0.8888888888888888,\"#fdca26\"],[1.0,\"#f0f921\"]]}],\"mesh3d\":[{\"type\":\"mesh3d\",\"colorbar\":{\"outlinewidth\":0,\"ticks\":\"\"}}],\"scatter\":[{\"fillpattern\":{\"fillmode\":\"overlay\",\"size\":10,\"solidity\":0.2},\"type\":\"scatter\"}],\"parcoords\":[{\"type\":\"parcoords\",\"line\":{\"colorbar\":{\"outlinewidth\":0,\"ticks\":\"\"}}}],\"scatterpolargl\":[{\"type\":\"scatterpolargl\",\"marker\":{\"colorbar\":{\"outlinewidth\":0,\"ticks\":\"\"}}}],\"bar\":[{\"error_x\":{\"color\":\"#2a3f5f\"},\"error_y\":{\"color\":\"#2a3f5f\"},\"marker\":{\"line\":{\"color\":\"#E5ECF6\",\"width\":0.5},\"pattern\":{\"fillmode\":\"overlay\",\"size\":10,\"solidity\":0.2}},\"type\":\"bar\"}],\"scattergeo\":[{\"type\":\"scattergeo\",\"marker\":{\"colorbar\":{\"outlinewidth\":0,\"ticks\":\"\"}}}],\"scatterpolar\":[{\"type\":\"scatterpolar\",\"marker\":{\"colorbar\":{\"outlinewidth\":0,\"ticks\":\"\"}}}],\"histogram\":[{\"marker\":{\"pattern\":{\"fillmode\":\"overlay\",\"size\":10,\"solidity\":0.2}},\"type\":\"histogram\"}],\"scattergl\":[{\"type\":\"scattergl\",\"marker\":{\"colorbar\":{\"outlinewidth\":0,\"ticks\":\"\"}}}],\"scatter3d\":[{\"type\":\"scatter3d\",\"line\":{\"colorbar\":{\"outlinewidth\":0,\"ticks\":\"\"}},\"marker\":{\"colorbar\":{\"outlinewidth\":0,\"ticks\":\"\"}}}],\"scattermapbox\":[{\"type\":\"scattermapbox\",\"marker\":{\"colorbar\":{\"outlinewidth\":0,\"ticks\":\"\"}}}],\"scatterternary\":[{\"type\":\"scatterternary\",\"marker\":{\"colorbar\":{\"outlinewidth\":0,\"ticks\":\"\"}}}],\"scattercarpet\":[{\"type\":\"scattercarpet\",\"marker\":{\"colorbar\":{\"outlinewidth\":0,\"ticks\":\"\"}}}],\"carpet\":[{\"aaxis\":{\"endlinecolor\":\"#2a3f5f\",\"gridcolor\":\"white\",\"linecolor\":\"white\",\"minorgridcolor\":\"white\",\"startlinecolor\":\"#2a3f5f\"},\"baxis\":{\"endlinecolor\":\"#2a3f5f\",\"gridcolor\":\"white\",\"linecolor\":\"white\",\"minorgridcolor\":\"white\",\"startlinecolor\":\"#2a3f5f\"},\"type\":\"carpet\"}],\"table\":[{\"cells\":{\"fill\":{\"color\":\"#EBF0F8\"},\"line\":{\"color\":\"white\"}},\"header\":{\"fill\":{\"color\":\"#C8D4E3\"},\"line\":{\"color\":\"white\"}},\"type\":\"table\"}],\"barpolar\":[{\"marker\":{\"line\":{\"color\":\"#E5ECF6\",\"width\":0.5},\"pattern\":{\"fillmode\":\"overlay\",\"size\":10,\"solidity\":0.2}},\"type\":\"barpolar\"}],\"pie\":[{\"automargin\":true,\"type\":\"pie\"}]},\"layout\":{\"autotypenumbers\":\"strict\",\"colorway\":[\"#636efa\",\"#EF553B\",\"#00cc96\",\"#ab63fa\",\"#FFA15A\",\"#19d3f3\",\"#FF6692\",\"#B6E880\",\"#FF97FF\",\"#FECB52\"],\"font\":{\"color\":\"#2a3f5f\"},\"hovermode\":\"closest\",\"hoverlabel\":{\"align\":\"left\"},\"paper_bgcolor\":\"white\",\"plot_bgcolor\":\"#E5ECF6\",\"polar\":{\"bgcolor\":\"#E5ECF6\",\"angularaxis\":{\"gridcolor\":\"white\",\"linecolor\":\"white\",\"ticks\":\"\"},\"radialaxis\":{\"gridcolor\":\"white\",\"linecolor\":\"white\",\"ticks\":\"\"}},\"ternary\":{\"bgcolor\":\"#E5ECF6\",\"aaxis\":{\"gridcolor\":\"white\",\"linecolor\":\"white\",\"ticks\":\"\"},\"baxis\":{\"gridcolor\":\"white\",\"linecolor\":\"white\",\"ticks\":\"\"},\"caxis\":{\"gridcolor\":\"white\",\"linecolor\":\"white\",\"ticks\":\"\"}},\"coloraxis\":{\"colorbar\":{\"outlinewidth\":0,\"ticks\":\"\"}},\"colorscale\":{\"sequential\":[[0.0,\"#0d0887\"],[0.1111111111111111,\"#46039f\"],[0.2222222222222222,\"#7201a8\"],[0.3333333333333333,\"#9c179e\"],[0.4444444444444444,\"#bd3786\"],[0.5555555555555556,\"#d8576b\"],[0.6666666666666666,\"#ed7953\"],[0.7777777777777778,\"#fb9f3a\"],[0.8888888888888888,\"#fdca26\"],[1.0,\"#f0f921\"]],\"sequentialminus\":[[0.0,\"#0d0887\"],[0.1111111111111111,\"#46039f\"],[0.2222222222222222,\"#7201a8\"],[0.3333333333333333,\"#9c179e\"],[0.4444444444444444,\"#bd3786\"],[0.5555555555555556,\"#d8576b\"],[0.6666666666666666,\"#ed7953\"],[0.7777777777777778,\"#fb9f3a\"],[0.8888888888888888,\"#fdca26\"],[1.0,\"#f0f921\"]],\"diverging\":[[0,\"#8e0152\"],[0.1,\"#c51b7d\"],[0.2,\"#de77ae\"],[0.3,\"#f1b6da\"],[0.4,\"#fde0ef\"],[0.5,\"#f7f7f7\"],[0.6,\"#e6f5d0\"],[0.7,\"#b8e186\"],[0.8,\"#7fbc41\"],[0.9,\"#4d9221\"],[1,\"#276419\"]]},\"xaxis\":{\"gridcolor\":\"white\",\"linecolor\":\"white\",\"ticks\":\"\",\"title\":{\"standoff\":15},\"zerolinecolor\":\"white\",\"automargin\":true,\"zerolinewidth\":2},\"yaxis\":{\"gridcolor\":\"white\",\"linecolor\":\"white\",\"ticks\":\"\",\"title\":{\"standoff\":15},\"zerolinecolor\":\"white\",\"automargin\":true,\"zerolinewidth\":2},\"scene\":{\"xaxis\":{\"backgroundcolor\":\"#E5ECF6\",\"gridcolor\":\"white\",\"linecolor\":\"white\",\"showbackground\":true,\"ticks\":\"\",\"zerolinecolor\":\"white\",\"gridwidth\":2},\"yaxis\":{\"backgroundcolor\":\"#E5ECF6\",\"gridcolor\":\"white\",\"linecolor\":\"white\",\"showbackground\":true,\"ticks\":\"\",\"zerolinecolor\":\"white\",\"gridwidth\":2},\"zaxis\":{\"backgroundcolor\":\"#E5ECF6\",\"gridcolor\":\"white\",\"linecolor\":\"white\",\"showbackground\":true,\"ticks\":\"\",\"zerolinecolor\":\"white\",\"gridwidth\":2}},\"shapedefaults\":{\"line\":{\"color\":\"#2a3f5f\"}},\"annotationdefaults\":{\"arrowcolor\":\"#2a3f5f\",\"arrowhead\":0,\"arrowwidth\":1},\"geo\":{\"bgcolor\":\"white\",\"landcolor\":\"#E5ECF6\",\"subunitcolor\":\"white\",\"showland\":true,\"showlakes\":true,\"lakecolor\":\"white\"},\"title\":{\"x\":0.05},\"mapbox\":{\"style\":\"light\"}}},\"xaxis\":{\"anchor\":\"y\",\"domain\":[0.0,1.0]},\"yaxis\":{\"anchor\":\"x\",\"domain\":[0.0,1.0],\"title\":{\"text\":\"thalch\"}},\"legend\":{\"tracegroupgap\":0},\"margin\":{\"t\":60},\"boxmode\":\"group\"},                        {\"responsive\": true}                    ).then(function(){\n",
       "                            \n",
       "var gd = document.getElementById('29b7a807-efe6-4034-8cb9-c0bab595104a');\n",
       "var x = new MutationObserver(function (mutations, observer) {{\n",
       "        var display = window.getComputedStyle(gd).display;\n",
       "        if (!display || display === 'none') {{\n",
       "            console.log([gd, 'removed!']);\n",
       "            Plotly.purge(gd);\n",
       "            observer.disconnect();\n",
       "        }}\n",
       "}});\n",
       "\n",
       "// Listen for the removal of the full notebook cells\n",
       "var notebookContainer = gd.closest('#notebook-container');\n",
       "if (notebookContainer) {{\n",
       "    x.observe(notebookContainer, {childList: true});\n",
       "}}\n",
       "\n",
       "// Listen for the clearing of the current output cell\n",
       "var outputEl = gd.closest('.output');\n",
       "if (outputEl) {{\n",
       "    x.observe(outputEl, {childList: true});\n",
       "}}\n",
       "\n",
       "                        })                };                });            </script>        </div>"
      ]
     },
     "metadata": {},
     "output_type": "display_data"
    },
    {
     "data": {
      "text/html": [
       "<div>                            <div id=\"6e5f21ca-aef9-4db7-a693-94522ace4e43\" class=\"plotly-graph-div\" style=\"height:525px; width:100%;\"></div>            <script type=\"text/javascript\">                require([\"plotly\"], function(Plotly) {                    window.PLOTLYENV=window.PLOTLYENV || {};                                    if (document.getElementById(\"6e5f21ca-aef9-4db7-a693-94522ace4e43\")) {                    Plotly.newPlot(                        \"6e5f21ca-aef9-4db7-a693-94522ace4e43\",                        [{\"alignmentgroup\":\"True\",\"hovertemplate\":\"oldpeak=%{y}\\u003cextra\\u003e\\u003c\\u002fextra\\u003e\",\"legendgroup\":\"\",\"marker\":{\"color\":\"#636efa\"},\"name\":\"\",\"notched\":false,\"offsetgroup\":\"\",\"orientation\":\"v\",\"showlegend\":false,\"x0\":\" \",\"xaxis\":\"x\",\"y\":[2.3,1.5,2.6,3.5,1.4,0.8,3.6,0.6,1.4,3.1,0.4,1.3,0.6,0.0,0.5,1.6,1.0,1.2,0.2,0.6,1.8,1.0,1.8,3.2,2.4,1.6,0.0,2.6,1.5,2.0,1.8,1.4,0.0,0.5,0.4,0.0,2.5,0.6,1.2,1.0,1.0,1.4,0.4,1.6,0.0,2.5,0.6,2.6,0.8,1.2,0.0,0.4,0.0,0.0,1.4,2.2,0.6,0.0,0.5,1.4,1.2,1.4,2.2,0.0,1.4,2.8,3.0,1.6,3.4,3.6,0.8,0.2,1.8,0.6,0.0,0.8,2.8,1.5,0.2,0.8,3.0,0.4,0.0,1.6,0.2,0.0,0.0,0.0,0.0,0.5,0.4,6.2,1.8,0.6,0.0,0.0,1.2,2.6,0.8,0.0,0.0,0.0,0.0,0.0,2.0,0.0,0.0,0.4,3.6,1.2,1.0,1.2,0.0,3.0,1.2,0.0,0.0,1.4,1.8,2.8,0.0,4.0,1.2,5.6,1.4,0.6,4.0,2.8,0.0,0.0,0.4,0.0,0.0,0.0,0.2,1.4,2.6,1.4,1.6,2.4,0.0,0.2,0.0,1.8,0.6,0.0,1.0,0.0,0.0,0.0,1.2,0.6,1.6,0.8,2.2,2.4,1.6,0.0,1.2,1.0,0.0,0.0,1.6,1.0,0.0,0.0,0.0,0.0,0.0,0.0,2.9,0.0,0.0,1.2,2.0,1.2,0.1,2.1,1.9,0.0,0.5,1.9,0.8,4.2,0.0,0.0,0.8,0.0,0.0,2.0,0.0,4.2,0.1,1.9,1.5,0.9,0.1,0.2,1.1,0.0,0.0,0.0,0.2,0.2,0.0,0.0,3.0,0.9,0.0,1.4,0.0,3.8,2.0,1.0,0.0,1.9,0.0,0.0,2.0,0.0,0.0,0.0,0.0,2.0,1.8,0.7,0.1,0.0,0.0,0.1,0.1,3.4,0.8,0.2,0.0,3.2,1.6,0.8,0.0,0.0,0.0,0.0,0.0,2.6,0.0,1.0,0.1,1.0,1.0,0.0,1.5,2.0,0.2,0.6,1.2,0.0,0.3,1.1,0.0,0.3,0.3,0.0,0.9,0.0,3.6,1.8,1.0,2.2,0.0,0.0,1.9,2.3,1.8,1.6,0.8,0.6,0.0,0.0,0.0,0.6,3.0,0.0,2.0,0.0,0.0,4.4,2.8,0.4,0.0,0.0,0.8,1.2,2.8,4.0,0.0,0.0,1.0,0.2,1.2,3.4,1.2,0.0,0.0,0.0,0.0,0.0,0.0,0.0,0.0,0.0,0.0,0.0,0.0,0.0,0.0,0.0,0.0,0.0,0.0,0.0,1.0,0.0,0.0,0.0,0.0,0.0,0.0,0.0,0.0,0.0,0.0,0.0,0.0,0.0,2.0,1.0,0.0,0.0,0.0,0.0,0.0,0.0,0.0,0.0,0.0,0.0,0.0,0.0,0.0,0.0,0.0,0.0,0.0,0.0,0.0,0.0,0.0,0.0,0.0,1.5,0.0,0.0,0.0,0.0,0.0,0.0,0.0,0.0,0.0,0.0,0.0,1.0,0.0,0.0,0.0,0.0,0.0,0.0,0.0,0.0,0.0,0.0,0.0,0.0,0.0,1.0,0.0,0.0,1.0,2.0,0.0,0.0,0.0,2.0,0.0,0.0,0.0,2.0,0.0,1.0,0.0,0.0,0.0,0.0,0.0,0.0,0.0,0.0,0.0,0.0,1.0,0.0,0.0,1.0,0.0,0.0,0.0,0.0,0.0,0.0,0.0,2.0,0.5,0.0,0.0,0.0,0.0,0.0,0.0,1.5,0.0,0.0,0.0,0.0,0.0,2.0,0.0,0.0,0.0,0.0,3.0,0.0,0.0,1.0,0.0,1.5,0.0,0.0,0.0,0.0,2.0,0.0,0.0,0.0,1.0,0.0,0.0,0.0,1.0,0.0,0.0,0.0,0.0,0.0,0.0,0.0,0.0,0.0,0.5,0.0,0.0,0.0,1.0,0.0,1.0,0.8,0.0,0.0,0.0,0.0,0.0,1.0,0.0,1.0,0.0,0.0,0.0,1.0,0.0,0.0,1.0,1.5,1.0,0.0,0.0,3.0,1.5,0.0,0.0,2.5,1.0,0.0,1.0,2.0,0.0,0.0,1.0,1.0,1.5,0.0,2.0,1.0,1.0,0.0,0.0,0.0,0.0,1.0,2.0,0.0,2.0,3.0,1.0,0.0,1.5,1.0,0.0,1.5,0.0,1.0,0.0,2.0,0.0,1.0,0.0,0.0,2.0,3.0,1.5,2.0,2.0,0.0,1.5,0.0,1.5,1.0,1.0,0.0,2.0,1.5,1.0,3.0,0.0,2.0,2.0,1.0,3.0,2.0,2.0,0.0,1.5,1.0,1.0,2.0,1.0,1.0,2.0,4.0,0.0,1.5,1.5,0.0,2.0,2.0,1.0,1.5,2.0,2.0,0.0,0.0,2.0,1.0,3.0,2.0,0.0,2.0,3.0,0.0,2.0,5.0,2.5,2.0,2.5,0.0,3.0,1.0,1.0,0.7,0.2,1.4070000000000003,1.0,2.8,0.0,-1.1,0.0,0.0,1.6719999999999997,0.0,1.6,-1.5,0.0,1.5,2.0,0.5,-0.1,-2.6,1.5,0.0,1.0,2.1,0.0,0.0,0.0,0.5,0.0,0.7,1.5,0.0,0.0,-0.7,0.0,0.0,2.2,0.0,2.0,1.0,0.44000000000000017,0.0,0.7,0.0,0.0,0.0,1.5,1.0,2.0,0.0,3.0,1.5,0.2,0.1,0.3,0.0,0.0,-2.0,0.0,-1.0,-1.0,0.0,1.0,1.8,0.3,1.4,2.0,0.0,2.0,0.7,0.5,1.0,0.0,2.6,0.0,0.0,0.9,1.0,2.4,0.1,1.1,0.5,0.5,0.4,0.0,1.5,1.4,0.0,0.0,2.5,0.0,2.0,1.0,0.0,1.7,-0.8,0.0,2.5,-0.5,2.0,-0.9,2.0,2.0,3.7,0.0,1.0,1.1,1.3,0.0,1.9909999999999994,1.0,2.376999999999999,0.0,2.0,0.0,0.0,1.8,0.0,2.5669999999999984,0.0,2.0,1.6,0.0,1.3,3.0,0.0,1.5,2.5,1.3,-0.5,0.0,1.5,2.0,0.5,0.0,1.0,0.5,1.6119999999999999,1.0,0.0,2.5,2.0,1.5,0.0,1.0,2.0,0.0,1.9589999999999994,3.0,1.0,1.7459999999999996,0.5,1.5,2.3939999999999997,1.9899999999999993,2.0,1.0,1.5,2.0,1.0,2.533,2.0,1.9379999999999997,1.5,0.0,0.0,1.5,0.0,3.2439999999999993,0.0,1.3,0.0,2.0,0.0,2.5,2.133999999999999,1.6,2.0,0.0,3.0,1.5,3.233999999999999,2.0979999999999994,0.0,1.659,2.0,2.0,2.5,2.0,2.5,2.5,1.5,2.1259999999999994,2.109999999999999,1.3699999999999997,2.0,2.234999999999999,3.0,1.0,0.0,3.0,3.4059999999999993,2.5,1.0,1.0,3.0,0.0,1.0,4.0,2.0,2.0,1.7159999999999997,3.0,1.8370000000000002,3.0,0.0,1.5,0.0,2.0769999999999995,2.0,1.9629999999999999,1.952999999999999,0.5,3.0,0.0,1.5,1.0,1.0,0.5,4.0,1.0,1.0,0.0,1.7720000000000002,3.0819999999999994,1.679999999999999,2.5769999999999995,2.0159999999999996,1.829,3.272,0.0,2.0,2.5,2.0119999999999996,2.2059999999999995,4.0,2.0,0.0,1.7889999999999995,3.5,1.5,3.0,0.0,2.1989999999999994,0.0,1.5,1.5,2.0509999999999997,2.0,0.0,2.8099999999999987,2.656999999999999,2.208,0.0,2.0,2.788999999999999,2.0389999999999997,4.0,1.7879999999999998,2.204999999999999,2.0,1.8049999999999995,2.0,3.199,1.5,0.0,1.5,2.5,2.0,2.3789999999999996,0.5,1.5,2.2329999999999997,2.428999999999999,3.0,2.9859999999999998,3.0,2.8959999999999995,2.260999999999999,1.5,0.0,2.2849999999999993,2.1879999999999997,0.8,2.0,1.0,2.0,0.0,2.1229999999999993,0.0,2.0,0.0,1.0,0.5,0.0,2.2069999999999994,1.7,1.5,1.0,2.334999999999999,0.0,0.0,1.5,0.0,1.0,3.0,1.5,0.0,0.0,0.0,2.008,0.0,2.1069999999999998,0.0],\"y0\":\" \",\"yaxis\":\"y\",\"type\":\"box\"}],                        {\"template\":{\"data\":{\"histogram2dcontour\":[{\"type\":\"histogram2dcontour\",\"colorbar\":{\"outlinewidth\":0,\"ticks\":\"\"},\"colorscale\":[[0.0,\"#0d0887\"],[0.1111111111111111,\"#46039f\"],[0.2222222222222222,\"#7201a8\"],[0.3333333333333333,\"#9c179e\"],[0.4444444444444444,\"#bd3786\"],[0.5555555555555556,\"#d8576b\"],[0.6666666666666666,\"#ed7953\"],[0.7777777777777778,\"#fb9f3a\"],[0.8888888888888888,\"#fdca26\"],[1.0,\"#f0f921\"]]}],\"choropleth\":[{\"type\":\"choropleth\",\"colorbar\":{\"outlinewidth\":0,\"ticks\":\"\"}}],\"histogram2d\":[{\"type\":\"histogram2d\",\"colorbar\":{\"outlinewidth\":0,\"ticks\":\"\"},\"colorscale\":[[0.0,\"#0d0887\"],[0.1111111111111111,\"#46039f\"],[0.2222222222222222,\"#7201a8\"],[0.3333333333333333,\"#9c179e\"],[0.4444444444444444,\"#bd3786\"],[0.5555555555555556,\"#d8576b\"],[0.6666666666666666,\"#ed7953\"],[0.7777777777777778,\"#fb9f3a\"],[0.8888888888888888,\"#fdca26\"],[1.0,\"#f0f921\"]]}],\"heatmap\":[{\"type\":\"heatmap\",\"colorbar\":{\"outlinewidth\":0,\"ticks\":\"\"},\"colorscale\":[[0.0,\"#0d0887\"],[0.1111111111111111,\"#46039f\"],[0.2222222222222222,\"#7201a8\"],[0.3333333333333333,\"#9c179e\"],[0.4444444444444444,\"#bd3786\"],[0.5555555555555556,\"#d8576b\"],[0.6666666666666666,\"#ed7953\"],[0.7777777777777778,\"#fb9f3a\"],[0.8888888888888888,\"#fdca26\"],[1.0,\"#f0f921\"]]}],\"heatmapgl\":[{\"type\":\"heatmapgl\",\"colorbar\":{\"outlinewidth\":0,\"ticks\":\"\"},\"colorscale\":[[0.0,\"#0d0887\"],[0.1111111111111111,\"#46039f\"],[0.2222222222222222,\"#7201a8\"],[0.3333333333333333,\"#9c179e\"],[0.4444444444444444,\"#bd3786\"],[0.5555555555555556,\"#d8576b\"],[0.6666666666666666,\"#ed7953\"],[0.7777777777777778,\"#fb9f3a\"],[0.8888888888888888,\"#fdca26\"],[1.0,\"#f0f921\"]]}],\"contourcarpet\":[{\"type\":\"contourcarpet\",\"colorbar\":{\"outlinewidth\":0,\"ticks\":\"\"}}],\"contour\":[{\"type\":\"contour\",\"colorbar\":{\"outlinewidth\":0,\"ticks\":\"\"},\"colorscale\":[[0.0,\"#0d0887\"],[0.1111111111111111,\"#46039f\"],[0.2222222222222222,\"#7201a8\"],[0.3333333333333333,\"#9c179e\"],[0.4444444444444444,\"#bd3786\"],[0.5555555555555556,\"#d8576b\"],[0.6666666666666666,\"#ed7953\"],[0.7777777777777778,\"#fb9f3a\"],[0.8888888888888888,\"#fdca26\"],[1.0,\"#f0f921\"]]}],\"surface\":[{\"type\":\"surface\",\"colorbar\":{\"outlinewidth\":0,\"ticks\":\"\"},\"colorscale\":[[0.0,\"#0d0887\"],[0.1111111111111111,\"#46039f\"],[0.2222222222222222,\"#7201a8\"],[0.3333333333333333,\"#9c179e\"],[0.4444444444444444,\"#bd3786\"],[0.5555555555555556,\"#d8576b\"],[0.6666666666666666,\"#ed7953\"],[0.7777777777777778,\"#fb9f3a\"],[0.8888888888888888,\"#fdca26\"],[1.0,\"#f0f921\"]]}],\"mesh3d\":[{\"type\":\"mesh3d\",\"colorbar\":{\"outlinewidth\":0,\"ticks\":\"\"}}],\"scatter\":[{\"fillpattern\":{\"fillmode\":\"overlay\",\"size\":10,\"solidity\":0.2},\"type\":\"scatter\"}],\"parcoords\":[{\"type\":\"parcoords\",\"line\":{\"colorbar\":{\"outlinewidth\":0,\"ticks\":\"\"}}}],\"scatterpolargl\":[{\"type\":\"scatterpolargl\",\"marker\":{\"colorbar\":{\"outlinewidth\":0,\"ticks\":\"\"}}}],\"bar\":[{\"error_x\":{\"color\":\"#2a3f5f\"},\"error_y\":{\"color\":\"#2a3f5f\"},\"marker\":{\"line\":{\"color\":\"#E5ECF6\",\"width\":0.5},\"pattern\":{\"fillmode\":\"overlay\",\"size\":10,\"solidity\":0.2}},\"type\":\"bar\"}],\"scattergeo\":[{\"type\":\"scattergeo\",\"marker\":{\"colorbar\":{\"outlinewidth\":0,\"ticks\":\"\"}}}],\"scatterpolar\":[{\"type\":\"scatterpolar\",\"marker\":{\"colorbar\":{\"outlinewidth\":0,\"ticks\":\"\"}}}],\"histogram\":[{\"marker\":{\"pattern\":{\"fillmode\":\"overlay\",\"size\":10,\"solidity\":0.2}},\"type\":\"histogram\"}],\"scattergl\":[{\"type\":\"scattergl\",\"marker\":{\"colorbar\":{\"outlinewidth\":0,\"ticks\":\"\"}}}],\"scatter3d\":[{\"type\":\"scatter3d\",\"line\":{\"colorbar\":{\"outlinewidth\":0,\"ticks\":\"\"}},\"marker\":{\"colorbar\":{\"outlinewidth\":0,\"ticks\":\"\"}}}],\"scattermapbox\":[{\"type\":\"scattermapbox\",\"marker\":{\"colorbar\":{\"outlinewidth\":0,\"ticks\":\"\"}}}],\"scatterternary\":[{\"type\":\"scatterternary\",\"marker\":{\"colorbar\":{\"outlinewidth\":0,\"ticks\":\"\"}}}],\"scattercarpet\":[{\"type\":\"scattercarpet\",\"marker\":{\"colorbar\":{\"outlinewidth\":0,\"ticks\":\"\"}}}],\"carpet\":[{\"aaxis\":{\"endlinecolor\":\"#2a3f5f\",\"gridcolor\":\"white\",\"linecolor\":\"white\",\"minorgridcolor\":\"white\",\"startlinecolor\":\"#2a3f5f\"},\"baxis\":{\"endlinecolor\":\"#2a3f5f\",\"gridcolor\":\"white\",\"linecolor\":\"white\",\"minorgridcolor\":\"white\",\"startlinecolor\":\"#2a3f5f\"},\"type\":\"carpet\"}],\"table\":[{\"cells\":{\"fill\":{\"color\":\"#EBF0F8\"},\"line\":{\"color\":\"white\"}},\"header\":{\"fill\":{\"color\":\"#C8D4E3\"},\"line\":{\"color\":\"white\"}},\"type\":\"table\"}],\"barpolar\":[{\"marker\":{\"line\":{\"color\":\"#E5ECF6\",\"width\":0.5},\"pattern\":{\"fillmode\":\"overlay\",\"size\":10,\"solidity\":0.2}},\"type\":\"barpolar\"}],\"pie\":[{\"automargin\":true,\"type\":\"pie\"}]},\"layout\":{\"autotypenumbers\":\"strict\",\"colorway\":[\"#636efa\",\"#EF553B\",\"#00cc96\",\"#ab63fa\",\"#FFA15A\",\"#19d3f3\",\"#FF6692\",\"#B6E880\",\"#FF97FF\",\"#FECB52\"],\"font\":{\"color\":\"#2a3f5f\"},\"hovermode\":\"closest\",\"hoverlabel\":{\"align\":\"left\"},\"paper_bgcolor\":\"white\",\"plot_bgcolor\":\"#E5ECF6\",\"polar\":{\"bgcolor\":\"#E5ECF6\",\"angularaxis\":{\"gridcolor\":\"white\",\"linecolor\":\"white\",\"ticks\":\"\"},\"radialaxis\":{\"gridcolor\":\"white\",\"linecolor\":\"white\",\"ticks\":\"\"}},\"ternary\":{\"bgcolor\":\"#E5ECF6\",\"aaxis\":{\"gridcolor\":\"white\",\"linecolor\":\"white\",\"ticks\":\"\"},\"baxis\":{\"gridcolor\":\"white\",\"linecolor\":\"white\",\"ticks\":\"\"},\"caxis\":{\"gridcolor\":\"white\",\"linecolor\":\"white\",\"ticks\":\"\"}},\"coloraxis\":{\"colorbar\":{\"outlinewidth\":0,\"ticks\":\"\"}},\"colorscale\":{\"sequential\":[[0.0,\"#0d0887\"],[0.1111111111111111,\"#46039f\"],[0.2222222222222222,\"#7201a8\"],[0.3333333333333333,\"#9c179e\"],[0.4444444444444444,\"#bd3786\"],[0.5555555555555556,\"#d8576b\"],[0.6666666666666666,\"#ed7953\"],[0.7777777777777778,\"#fb9f3a\"],[0.8888888888888888,\"#fdca26\"],[1.0,\"#f0f921\"]],\"sequentialminus\":[[0.0,\"#0d0887\"],[0.1111111111111111,\"#46039f\"],[0.2222222222222222,\"#7201a8\"],[0.3333333333333333,\"#9c179e\"],[0.4444444444444444,\"#bd3786\"],[0.5555555555555556,\"#d8576b\"],[0.6666666666666666,\"#ed7953\"],[0.7777777777777778,\"#fb9f3a\"],[0.8888888888888888,\"#fdca26\"],[1.0,\"#f0f921\"]],\"diverging\":[[0,\"#8e0152\"],[0.1,\"#c51b7d\"],[0.2,\"#de77ae\"],[0.3,\"#f1b6da\"],[0.4,\"#fde0ef\"],[0.5,\"#f7f7f7\"],[0.6,\"#e6f5d0\"],[0.7,\"#b8e186\"],[0.8,\"#7fbc41\"],[0.9,\"#4d9221\"],[1,\"#276419\"]]},\"xaxis\":{\"gridcolor\":\"white\",\"linecolor\":\"white\",\"ticks\":\"\",\"title\":{\"standoff\":15},\"zerolinecolor\":\"white\",\"automargin\":true,\"zerolinewidth\":2},\"yaxis\":{\"gridcolor\":\"white\",\"linecolor\":\"white\",\"ticks\":\"\",\"title\":{\"standoff\":15},\"zerolinecolor\":\"white\",\"automargin\":true,\"zerolinewidth\":2},\"scene\":{\"xaxis\":{\"backgroundcolor\":\"#E5ECF6\",\"gridcolor\":\"white\",\"linecolor\":\"white\",\"showbackground\":true,\"ticks\":\"\",\"zerolinecolor\":\"white\",\"gridwidth\":2},\"yaxis\":{\"backgroundcolor\":\"#E5ECF6\",\"gridcolor\":\"white\",\"linecolor\":\"white\",\"showbackground\":true,\"ticks\":\"\",\"zerolinecolor\":\"white\",\"gridwidth\":2},\"zaxis\":{\"backgroundcolor\":\"#E5ECF6\",\"gridcolor\":\"white\",\"linecolor\":\"white\",\"showbackground\":true,\"ticks\":\"\",\"zerolinecolor\":\"white\",\"gridwidth\":2}},\"shapedefaults\":{\"line\":{\"color\":\"#2a3f5f\"}},\"annotationdefaults\":{\"arrowcolor\":\"#2a3f5f\",\"arrowhead\":0,\"arrowwidth\":1},\"geo\":{\"bgcolor\":\"white\",\"landcolor\":\"#E5ECF6\",\"subunitcolor\":\"white\",\"showland\":true,\"showlakes\":true,\"lakecolor\":\"white\"},\"title\":{\"x\":0.05},\"mapbox\":{\"style\":\"light\"}}},\"xaxis\":{\"anchor\":\"y\",\"domain\":[0.0,1.0]},\"yaxis\":{\"anchor\":\"x\",\"domain\":[0.0,1.0],\"title\":{\"text\":\"oldpeak\"}},\"legend\":{\"tracegroupgap\":0},\"margin\":{\"t\":60},\"boxmode\":\"group\"},                        {\"responsive\": true}                    ).then(function(){\n",
       "                            \n",
       "var gd = document.getElementById('6e5f21ca-aef9-4db7-a693-94522ace4e43');\n",
       "var x = new MutationObserver(function (mutations, observer) {{\n",
       "        var display = window.getComputedStyle(gd).display;\n",
       "        if (!display || display === 'none') {{\n",
       "            console.log([gd, 'removed!']);\n",
       "            Plotly.purge(gd);\n",
       "            observer.disconnect();\n",
       "        }}\n",
       "}});\n",
       "\n",
       "// Listen for the removal of the full notebook cells\n",
       "var notebookContainer = gd.closest('#notebook-container');\n",
       "if (notebookContainer) {{\n",
       "    x.observe(notebookContainer, {childList: true});\n",
       "}}\n",
       "\n",
       "// Listen for the clearing of the current output cell\n",
       "var outputEl = gd.closest('.output');\n",
       "if (outputEl) {{\n",
       "    x.observe(outputEl, {childList: true});\n",
       "}}\n",
       "\n",
       "                        })                };                });            </script>        </div>"
      ]
     },
     "metadata": {},
     "output_type": "display_data"
    }
   ],
   "source": [
    "fig = px.box(data_frame=df, y='age')\n",
    "fig.show()\n",
    "\n",
    "fig = px.box(data_frame=df, y='trestbps')\n",
    "fig.show()\n",
    "\n",
    "fig = px.box(data_frame=df, y='chol')\n",
    "fig.show()\n",
    "\n",
    "fig = px.box(data_frame=df, y='thalch')\n",
    "fig.show()\n",
    "\n",
    "fig = px.box(data_frame=df, y='oldpeak')\n",
    "fig.show()\n"
   ]
  },
  {
   "cell_type": "markdown",
   "id": "91f0aa66",
   "metadata": {
    "papermill": {
     "duration": 0.047426,
     "end_time": "2024-01-15T10:54:40.172911",
     "exception": false,
     "start_time": "2024-01-15T10:54:40.125485",
     "status": "completed"
    },
    "tags": []
   },
   "source": [
    "--- \n",
    "\n",
    "I'm leaving outliers in the dataset because they can be useful for predictive modeling. Outliers can provide valuable information about the data and help us understand the relationships between variables. They can also help us identify potential errors in the data.\n",
    "\n",
    "---"
   ]
  },
  {
   "cell_type": "markdown",
   "id": "166161a8",
   "metadata": {
    "papermill": {
     "duration": 0.043357,
     "end_time": "2024-01-15T10:54:40.260269",
     "exception": false,
     "start_time": "2024-01-15T10:54:40.216912",
     "status": "completed"
    },
    "tags": []
   },
   "source": [
    "Training the models"
   ]
  },
  {
   "cell_type": "markdown",
   "id": "89dbefc8",
   "metadata": {
    "papermill": {
     "duration": 0.042891,
     "end_time": "2024-01-15T10:54:40.346696",
     "exception": false,
     "start_time": "2024-01-15T10:54:40.303805",
     "status": "completed"
    },
    "tags": []
   },
   "source": [
    "# 1. Decision Tree"
   ]
  },
  {
   "cell_type": "code",
   "execution_count": 43,
   "id": "b3839a2d",
   "metadata": {
    "execution": {
     "iopub.execute_input": "2024-01-15T10:54:40.434854Z",
     "iopub.status.busy": "2024-01-15T10:54:40.434346Z",
     "iopub.status.idle": "2024-01-15T10:54:40.454037Z",
     "shell.execute_reply": "2024-01-15T10:54:40.452789Z"
    },
    "papermill": {
     "duration": 0.067152,
     "end_time": "2024-01-15T10:54:40.456885",
     "exception": false,
     "start_time": "2024-01-15T10:54:40.389733",
     "status": "completed"
    },
    "tags": []
   },
   "outputs": [],
   "source": [
    "# train test split\n",
    "\n",
    "X = df.drop('num', axis=1)\n",
    "y = df['num']\n",
    "\n",
    "# encode the categorical columns using for lopp and le\n",
    "from sklearn.preprocessing import LabelEncoder\n",
    "\n",
    "le = LabelEncoder()\n",
    "for col in X.columns:\n",
    "    if X[col].dtype == 'object' or X[col].dtype == 'category':\n",
    "        X[col] = le.fit_transform(X[col])\n",
    "\n",
    "\n",
    "# split the data into train and test sets\n",
    "X_train, X_test, y_train, y_test = train_test_split(X, y, test_size=0.2 , random_state=42)"
   ]
  },
  {
   "cell_type": "code",
   "execution_count": 44,
   "id": "779cf739",
   "metadata": {
    "execution": {
     "iopub.execute_input": "2024-01-15T10:54:40.551696Z",
     "iopub.status.busy": "2024-01-15T10:54:40.550852Z",
     "iopub.status.idle": "2024-01-15T10:54:40.577621Z",
     "shell.execute_reply": "2024-01-15T10:54:40.576385Z"
    },
    "papermill": {
     "duration": 0.077353,
     "end_time": "2024-01-15T10:54:40.580506",
     "exception": false,
     "start_time": "2024-01-15T10:54:40.503153",
     "status": "completed"
    },
    "tags": []
   },
   "outputs": [
    {
     "name": "stdout",
     "output_type": "stream",
     "text": [
      "Accuracy score:  0.6086956521739131\n",
      "Precision score:  0.6086956521739131\n",
      "Recall score:  0.6086956521739131\n",
      "F1 score:  0.6086956521739131\n",
      "CPU times: user 17.2 ms, sys: 14 µs, total: 17.2 ms\n",
      "Wall time: 17.2 ms\n"
     ]
    }
   ],
   "source": [
    "%%time\n",
    "# train the decision tree model\n",
    "dt = DecisionTreeClassifier(max_depth=5, random_state=42)\n",
    "dt.fit(X_train, y_train)\n",
    "\n",
    "# predict the test data\n",
    "y_pred = dt.predict(X_test)\n",
    "\n",
    "print('Accuracy score: ', accuracy_score(y_test, y_pred))\n",
    "print('Precision score: ', precision_score(y_test, y_pred, average='micro'))\n",
    "print('Recall score: ', recall_score(y_test, y_pred, average='micro'))\n",
    "print('F1 score: ', f1_score(y_test, y_pred, average='micro'))"
   ]
  },
  {
   "cell_type": "markdown",
   "id": "c8e6e01e",
   "metadata": {
    "papermill": {
     "duration": 0.044368,
     "end_time": "2024-01-15T10:54:40.669642",
     "exception": false,
     "start_time": "2024-01-15T10:54:40.625274",
     "status": "completed"
    },
    "tags": []
   },
   "source": [
    "# 2. Random Forest"
   ]
  },
  {
   "cell_type": "code",
   "execution_count": 45,
   "id": "ad85bf9e",
   "metadata": {
    "execution": {
     "iopub.execute_input": "2024-01-15T10:54:40.764219Z",
     "iopub.status.busy": "2024-01-15T10:54:40.763419Z",
     "iopub.status.idle": "2024-01-15T10:54:41.142776Z",
     "shell.execute_reply": "2024-01-15T10:54:41.141392Z"
    },
    "papermill": {
     "duration": 0.431054,
     "end_time": "2024-01-15T10:54:41.145891",
     "exception": false,
     "start_time": "2024-01-15T10:54:40.714837",
     "status": "completed"
    },
    "tags": []
   },
   "outputs": [
    {
     "name": "stdout",
     "output_type": "stream",
     "text": [
      "Accuracy score:  0.6304347826086957\n",
      "Precision score:  0.6304347826086957\n",
      "Recall score:  0.6304347826086957\n",
      "F1 score:  0.6304347826086957\n",
      "CPU times: user 353 ms, sys: 14.6 ms, total: 368 ms\n",
      "Wall time: 369 ms\n"
     ]
    }
   ],
   "source": [
    "%%time\n",
    "# train the random forest model\n",
    "rf = RandomForestClassifier(n_estimators=100, random_state=42)\n",
    "rf.fit(X_train, y_train)\n",
    "\n",
    "# predict the test data\n",
    "y_pred = rf.predict(X_test)\n",
    "\n",
    "print('Accuracy score: ', accuracy_score(y_test, y_pred))\n",
    "print('Precision score: ', precision_score(y_test, y_pred, average='micro'))\n",
    "print('Recall score: ', recall_score(y_test, y_pred, average='micro'))\n",
    "print('F1 score: ', f1_score(y_test, y_pred, average='micro'))"
   ]
  },
  {
   "cell_type": "markdown",
   "id": "a0b1c8af",
   "metadata": {
    "papermill": {
     "duration": 0.046402,
     "end_time": "2024-01-15T10:54:41.241078",
     "exception": false,
     "start_time": "2024-01-15T10:54:41.194676",
     "status": "completed"
    },
    "tags": []
   },
   "source": [
    "3. XGBoost"
   ]
  },
  {
   "cell_type": "code",
   "execution_count": 46,
   "id": "a67f3b27",
   "metadata": {
    "execution": {
     "iopub.execute_input": "2024-01-15T10:54:41.335891Z",
     "iopub.status.busy": "2024-01-15T10:54:41.334355Z",
     "iopub.status.idle": "2024-01-15T10:54:41.793805Z",
     "shell.execute_reply": "2024-01-15T10:54:41.792908Z"
    },
    "papermill": {
     "duration": 0.509994,
     "end_time": "2024-01-15T10:54:41.796834",
     "exception": false,
     "start_time": "2024-01-15T10:54:41.286840",
     "status": "completed"
    },
    "tags": []
   },
   "outputs": [
    {
     "name": "stdout",
     "output_type": "stream",
     "text": [
      "Accuracy score:  0.6739130434782609\n",
      "Precision score:  0.6739130434782609\n",
      "Recall score:  0.6739130434782609\n",
      "F1 score:  0.6739130434782609\n",
      "CPU times: user 1.62 s, sys: 44.8 ms, total: 1.66 s\n",
      "Wall time: 451 ms\n"
     ]
    }
   ],
   "source": [
    "%%time\n",
    "# train the xgboost model\n",
    "xgb = XGBClassifier(n_estimators=100, random_state=42)\n",
    "xgb.fit(X_train, y_train)\n",
    "\n",
    "# predict the test data\n",
    "y_pred = xgb.predict(X_test)\n",
    "\n",
    "print('Accuracy score: ', accuracy_score(y_test, y_pred))\n",
    "print('Precision score: ', precision_score(y_test, y_pred, average='micro'))\n",
    "print('Recall score: ', recall_score(y_test, y_pred, average='micro'))\n",
    "print('F1 score: ', f1_score(y_test, y_pred, average='micro'))"
   ]
  },
  {
   "cell_type": "code",
   "execution_count": 47,
   "id": "21a045c7",
   "metadata": {
    "execution": {
     "iopub.execute_input": "2024-01-15T10:54:41.896899Z",
     "iopub.status.busy": "2024-01-15T10:54:41.895908Z",
     "iopub.status.idle": "2024-01-15T10:54:42.549730Z",
     "shell.execute_reply": "2024-01-15T10:54:42.548549Z"
    },
    "papermill": {
     "duration": 0.708202,
     "end_time": "2024-01-15T10:54:42.552348",
     "exception": false,
     "start_time": "2024-01-15T10:54:41.844146",
     "status": "completed"
    },
    "tags": []
   },
   "outputs": [
    {
     "data": {
      "image/png": "[encoded data removed]",
      "text/plain": [
       "<Figure size 1500x400 with 3 Axes>"
      ]
     },
     "metadata": {},
     "output_type": "display_data"
    }
   ],
   "source": [
    "# make a bar plot showing each of the matrix with respect to the model\n",
    "plt.figure(figsize=(15, 4))\n",
    "plt.subplot(1, 4, 1)\n",
    "sns.barplot(x=['Accuracy', 'Precision', 'Recall', 'F1'], y=[accuracy_score(y_test, y_pred), precision_score(y_test, y_pred, average='micro'), recall_score(y_test, y_pred, average='micro'), f1_score(y_test, y_pred, average='micro')])\n",
    "plt.title('Decision Tree')\n",
    "plt.subplot(1, 4, 2)\n",
    "sns.barplot(x=['Accuracy', 'Precision', 'Recall', 'F1'], y=[accuracy_score(y_test, y_pred), precision_score(y_test, y_pred, average='micro'), recall_score(y_test, y_pred, average='micro'), f1_score(y_test, y_pred, average='micro')])\n",
    "plt.title('Random Forest')\n",
    "plt.subplot(1, 4, 3)\n",
    "sns.barplot(x=['Accuracy', 'Precision', 'Recall', 'F1'], y=[accuracy_score(y_test, y_pred), precision_score(y_test, y_pred, average='micro'), recall_score(y_test, y_pred, average='micro'), f1_score(y_test, y_pred, average='micro')])\n",
    "plt.title('XGBoost')\n",
    "# plt.tight_layout()\n",
    "plt.show()"
   ]
  },
  {
   "cell_type": "markdown",
   "id": "5ae3b6e9",
   "metadata": {
    "papermill": {
     "duration": 0.047545,
     "end_time": "2024-01-15T10:54:42.646234",
     "exception": false,
     "start_time": "2024-01-15T10:54:42.598689",
     "status": "completed"
    },
    "tags": []
   },
   "source": [
    "# Summary of the models:"
   ]
  },
  {
   "cell_type": "markdown",
   "id": "c5c95fea",
   "metadata": {
    "papermill": {
     "duration": 0.044978,
     "end_time": "2024-01-15T10:54:42.737266",
     "exception": false,
     "start_time": "2024-01-15T10:54:42.692288",
     "status": "completed"
    },
    "tags": []
   },
   "source": [
    "Based on the results of your model training, here are some insights and considerations:\n",
    "\n",
    "`Model Performance`\n",
    "\n",
    "`Decision Tree and Random Forest:`\n",
    "\n",
    "Both models have identical scores across all metrics (accuracy, precision, recall, F1 score). This is somewhat unusual as Random Forest, being an ensemble method, typically varies in performance compared to a single Decision Tree.\n",
    "The identical scores suggest that either the Random Forest model is heavily biased towards a particular decision tree, or the dataset characteristics strongly favor a specific decision pattern that all models are picking up identically.\n",
    "\n",
    "`XGBoost:`\n",
    "\n",
    "XGBoost shows a higher performance in all metrics compared to the Decision Tree and Random Forest, indicating it is more effective for this particular dataset.\n",
    "The improvement in performance, however, is not drastic but noticeable.\n",
    "\n",
    "`Computational Efficiency`\n",
    "\n",
    "`Decision Tree: `\n",
    "\n",
    "Fastest in terms of computation time, which is expected as it’s a single model.\n",
    "\n",
    "`Random Forest:`\n",
    "\n",
    "Slower than the Decision Tree due to the nature of ensemble methods, but not excessively so.\n",
    "\n",
    "`XGBoost:`\n",
    " \n",
    "Longest total CPU time, but the wall time is comparable to Random Forest. This indicates efficient parallel processing."
   ]
  },
  {
   "cell_type": "markdown",
   "id": "58ba736d",
   "metadata": {
    "papermill": {
     "duration": 0.046597,
     "end_time": "2024-01-15T10:54:42.829721",
     "exception": false,
     "start_time": "2024-01-15T10:54:42.783124",
     "status": "completed"
    },
    "tags": []
   },
   "source": [
    "# Final Summary\n",
    "\n",
    "In this notebook, I have successfully navigated through several critical stages of a data science project using the UCI Heart Disease dataset. My journey included:\n",
    "\n",
    "`Data Exploration and Preprocessing:`\n",
    "\n",
    "I have effectively explored and understood the dataset, delving into the specifics of various clinical attributes.\n",
    "The preprocessing steps, including handling missing values and outliers, were methodically approached, ensuring the data quality for model training.\n",
    "\n",
    "`Model Training and Evaluation:`\n",
    "\n",
    "I trained three different models: Decision Tree, Random Forest, and XGBoost, with a focus on predicting the presence of heart disease.\n",
    "Each model's performance was evaluated using metrics like accuracy, precision, recall, and F1 score.\n",
    "\n",
    "`Results:`\n",
    "\n",
    "XGBoost showed slightly superior performance compared to the Decision Tree and Random Forest models, though all models need further tuning for improved accuracy."
   ]
  },
  {
   "cell_type": "markdown",
   "id": "7aa9e8b9",
   "metadata": {
    "papermill": {
     "duration": 0.04617,
     "end_time": "2024-01-15T10:54:42.921980",
     "exception": false,
     "start_time": "2024-01-15T10:54:42.875810",
     "status": "completed"
    },
    "tags": []
   },
   "source": [
    "# `Final words:`\n",
    "\n",
    "This is no way the end of the analysis, there is always room for improvement. I will be updating this notebook with different methods to improve the model accuracy and more insights in the future."
   ]
  }
 ],
 "metadata": {
  "kaggle": {
   "accelerator": "none",
   "dataSources": [
    {
     "datasetId": 888463,
     "sourceId": 1508992,
     "sourceType": "datasetVersion"
    }
   ],
   "dockerImageVersionId": 30626,
   "isGpuEnabled": false,
   "isInternetEnabled": true,
   "language": "python",
   "sourceType": "notebook"
  },
  "kernelspec": {
   "display_name": "Python 3",
   "language": "python",
   "name": "python3"
  },
  "language_info": {
   "codemirror_mode": {
    "name": "ipython",
    "version": 3
   },
   "file_extension": ".py",
   "mimetype": "text/x-python",
   "name": "python",
   "nbconvert_exporter": "python",
   "pygments_lexer": "ipython3",
   "version": "3.10.12"
  },
  "papermill": {
   "default_parameters": {},
   "duration": 31.585286,
   "end_time": "2024-01-15T10:54:44.093373",
   "environment_variables": {},
   "exception": null,
   "input_path": "__notebook__.ipynb",
   "output_path": "__notebook__.ipynb",
   "parameters": {},
   "start_time": "2024-01-15T10:54:12.508087",
   "version": "2.4.0"
  }
 },
 "nbformat": 4,
 "nbformat_minor": 5
}
